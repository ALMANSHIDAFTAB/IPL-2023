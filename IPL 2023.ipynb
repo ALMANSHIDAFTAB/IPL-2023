{
 "cells": [
  {
   "cell_type": "code",
   "execution_count": 248,
   "metadata": {},
   "outputs": [],
   "source": [
    "import pandas as pd\n",
    "import numpy as np\n",
    "import matplotlib.pyplot as plt\n",
    "import  plotly.express as px\n",
    "import seaborn as sns\n",
    "\n"
   ]
  },
  {
   "cell_type": "code",
   "execution_count": 249,
   "metadata": {},
   "outputs": [],
   "source": [
    "data=pd.read_csv(\"C:\\\\Users\\\\LENOVO\\\\OneDrive\\\\Desktop\\\\datasets\\\\ipl_2023_dataset.csv\",encoding=(\"utf-8\"))"
   ]
  },
  {
   "cell_type": "code",
   "execution_count": 250,
   "metadata": {},
   "outputs": [
    {
     "name": "stdout",
     "output_type": "stream",
     "text": [
      "   Unnamed: 0       Player Name           Type  Price Cr                 Team\n",
      "0           0       Ben Stokes     All-Rounder     16.25  Chennai Super Kings\n",
      "1           1  Ravindra Jadeja     All-Rounder     16.00  Chennai Super Kings\n",
      "2           2    Deepak Chahar          Bowler     14.00  Chennai Super Kings\n",
      "3           3         MS Dhoni   Wicket-Keeper     12.00  Chennai Super Kings\n",
      "4           4        Moeen Ali     All-Rounder      8.00  Chennai Super Kings\n"
     ]
    }
   ],
   "source": [
    "print(data.head())\n"
   ]
  },
  {
   "cell_type": "code",
   "execution_count": 251,
   "metadata": {},
   "outputs": [
    {
     "data": {
      "text/plain": [
       "Index(['Unnamed: 0', 'Player Name', 'Type', 'Price Cr', 'Team'], dtype='object')"
      ]
     },
     "execution_count": 251,
     "metadata": {},
     "output_type": "execute_result"
    }
   ],
   "source": [
    "data.columns"
   ]
  },
  {
   "cell_type": "code",
   "execution_count": 252,
   "metadata": {},
   "outputs": [],
   "source": [
    "del data[\"Unnamed: 0\"]"
   ]
  },
  {
   "cell_type": "code",
   "execution_count": 253,
   "metadata": {},
   "outputs": [
    {
     "data": {
      "text/plain": [
       "Player Name     object\n",
       "Type            object\n",
       "Price Cr       float64\n",
       "Team            object\n",
       "dtype: object"
      ]
     },
     "execution_count": 253,
     "metadata": {},
     "output_type": "execute_result"
    }
   ],
   "source": [
    "data.dtypes"
   ]
  },
  {
   "cell_type": "code",
   "execution_count": 254,
   "metadata": {},
   "outputs": [
    {
     "data": {
      "text/plain": [
       "Player Name      0\n",
       "Type             0\n",
       "Price Cr       325\n",
       "Team             0\n",
       "dtype: int64"
      ]
     },
     "execution_count": 254,
     "metadata": {},
     "output_type": "execute_result"
    }
   ],
   "source": [
    "data.isnull().sum()"
   ]
  },
  {
   "cell_type": "code",
   "execution_count": 255,
   "metadata": {},
   "outputs": [],
   "source": [
    "data.dropna(inplace=True)"
   ]
  },
  {
   "cell_type": "code",
   "execution_count": 256,
   "metadata": {},
   "outputs": [
    {
     "data": {
      "text/html": [
       "<div>\n",
       "<style scoped>\n",
       "    .dataframe tbody tr th:only-of-type {\n",
       "        vertical-align: middle;\n",
       "    }\n",
       "\n",
       "    .dataframe tbody tr th {\n",
       "        vertical-align: top;\n",
       "    }\n",
       "\n",
       "    .dataframe thead th {\n",
       "        text-align: right;\n",
       "    }\n",
       "</style>\n",
       "<table border=\"1\" class=\"dataframe\">\n",
       "  <thead>\n",
       "    <tr style=\"text-align: right;\">\n",
       "      <th></th>\n",
       "      <th>Player Name</th>\n",
       "      <th>Type</th>\n",
       "      <th>Price Cr</th>\n",
       "      <th>Team</th>\n",
       "    </tr>\n",
       "  </thead>\n",
       "  <tbody>\n",
       "    <tr>\n",
       "      <th>0</th>\n",
       "      <td>Ben Stokes</td>\n",
       "      <td>All-Rounder</td>\n",
       "      <td>16.25</td>\n",
       "      <td>Chennai Super Kings</td>\n",
       "    </tr>\n",
       "    <tr>\n",
       "      <th>1</th>\n",
       "      <td>Ravindra Jadeja</td>\n",
       "      <td>All-Rounder</td>\n",
       "      <td>16.00</td>\n",
       "      <td>Chennai Super Kings</td>\n",
       "    </tr>\n",
       "    <tr>\n",
       "      <th>2</th>\n",
       "      <td>Deepak Chahar</td>\n",
       "      <td>Bowler</td>\n",
       "      <td>14.00</td>\n",
       "      <td>Chennai Super Kings</td>\n",
       "    </tr>\n",
       "    <tr>\n",
       "      <th>3</th>\n",
       "      <td>MS Dhoni</td>\n",
       "      <td>Wicket-Keeper</td>\n",
       "      <td>12.00</td>\n",
       "      <td>Chennai Super Kings</td>\n",
       "    </tr>\n",
       "    <tr>\n",
       "      <th>4</th>\n",
       "      <td>Moeen Ali</td>\n",
       "      <td>All-Rounder</td>\n",
       "      <td>8.00</td>\n",
       "      <td>Chennai Super Kings</td>\n",
       "    </tr>\n",
       "    <tr>\n",
       "      <th>...</th>\n",
       "      <td>...</td>\n",
       "      <td>...</td>\n",
       "      <td>...</td>\n",
       "      <td>...</td>\n",
       "    </tr>\n",
       "    <tr>\n",
       "      <th>238</th>\n",
       "      <td>Upendra Yadav</td>\n",
       "      <td>Wicket-Keeper</td>\n",
       "      <td>0.25</td>\n",
       "      <td>Sunrisers Hyderabad</td>\n",
       "    </tr>\n",
       "    <tr>\n",
       "      <th>239</th>\n",
       "      <td>Sanvir Singh</td>\n",
       "      <td>All-Rounder</td>\n",
       "      <td>0.20</td>\n",
       "      <td>Sunrisers Hyderabad</td>\n",
       "    </tr>\n",
       "    <tr>\n",
       "      <th>240</th>\n",
       "      <td>Samarth Vyas</td>\n",
       "      <td>All-Rounder</td>\n",
       "      <td>0.20</td>\n",
       "      <td>Sunrisers Hyderabad</td>\n",
       "    </tr>\n",
       "    <tr>\n",
       "      <th>241</th>\n",
       "      <td>Nitish Kumar Reddy</td>\n",
       "      <td>Wicket-Keeper</td>\n",
       "      <td>0.20</td>\n",
       "      <td>Sunrisers Hyderabad</td>\n",
       "    </tr>\n",
       "    <tr>\n",
       "      <th>242</th>\n",
       "      <td>Anmolpreet Singh</td>\n",
       "      <td>Batter</td>\n",
       "      <td>0.20</td>\n",
       "      <td>Sunrisers Hyderabad</td>\n",
       "    </tr>\n",
       "  </tbody>\n",
       "</table>\n",
       "<p>243 rows × 4 columns</p>\n",
       "</div>"
      ],
      "text/plain": [
       "             Player Name           Type  Price Cr                 Team\n",
       "0            Ben Stokes     All-Rounder     16.25  Chennai Super Kings\n",
       "1       Ravindra Jadeja     All-Rounder     16.00  Chennai Super Kings\n",
       "2         Deepak Chahar          Bowler     14.00  Chennai Super Kings\n",
       "3              MS Dhoni   Wicket-Keeper     12.00  Chennai Super Kings\n",
       "4             Moeen Ali     All-Rounder      8.00  Chennai Super Kings\n",
       "..                   ...            ...       ...                  ...\n",
       "238       Upendra Yadav   Wicket-Keeper      0.25  Sunrisers Hyderabad\n",
       "239        Sanvir Singh     All-Rounder      0.20  Sunrisers Hyderabad\n",
       "240        Samarth Vyas     All-Rounder      0.20  Sunrisers Hyderabad\n",
       "241  Nitish Kumar Reddy   Wicket-Keeper      0.20  Sunrisers Hyderabad\n",
       "242    Anmolpreet Singh          Batter      0.20  Sunrisers Hyderabad\n",
       "\n",
       "[243 rows x 4 columns]"
      ]
     },
     "execution_count": 256,
     "metadata": {},
     "output_type": "execute_result"
    }
   ],
   "source": [
    "data.drop_duplicates()"
   ]
  },
  {
   "cell_type": "code",
   "execution_count": 257,
   "metadata": {},
   "outputs": [
    {
     "data": {
      "text/html": [
       "<div>\n",
       "<style scoped>\n",
       "    .dataframe tbody tr th:only-of-type {\n",
       "        vertical-align: middle;\n",
       "    }\n",
       "\n",
       "    .dataframe tbody tr th {\n",
       "        vertical-align: top;\n",
       "    }\n",
       "\n",
       "    .dataframe thead th {\n",
       "        text-align: right;\n",
       "    }\n",
       "</style>\n",
       "<table border=\"1\" class=\"dataframe\">\n",
       "  <thead>\n",
       "    <tr style=\"text-align: right;\">\n",
       "      <th></th>\n",
       "      <th>Player Name</th>\n",
       "      <th>Type</th>\n",
       "      <th>Price Cr</th>\n",
       "      <th>Team</th>\n",
       "    </tr>\n",
       "  </thead>\n",
       "  <tbody>\n",
       "    <tr>\n",
       "      <th>0</th>\n",
       "      <td>Ben Stokes</td>\n",
       "      <td>All-Rounder</td>\n",
       "      <td>16.25</td>\n",
       "      <td>Chennai Super Kings</td>\n",
       "    </tr>\n",
       "    <tr>\n",
       "      <th>1</th>\n",
       "      <td>Ravindra Jadeja</td>\n",
       "      <td>All-Rounder</td>\n",
       "      <td>16.00</td>\n",
       "      <td>Chennai Super Kings</td>\n",
       "    </tr>\n",
       "    <tr>\n",
       "      <th>2</th>\n",
       "      <td>Deepak Chahar</td>\n",
       "      <td>Bowler</td>\n",
       "      <td>14.00</td>\n",
       "      <td>Chennai Super Kings</td>\n",
       "    </tr>\n",
       "    <tr>\n",
       "      <th>3</th>\n",
       "      <td>MS Dhoni</td>\n",
       "      <td>Wicket-Keeper</td>\n",
       "      <td>12.00</td>\n",
       "      <td>Chennai Super Kings</td>\n",
       "    </tr>\n",
       "    <tr>\n",
       "      <th>4</th>\n",
       "      <td>Moeen Ali</td>\n",
       "      <td>All-Rounder</td>\n",
       "      <td>8.00</td>\n",
       "      <td>Chennai Super Kings</td>\n",
       "    </tr>\n",
       "    <tr>\n",
       "      <th>...</th>\n",
       "      <td>...</td>\n",
       "      <td>...</td>\n",
       "      <td>...</td>\n",
       "      <td>...</td>\n",
       "    </tr>\n",
       "    <tr>\n",
       "      <th>238</th>\n",
       "      <td>Upendra Yadav</td>\n",
       "      <td>Wicket-Keeper</td>\n",
       "      <td>0.25</td>\n",
       "      <td>Sunrisers Hyderabad</td>\n",
       "    </tr>\n",
       "    <tr>\n",
       "      <th>239</th>\n",
       "      <td>Sanvir Singh</td>\n",
       "      <td>All-Rounder</td>\n",
       "      <td>0.20</td>\n",
       "      <td>Sunrisers Hyderabad</td>\n",
       "    </tr>\n",
       "    <tr>\n",
       "      <th>240</th>\n",
       "      <td>Samarth Vyas</td>\n",
       "      <td>All-Rounder</td>\n",
       "      <td>0.20</td>\n",
       "      <td>Sunrisers Hyderabad</td>\n",
       "    </tr>\n",
       "    <tr>\n",
       "      <th>241</th>\n",
       "      <td>Nitish Kumar Reddy</td>\n",
       "      <td>Wicket-Keeper</td>\n",
       "      <td>0.20</td>\n",
       "      <td>Sunrisers Hyderabad</td>\n",
       "    </tr>\n",
       "    <tr>\n",
       "      <th>242</th>\n",
       "      <td>Anmolpreet Singh</td>\n",
       "      <td>Batter</td>\n",
       "      <td>0.20</td>\n",
       "      <td>Sunrisers Hyderabad</td>\n",
       "    </tr>\n",
       "  </tbody>\n",
       "</table>\n",
       "<p>243 rows × 4 columns</p>\n",
       "</div>"
      ],
      "text/plain": [
       "             Player Name           Type  Price Cr                 Team\n",
       "0            Ben Stokes     All-Rounder     16.25  Chennai Super Kings\n",
       "1       Ravindra Jadeja     All-Rounder     16.00  Chennai Super Kings\n",
       "2         Deepak Chahar          Bowler     14.00  Chennai Super Kings\n",
       "3              MS Dhoni   Wicket-Keeper     12.00  Chennai Super Kings\n",
       "4             Moeen Ali     All-Rounder      8.00  Chennai Super Kings\n",
       "..                   ...            ...       ...                  ...\n",
       "238       Upendra Yadav   Wicket-Keeper      0.25  Sunrisers Hyderabad\n",
       "239        Sanvir Singh     All-Rounder      0.20  Sunrisers Hyderabad\n",
       "240        Samarth Vyas     All-Rounder      0.20  Sunrisers Hyderabad\n",
       "241  Nitish Kumar Reddy   Wicket-Keeper      0.20  Sunrisers Hyderabad\n",
       "242    Anmolpreet Singh          Batter      0.20  Sunrisers Hyderabad\n",
       "\n",
       "[243 rows x 4 columns]"
      ]
     },
     "execution_count": 257,
     "metadata": {},
     "output_type": "execute_result"
    }
   ],
   "source": [
    "data.reset_index(drop=True)"
   ]
  },
  {
   "cell_type": "code",
   "execution_count": 258,
   "metadata": {},
   "outputs": [
    {
     "data": {
      "text/html": [
       "<div>\n",
       "<style scoped>\n",
       "    .dataframe tbody tr th:only-of-type {\n",
       "        vertical-align: middle;\n",
       "    }\n",
       "\n",
       "    .dataframe tbody tr th {\n",
       "        vertical-align: top;\n",
       "    }\n",
       "\n",
       "    .dataframe thead th {\n",
       "        text-align: right;\n",
       "    }\n",
       "</style>\n",
       "<table border=\"1\" class=\"dataframe\">\n",
       "  <thead>\n",
       "    <tr style=\"text-align: right;\">\n",
       "      <th></th>\n",
       "      <th>Player Name</th>\n",
       "      <th>Type</th>\n",
       "      <th>Price Cr</th>\n",
       "      <th>Team</th>\n",
       "    </tr>\n",
       "  </thead>\n",
       "  <tbody>\n",
       "    <tr>\n",
       "      <th>0</th>\n",
       "      <td>Ben Stokes</td>\n",
       "      <td>All-Rounder</td>\n",
       "      <td>16.25</td>\n",
       "      <td>Chennai Super Kings</td>\n",
       "    </tr>\n",
       "    <tr>\n",
       "      <th>1</th>\n",
       "      <td>Ravindra Jadeja</td>\n",
       "      <td>All-Rounder</td>\n",
       "      <td>16.00</td>\n",
       "      <td>Chennai Super Kings</td>\n",
       "    </tr>\n",
       "    <tr>\n",
       "      <th>2</th>\n",
       "      <td>Deepak Chahar</td>\n",
       "      <td>Bowler</td>\n",
       "      <td>14.00</td>\n",
       "      <td>Chennai Super Kings</td>\n",
       "    </tr>\n",
       "    <tr>\n",
       "      <th>3</th>\n",
       "      <td>MS Dhoni</td>\n",
       "      <td>Wicket-Keeper</td>\n",
       "      <td>12.00</td>\n",
       "      <td>Chennai Super Kings</td>\n",
       "    </tr>\n",
       "    <tr>\n",
       "      <th>4</th>\n",
       "      <td>Moeen Ali</td>\n",
       "      <td>All-Rounder</td>\n",
       "      <td>8.00</td>\n",
       "      <td>Chennai Super Kings</td>\n",
       "    </tr>\n",
       "    <tr>\n",
       "      <th>...</th>\n",
       "      <td>...</td>\n",
       "      <td>...</td>\n",
       "      <td>...</td>\n",
       "      <td>...</td>\n",
       "    </tr>\n",
       "    <tr>\n",
       "      <th>238</th>\n",
       "      <td>Upendra Yadav</td>\n",
       "      <td>Wicket-Keeper</td>\n",
       "      <td>0.25</td>\n",
       "      <td>Sunrisers Hyderabad</td>\n",
       "    </tr>\n",
       "    <tr>\n",
       "      <th>239</th>\n",
       "      <td>Sanvir Singh</td>\n",
       "      <td>All-Rounder</td>\n",
       "      <td>0.20</td>\n",
       "      <td>Sunrisers Hyderabad</td>\n",
       "    </tr>\n",
       "    <tr>\n",
       "      <th>240</th>\n",
       "      <td>Samarth Vyas</td>\n",
       "      <td>All-Rounder</td>\n",
       "      <td>0.20</td>\n",
       "      <td>Sunrisers Hyderabad</td>\n",
       "    </tr>\n",
       "    <tr>\n",
       "      <th>241</th>\n",
       "      <td>Nitish Kumar Reddy</td>\n",
       "      <td>Wicket-Keeper</td>\n",
       "      <td>0.20</td>\n",
       "      <td>Sunrisers Hyderabad</td>\n",
       "    </tr>\n",
       "    <tr>\n",
       "      <th>242</th>\n",
       "      <td>Anmolpreet Singh</td>\n",
       "      <td>Batter</td>\n",
       "      <td>0.20</td>\n",
       "      <td>Sunrisers Hyderabad</td>\n",
       "    </tr>\n",
       "  </tbody>\n",
       "</table>\n",
       "<p>243 rows × 4 columns</p>\n",
       "</div>"
      ],
      "text/plain": [
       "             Player Name           Type  Price Cr                 Team\n",
       "0            Ben Stokes     All-Rounder     16.25  Chennai Super Kings\n",
       "1       Ravindra Jadeja     All-Rounder     16.00  Chennai Super Kings\n",
       "2         Deepak Chahar          Bowler     14.00  Chennai Super Kings\n",
       "3              MS Dhoni   Wicket-Keeper     12.00  Chennai Super Kings\n",
       "4             Moeen Ali     All-Rounder      8.00  Chennai Super Kings\n",
       "..                   ...            ...       ...                  ...\n",
       "238       Upendra Yadav   Wicket-Keeper      0.25  Sunrisers Hyderabad\n",
       "239        Sanvir Singh     All-Rounder      0.20  Sunrisers Hyderabad\n",
       "240        Samarth Vyas     All-Rounder      0.20  Sunrisers Hyderabad\n",
       "241  Nitish Kumar Reddy   Wicket-Keeper      0.20  Sunrisers Hyderabad\n",
       "242    Anmolpreet Singh          Batter      0.20  Sunrisers Hyderabad\n",
       "\n",
       "[243 rows x 4 columns]"
      ]
     },
     "execution_count": 258,
     "metadata": {},
     "output_type": "execute_result"
    }
   ],
   "source": [
    "data"
   ]
  },
  {
   "cell_type": "code",
   "execution_count": 259,
   "metadata": {},
   "outputs": [
    {
     "data": {
      "text/plain": [
       "Bowler           99\n",
       "All-Rounder      61\n",
       "Batter           55\n",
       "Wicket-Keeper    28\n",
       "Name: Type, dtype: int64"
      ]
     },
     "execution_count": 259,
     "metadata": {},
     "output_type": "execute_result"
    }
   ],
   "source": [
    "Typecount=data['Type'].value_counts()\n",
    "Typecount"
   ]
  },
  {
   "cell_type": "code",
   "execution_count": 260,
   "metadata": {},
   "outputs": [
    {
     "data": {
      "application/vnd.plotly.v1+json": {
       "config": {
        "plotlyServerURL": "https://plot.ly"
       },
       "data": [
        {
         "alignmentgroup": "True",
         "hovertemplate": "index=%{x}<br>value=%{y}<br>color=%{marker.color}<extra></extra>",
         "legendgroup": "",
         "marker": {
          "color": [
           99,
           61,
           55,
           28
          ],
          "coloraxis": "coloraxis",
          "pattern": {
           "shape": ""
          }
         },
         "name": "",
         "offsetgroup": "",
         "orientation": "v",
         "showlegend": false,
         "textposition": "auto",
         "texttemplate": "%{y:True}",
         "type": "bar",
         "x": [
          "Bowler",
          "All-Rounder",
          "Batter",
          "Wicket-Keeper"
         ],
         "xaxis": "x",
         "y": [
          99,
          61,
          55,
          28
         ],
         "yaxis": "y"
        }
       ],
       "layout": {
        "barmode": "relative",
        "coloraxis": {
         "colorbar": {
          "title": {
           "text": "color"
          }
         },
         "colorscale": [
          [
           0,
           "#0d0887"
          ],
          [
           0.1111111111111111,
           "#46039f"
          ],
          [
           0.2222222222222222,
           "#7201a8"
          ],
          [
           0.3333333333333333,
           "#9c179e"
          ],
          [
           0.4444444444444444,
           "#bd3786"
          ],
          [
           0.5555555555555556,
           "#d8576b"
          ],
          [
           0.6666666666666666,
           "#ed7953"
          ],
          [
           0.7777777777777778,
           "#fb9f3a"
          ],
          [
           0.8888888888888888,
           "#fdca26"
          ],
          [
           1,
           "#f0f921"
          ]
         ]
        },
        "legend": {
         "tracegroupgap": 0
        },
        "margin": {
         "t": 60
        },
        "template": {
         "data": {
          "bar": [
           {
            "error_x": {
             "color": "#2a3f5f"
            },
            "error_y": {
             "color": "#2a3f5f"
            },
            "marker": {
             "line": {
              "color": "#E5ECF6",
              "width": 0.5
             },
             "pattern": {
              "fillmode": "overlay",
              "size": 10,
              "solidity": 0.2
             }
            },
            "type": "bar"
           }
          ],
          "barpolar": [
           {
            "marker": {
             "line": {
              "color": "#E5ECF6",
              "width": 0.5
             },
             "pattern": {
              "fillmode": "overlay",
              "size": 10,
              "solidity": 0.2
             }
            },
            "type": "barpolar"
           }
          ],
          "carpet": [
           {
            "aaxis": {
             "endlinecolor": "#2a3f5f",
             "gridcolor": "white",
             "linecolor": "white",
             "minorgridcolor": "white",
             "startlinecolor": "#2a3f5f"
            },
            "baxis": {
             "endlinecolor": "#2a3f5f",
             "gridcolor": "white",
             "linecolor": "white",
             "minorgridcolor": "white",
             "startlinecolor": "#2a3f5f"
            },
            "type": "carpet"
           }
          ],
          "choropleth": [
           {
            "colorbar": {
             "outlinewidth": 0,
             "ticks": ""
            },
            "type": "choropleth"
           }
          ],
          "contour": [
           {
            "colorbar": {
             "outlinewidth": 0,
             "ticks": ""
            },
            "colorscale": [
             [
              0,
              "#0d0887"
             ],
             [
              0.1111111111111111,
              "#46039f"
             ],
             [
              0.2222222222222222,
              "#7201a8"
             ],
             [
              0.3333333333333333,
              "#9c179e"
             ],
             [
              0.4444444444444444,
              "#bd3786"
             ],
             [
              0.5555555555555556,
              "#d8576b"
             ],
             [
              0.6666666666666666,
              "#ed7953"
             ],
             [
              0.7777777777777778,
              "#fb9f3a"
             ],
             [
              0.8888888888888888,
              "#fdca26"
             ],
             [
              1,
              "#f0f921"
             ]
            ],
            "type": "contour"
           }
          ],
          "contourcarpet": [
           {
            "colorbar": {
             "outlinewidth": 0,
             "ticks": ""
            },
            "type": "contourcarpet"
           }
          ],
          "heatmap": [
           {
            "colorbar": {
             "outlinewidth": 0,
             "ticks": ""
            },
            "colorscale": [
             [
              0,
              "#0d0887"
             ],
             [
              0.1111111111111111,
              "#46039f"
             ],
             [
              0.2222222222222222,
              "#7201a8"
             ],
             [
              0.3333333333333333,
              "#9c179e"
             ],
             [
              0.4444444444444444,
              "#bd3786"
             ],
             [
              0.5555555555555556,
              "#d8576b"
             ],
             [
              0.6666666666666666,
              "#ed7953"
             ],
             [
              0.7777777777777778,
              "#fb9f3a"
             ],
             [
              0.8888888888888888,
              "#fdca26"
             ],
             [
              1,
              "#f0f921"
             ]
            ],
            "type": "heatmap"
           }
          ],
          "heatmapgl": [
           {
            "colorbar": {
             "outlinewidth": 0,
             "ticks": ""
            },
            "colorscale": [
             [
              0,
              "#0d0887"
             ],
             [
              0.1111111111111111,
              "#46039f"
             ],
             [
              0.2222222222222222,
              "#7201a8"
             ],
             [
              0.3333333333333333,
              "#9c179e"
             ],
             [
              0.4444444444444444,
              "#bd3786"
             ],
             [
              0.5555555555555556,
              "#d8576b"
             ],
             [
              0.6666666666666666,
              "#ed7953"
             ],
             [
              0.7777777777777778,
              "#fb9f3a"
             ],
             [
              0.8888888888888888,
              "#fdca26"
             ],
             [
              1,
              "#f0f921"
             ]
            ],
            "type": "heatmapgl"
           }
          ],
          "histogram": [
           {
            "marker": {
             "pattern": {
              "fillmode": "overlay",
              "size": 10,
              "solidity": 0.2
             }
            },
            "type": "histogram"
           }
          ],
          "histogram2d": [
           {
            "colorbar": {
             "outlinewidth": 0,
             "ticks": ""
            },
            "colorscale": [
             [
              0,
              "#0d0887"
             ],
             [
              0.1111111111111111,
              "#46039f"
             ],
             [
              0.2222222222222222,
              "#7201a8"
             ],
             [
              0.3333333333333333,
              "#9c179e"
             ],
             [
              0.4444444444444444,
              "#bd3786"
             ],
             [
              0.5555555555555556,
              "#d8576b"
             ],
             [
              0.6666666666666666,
              "#ed7953"
             ],
             [
              0.7777777777777778,
              "#fb9f3a"
             ],
             [
              0.8888888888888888,
              "#fdca26"
             ],
             [
              1,
              "#f0f921"
             ]
            ],
            "type": "histogram2d"
           }
          ],
          "histogram2dcontour": [
           {
            "colorbar": {
             "outlinewidth": 0,
             "ticks": ""
            },
            "colorscale": [
             [
              0,
              "#0d0887"
             ],
             [
              0.1111111111111111,
              "#46039f"
             ],
             [
              0.2222222222222222,
              "#7201a8"
             ],
             [
              0.3333333333333333,
              "#9c179e"
             ],
             [
              0.4444444444444444,
              "#bd3786"
             ],
             [
              0.5555555555555556,
              "#d8576b"
             ],
             [
              0.6666666666666666,
              "#ed7953"
             ],
             [
              0.7777777777777778,
              "#fb9f3a"
             ],
             [
              0.8888888888888888,
              "#fdca26"
             ],
             [
              1,
              "#f0f921"
             ]
            ],
            "type": "histogram2dcontour"
           }
          ],
          "mesh3d": [
           {
            "colorbar": {
             "outlinewidth": 0,
             "ticks": ""
            },
            "type": "mesh3d"
           }
          ],
          "parcoords": [
           {
            "line": {
             "colorbar": {
              "outlinewidth": 0,
              "ticks": ""
             }
            },
            "type": "parcoords"
           }
          ],
          "pie": [
           {
            "automargin": true,
            "type": "pie"
           }
          ],
          "scatter": [
           {
            "fillpattern": {
             "fillmode": "overlay",
             "size": 10,
             "solidity": 0.2
            },
            "type": "scatter"
           }
          ],
          "scatter3d": [
           {
            "line": {
             "colorbar": {
              "outlinewidth": 0,
              "ticks": ""
             }
            },
            "marker": {
             "colorbar": {
              "outlinewidth": 0,
              "ticks": ""
             }
            },
            "type": "scatter3d"
           }
          ],
          "scattercarpet": [
           {
            "marker": {
             "colorbar": {
              "outlinewidth": 0,
              "ticks": ""
             }
            },
            "type": "scattercarpet"
           }
          ],
          "scattergeo": [
           {
            "marker": {
             "colorbar": {
              "outlinewidth": 0,
              "ticks": ""
             }
            },
            "type": "scattergeo"
           }
          ],
          "scattergl": [
           {
            "marker": {
             "colorbar": {
              "outlinewidth": 0,
              "ticks": ""
             }
            },
            "type": "scattergl"
           }
          ],
          "scattermapbox": [
           {
            "marker": {
             "colorbar": {
              "outlinewidth": 0,
              "ticks": ""
             }
            },
            "type": "scattermapbox"
           }
          ],
          "scatterpolar": [
           {
            "marker": {
             "colorbar": {
              "outlinewidth": 0,
              "ticks": ""
             }
            },
            "type": "scatterpolar"
           }
          ],
          "scatterpolargl": [
           {
            "marker": {
             "colorbar": {
              "outlinewidth": 0,
              "ticks": ""
             }
            },
            "type": "scatterpolargl"
           }
          ],
          "scatterternary": [
           {
            "marker": {
             "colorbar": {
              "outlinewidth": 0,
              "ticks": ""
             }
            },
            "type": "scatterternary"
           }
          ],
          "surface": [
           {
            "colorbar": {
             "outlinewidth": 0,
             "ticks": ""
            },
            "colorscale": [
             [
              0,
              "#0d0887"
             ],
             [
              0.1111111111111111,
              "#46039f"
             ],
             [
              0.2222222222222222,
              "#7201a8"
             ],
             [
              0.3333333333333333,
              "#9c179e"
             ],
             [
              0.4444444444444444,
              "#bd3786"
             ],
             [
              0.5555555555555556,
              "#d8576b"
             ],
             [
              0.6666666666666666,
              "#ed7953"
             ],
             [
              0.7777777777777778,
              "#fb9f3a"
             ],
             [
              0.8888888888888888,
              "#fdca26"
             ],
             [
              1,
              "#f0f921"
             ]
            ],
            "type": "surface"
           }
          ],
          "table": [
           {
            "cells": {
             "fill": {
              "color": "#EBF0F8"
             },
             "line": {
              "color": "white"
             }
            },
            "header": {
             "fill": {
              "color": "#C8D4E3"
             },
             "line": {
              "color": "white"
             }
            },
            "type": "table"
           }
          ]
         },
         "layout": {
          "annotationdefaults": {
           "arrowcolor": "#2a3f5f",
           "arrowhead": 0,
           "arrowwidth": 1
          },
          "autotypenumbers": "strict",
          "coloraxis": {
           "colorbar": {
            "outlinewidth": 0,
            "ticks": ""
           }
          },
          "colorscale": {
           "diverging": [
            [
             0,
             "#8e0152"
            ],
            [
             0.1,
             "#c51b7d"
            ],
            [
             0.2,
             "#de77ae"
            ],
            [
             0.3,
             "#f1b6da"
            ],
            [
             0.4,
             "#fde0ef"
            ],
            [
             0.5,
             "#f7f7f7"
            ],
            [
             0.6,
             "#e6f5d0"
            ],
            [
             0.7,
             "#b8e186"
            ],
            [
             0.8,
             "#7fbc41"
            ],
            [
             0.9,
             "#4d9221"
            ],
            [
             1,
             "#276419"
            ]
           ],
           "sequential": [
            [
             0,
             "#0d0887"
            ],
            [
             0.1111111111111111,
             "#46039f"
            ],
            [
             0.2222222222222222,
             "#7201a8"
            ],
            [
             0.3333333333333333,
             "#9c179e"
            ],
            [
             0.4444444444444444,
             "#bd3786"
            ],
            [
             0.5555555555555556,
             "#d8576b"
            ],
            [
             0.6666666666666666,
             "#ed7953"
            ],
            [
             0.7777777777777778,
             "#fb9f3a"
            ],
            [
             0.8888888888888888,
             "#fdca26"
            ],
            [
             1,
             "#f0f921"
            ]
           ],
           "sequentialminus": [
            [
             0,
             "#0d0887"
            ],
            [
             0.1111111111111111,
             "#46039f"
            ],
            [
             0.2222222222222222,
             "#7201a8"
            ],
            [
             0.3333333333333333,
             "#9c179e"
            ],
            [
             0.4444444444444444,
             "#bd3786"
            ],
            [
             0.5555555555555556,
             "#d8576b"
            ],
            [
             0.6666666666666666,
             "#ed7953"
            ],
            [
             0.7777777777777778,
             "#fb9f3a"
            ],
            [
             0.8888888888888888,
             "#fdca26"
            ],
            [
             1,
             "#f0f921"
            ]
           ]
          },
          "colorway": [
           "#636efa",
           "#EF553B",
           "#00cc96",
           "#ab63fa",
           "#FFA15A",
           "#19d3f3",
           "#FF6692",
           "#B6E880",
           "#FF97FF",
           "#FECB52"
          ],
          "font": {
           "color": "#2a3f5f"
          },
          "geo": {
           "bgcolor": "white",
           "lakecolor": "white",
           "landcolor": "#E5ECF6",
           "showlakes": true,
           "showland": true,
           "subunitcolor": "white"
          },
          "hoverlabel": {
           "align": "left"
          },
          "hovermode": "closest",
          "mapbox": {
           "style": "light"
          },
          "paper_bgcolor": "white",
          "plot_bgcolor": "#E5ECF6",
          "polar": {
           "angularaxis": {
            "gridcolor": "white",
            "linecolor": "white",
            "ticks": ""
           },
           "bgcolor": "#E5ECF6",
           "radialaxis": {
            "gridcolor": "white",
            "linecolor": "white",
            "ticks": ""
           }
          },
          "scene": {
           "xaxis": {
            "backgroundcolor": "#E5ECF6",
            "gridcolor": "white",
            "gridwidth": 2,
            "linecolor": "white",
            "showbackground": true,
            "ticks": "",
            "zerolinecolor": "white"
           },
           "yaxis": {
            "backgroundcolor": "#E5ECF6",
            "gridcolor": "white",
            "gridwidth": 2,
            "linecolor": "white",
            "showbackground": true,
            "ticks": "",
            "zerolinecolor": "white"
           },
           "zaxis": {
            "backgroundcolor": "#E5ECF6",
            "gridcolor": "white",
            "gridwidth": 2,
            "linecolor": "white",
            "showbackground": true,
            "ticks": "",
            "zerolinecolor": "white"
           }
          },
          "shapedefaults": {
           "line": {
            "color": "#2a3f5f"
           }
          },
          "ternary": {
           "aaxis": {
            "gridcolor": "white",
            "linecolor": "white",
            "ticks": ""
           },
           "baxis": {
            "gridcolor": "white",
            "linecolor": "white",
            "ticks": ""
           },
           "bgcolor": "#E5ECF6",
           "caxis": {
            "gridcolor": "white",
            "linecolor": "white",
            "ticks": ""
           }
          },
          "title": {
           "x": 0.05
          },
          "xaxis": {
           "automargin": true,
           "gridcolor": "white",
           "linecolor": "white",
           "ticks": "",
           "title": {
            "standoff": 15
           },
           "zerolinecolor": "white",
           "zerolinewidth": 2
          },
          "yaxis": {
           "automargin": true,
           "gridcolor": "white",
           "linecolor": "white",
           "ticks": "",
           "title": {
            "standoff": 15
           },
           "zerolinecolor": "white",
           "zerolinewidth": 2
          }
         }
        },
        "xaxis": {
         "anchor": "y",
         "domain": [
          0,
          1
         ],
         "title": {
          "text": "index"
         }
        },
        "yaxis": {
         "anchor": "x",
         "domain": [
          0,
          1
         ],
         "title": {
          "text": "value"
         }
        }
       }
      }
     },
     "metadata": {},
     "output_type": "display_data"
    }
   ],
   "source": [
    "px.bar(Typecount,color=Typecount,text_auto='True')"
   ]
  },
  {
   "cell_type": "code",
   "execution_count": 261,
   "metadata": {},
   "outputs": [
    {
     "data": {
      "text/plain": [
       "0              Ben Stokes \n",
       "1         Ravindra Jadeja \n",
       "2           Deepak Chahar \n",
       "3                MS Dhoni \n",
       "4               Moeen Ali \n",
       "              ...         \n",
       "238         Upendra Yadav \n",
       "239          Sanvir Singh \n",
       "240          Samarth Vyas \n",
       "241    Nitish Kumar Reddy \n",
       "242      Anmolpreet Singh \n",
       "Name: Player Name, Length: 243, dtype: object"
      ]
     },
     "execution_count": 261,
     "metadata": {},
     "output_type": "execute_result"
    }
   ],
   "source": [
    "name=data['Player Name']\n",
    "name"
   ]
  },
  {
   "cell_type": "code",
   "execution_count": 262,
   "metadata": {},
   "outputs": [
    {
     "data": {
      "text/plain": [
       "0        All-Rounder\n",
       "1        All-Rounder\n",
       "2             Bowler\n",
       "3      Wicket-Keeper\n",
       "4        All-Rounder\n",
       "           ...      \n",
       "238    Wicket-Keeper\n",
       "239      All-Rounder\n",
       "240      All-Rounder\n",
       "241    Wicket-Keeper\n",
       "242           Batter\n",
       "Name: Type, Length: 243, dtype: object"
      ]
     },
     "execution_count": 262,
     "metadata": {},
     "output_type": "execute_result"
    }
   ],
   "source": [
    "type=data['Type']\n",
    "type"
   ]
  },
  {
   "cell_type": "code",
   "execution_count": 263,
   "metadata": {},
   "outputs": [
    {
     "data": {
      "text/plain": [
       "0      16.25\n",
       "1      16.00\n",
       "2      14.00\n",
       "3      12.00\n",
       "4       8.00\n",
       "       ...  \n",
       "238     0.25\n",
       "239     0.20\n",
       "240     0.20\n",
       "241     0.20\n",
       "242     0.20\n",
       "Name: Price Cr, Length: 243, dtype: float64"
      ]
     },
     "execution_count": 263,
     "metadata": {},
     "output_type": "execute_result"
    }
   ],
   "source": [
    "price=data['Price Cr']\n",
    "price"
   ]
  },
  {
   "cell_type": "code",
   "execution_count": 264,
   "metadata": {},
   "outputs": [
    {
     "data": {
      "text/plain": [
       "0      Chennai Super Kings\n",
       "1      Chennai Super Kings\n",
       "2      Chennai Super Kings\n",
       "3      Chennai Super Kings\n",
       "4      Chennai Super Kings\n",
       "              ...         \n",
       "238    Sunrisers Hyderabad\n",
       "239    Sunrisers Hyderabad\n",
       "240    Sunrisers Hyderabad\n",
       "241    Sunrisers Hyderabad\n",
       "242    Sunrisers Hyderabad\n",
       "Name: Team, Length: 243, dtype: object"
      ]
     },
     "execution_count": 264,
     "metadata": {},
     "output_type": "execute_result"
    }
   ],
   "source": [
    "team=data['Team']\n",
    "team"
   ]
  },
  {
   "cell_type": "code",
   "execution_count": 265,
   "metadata": {},
   "outputs": [
    {
     "data": {
      "application/vnd.plotly.v1+json": {
       "config": {
        "plotlyServerURL": "https://plot.ly"
       },
       "data": [
        {
         "alignmentgroup": "True",
         "hovertemplate": "<b>%{hovertext}</b><br><br>color=Chennai Super Kings<br>x=%{x}<br>y=%{y}<extra></extra>",
         "hovertext": [
          16.25,
          16,
          14,
          12,
          8,
          6.75,
          6,
          4,
          1.9,
          1.5,
          1.2,
          1,
          1,
          0.7,
          0.6,
          0.5,
          0.5,
          0.2,
          0.2,
          0.2,
          0.2,
          0.2,
          0.2,
          0.2,
          0.2
         ],
         "legendgroup": "Chennai Super Kings",
         "marker": {
          "color": "#636efa",
          "pattern": {
           "shape": ""
          }
         },
         "name": "Chennai Super Kings",
         "offsetgroup": "Chennai Super Kings",
         "orientation": "v",
         "showlegend": true,
         "textposition": "auto",
         "type": "bar",
         "x": [
          "Ben Stokes ",
          "Ravindra Jadeja ",
          "Deepak Chahar ",
          "MS Dhoni ",
          "Moeen Ali ",
          "Ambati Rayudu ",
          "Ruturaj Gaikwad ",
          "Shivam Dube ",
          "Mitchell Santner ",
          "Rajvardhan Hangargekar ",
          "Prashant Solanki ",
          "Kyle Jamieson ",
          "Devon Conway ",
          "Maheesh Theekshana ",
          "Nishant Sindhu ",
          "Ajinkya Rahane ",
          "Dwaine Pretorius ",
          "Matheesha Pathirana ",
          "Mukesh Choudhary ",
          "Shaik Rasheed ",
          "Simarjeet Singh ",
          "Subhranshu Senapati ",
          "Bhagath Varma ",
          "Ajay Mandal ",
          "Tushar Deshpande "
         ],
         "xaxis": "x",
         "y": [
          16.25,
          16,
          14,
          12,
          8,
          6.75,
          6,
          4,
          1.9,
          1.5,
          1.2,
          1,
          1,
          0.7,
          0.6,
          0.5,
          0.5,
          0.2,
          0.2,
          0.2,
          0.2,
          0.2,
          0.2,
          0.2,
          0.2
         ],
         "yaxis": "y"
        },
        {
         "alignmentgroup": "True",
         "hovertemplate": "<b>%{hovertext}</b><br><br>color=Delhi Capitals<br>x=%{x}<br>y=%{y}<extra></extra>",
         "hovertext": [
          16,
          12,
          8,
          6.5,
          6.5,
          6.25,
          5.5,
          5.25,
          4.6,
          4.2,
          2.8,
          2.4,
          2,
          2,
          2,
          1.1,
          0.65,
          0.5,
          0.5,
          0.5,
          0.5,
          0.2,
          0.2,
          0.2,
          0.2
         ],
         "legendgroup": "Delhi Capitals",
         "marker": {
          "color": "#EF553B",
          "pattern": {
           "shape": ""
          }
         },
         "name": "Delhi Capitals",
         "offsetgroup": "Delhi Capitals",
         "orientation": "v",
         "showlegend": true,
         "textposition": "auto",
         "type": "bar",
         "x": [
          "Rishabh Pant ",
          "Axar Patel ",
          "Prithvi Shaw ",
          "Mitchell Marsh ",
          "Anrich Nortje ",
          "David Warner ",
          "Mukesh Kumar ",
          "Khaleel Ahmed ",
          "Rilee Rossouw ",
          "Chetan Sakariya ",
          "Rovman Powell ",
          "Manish Pandey ",
          "Mustafizur Rahman ",
          "Kuldeep Yadav ",
          "Philip Salt ",
          "Kamlesh Nagarkoti ",
          "Lalit Yadav ",
          "Ishant Sharma ",
          "Lungi Ngidi ",
          "Pravin Dubey ",
          "Yash Dhull ",
          "Ripal Patel ",
          "Aman Khan ",
          "Vicky Ostwal ",
          "Sarfaraz Khan "
         ],
         "xaxis": "x",
         "y": [
          16,
          12,
          8,
          6.5,
          6.5,
          6.25,
          5.5,
          5.25,
          4.6,
          4.2,
          2.8,
          2.4,
          2,
          2,
          2,
          1.1,
          0.65,
          0.5,
          0.5,
          0.5,
          0.5,
          0.2,
          0.2,
          0.2,
          0.2
         ],
         "yaxis": "y"
        },
        {
         "alignmentgroup": "True",
         "hovertemplate": "<b>%{hovertext}</b><br><br>color=Gujarat Titans<br>x=%{x}<br>y=%{y}<extra></extra>",
         "hovertext": [
          15,
          15,
          9,
          8,
          6.25,
          6,
          4.4,
          3.2,
          3,
          3,
          2.6,
          2.4,
          2.4,
          2,
          1.9,
          1.7,
          1.4,
          1.2,
          0.5,
          0.5,
          0.3,
          0.2,
          0.2,
          0.2,
          0.2,
          16,
          12.25,
          12,
          10.75,
          10,
          8,
          8,
          6,
          2,
          1.5,
          1.5,
          1,
          0.9,
          0.6,
          0.55,
          0.5,
          0.5,
          0.5,
          0.2,
          0.2,
          0.2,
          0.2
         ],
         "legendgroup": "Gujarat Titans",
         "marker": {
          "color": "#00cc96",
          "pattern": {
           "shape": ""
          }
         },
         "name": "Gujarat Titans",
         "offsetgroup": "Gujarat Titans",
         "orientation": "v",
         "showlegend": true,
         "textposition": "auto",
         "type": "bar",
         "x": [
          "Hardik Pandya ",
          "Rashid Khan ",
          "Rahul Tewatia ",
          "Shubman Gill ",
          "Mohammad Shami ",
          "Shivam Mavi ",
          "Josh Little ",
          "Yash Dayal ",
          "Sai Kishore ",
          "David Miller ",
          "Abhinav Manohar ",
          "Alzarri Joseph ",
          "Matthew Wade ",
          "Kane Williamson ",
          "Wriddhiman Saha ",
          "Jayant Yadav ",
          "Vijay Shankar ",
          "Srikar Bharat ",
          "Mohit Sharma ",
          "Odean Smith ",
          "Noor Ahmad ",
          "Darshan Nalkande ",
          "Urvil Patel ",
          "Sai Sudharsan ",
          "Pradeep Sangwan ",
          "Andre Russell ",
          "Shreyas Iyer ",
          "Varun Chakaravarthy ",
          "Shardul Thakur ",
          "Lockie Ferguson ",
          "Venkatesh Iyer ",
          "Nitish Rana ",
          "Sunil Narine ",
          "Umesh Yadav ",
          "Shakib Al Hasan ",
          "Tim Southee ",
          "David Wiese ",
          "Narayan Jagadeesan ",
          "Vaibhav Arora ",
          "Rinku Singh ",
          "Mandeep Singh ",
          "Litton Das ",
          "Rahmanullah Gurbaz ",
          "Suyash Sharma ",
          "Harshit Rana ",
          "Anukul Roy ",
          "Kulwant Khejroliya "
         ],
         "xaxis": "x",
         "y": [
          15,
          15,
          9,
          8,
          6.25,
          6,
          4.4,
          3.2,
          3,
          3,
          2.6,
          2.4,
          2.4,
          2,
          1.9,
          1.7,
          1.4,
          1.2,
          0.5,
          0.5,
          0.3,
          0.2,
          0.2,
          0.2,
          0.2,
          16,
          12.25,
          12,
          10.75,
          10,
          8,
          8,
          6,
          2,
          1.5,
          1.5,
          1,
          0.9,
          0.6,
          0.55,
          0.5,
          0.5,
          0.5,
          0.2,
          0.2,
          0.2,
          0.2
         ],
         "yaxis": "y"
        },
        {
         "alignmentgroup": "True",
         "hovertemplate": "<b>%{hovertext}</b><br><br>color=Lucknow Super Giants<br>x=%{x}<br>y=%{y}<extra></extra>",
         "hovertext": [
          17,
          16,
          10,
          10,
          8.25,
          7.5,
          6.75,
          5.75,
          4,
          0.9,
          0.75,
          0.5,
          0.5,
          0.5,
          0.5,
          0.5,
          0.45,
          0.2,
          0.2,
          0.2,
          0.2,
          0.2,
          0.2,
          0.2,
          0.2
         ],
         "legendgroup": "Lucknow Super Giants",
         "marker": {
          "color": "#ab63fa",
          "pattern": {
           "shape": ""
          }
         },
         "name": "Lucknow Super Giants",
         "offsetgroup": "Lucknow Super Giants",
         "orientation": "v",
         "showlegend": true,
         "textposition": "auto",
         "type": "bar",
         "x": [
          "KL Rahul ",
          "Nicholas Pooran ",
          "Avesh Khan ",
          "Marcus Stoinis ",
          "Krunal Pandya ",
          "Mark Wood ",
          "Quinton de Kock ",
          "Deepak Hooda ",
          "Ravi Bishnoi ",
          "Krishnappa Gowtham ",
          "Daniel Sams ",
          "Amit Mishra ",
          "Jaydev Unadkat ",
          "Kyle Mayers ",
          "Naveen-ul-Haq ",
          "Romario Shepherd ",
          "Yash Thakur ",
          "Mohsin Khan ",
          "Ayush Badoni ",
          "Karan Sharma ",
          "Yudhvir Singh ",
          "Mayank Yadav ",
          "Prerak Mankad ",
          "Swapnil Singh ",
          "Manan Vohra "
         ],
         "xaxis": "x",
         "y": [
          17,
          16,
          10,
          10,
          8.25,
          7.5,
          6.75,
          5.75,
          4,
          0.9,
          0.75,
          0.5,
          0.5,
          0.5,
          0.5,
          0.5,
          0.45,
          0.2,
          0.2,
          0.2,
          0.2,
          0.2,
          0.2,
          0.2,
          0.2
         ],
         "yaxis": "y"
        },
        {
         "alignmentgroup": "True",
         "hovertemplate": "<b>%{hovertext}</b><br><br>color=Mumbai Indians<br>x=%{x}<br>y=%{y}<extra></extra>",
         "hovertext": [
          17.5,
          16,
          15.25,
          12,
          8.25,
          8,
          8,
          3,
          1.7,
          1.5,
          0.75,
          0.5,
          0.3,
          0.2,
          0.2,
          0.2,
          0.2,
          0.2,
          0.2,
          0.2,
          0.2,
          0.2,
          0.2,
          0.2
         ],
         "legendgroup": "Mumbai Indians",
         "marker": {
          "color": "#FFA15A",
          "pattern": {
           "shape": ""
          }
         },
         "name": "Mumbai Indians",
         "offsetgroup": "Mumbai Indians",
         "orientation": "v",
         "showlegend": true,
         "textposition": "auto",
         "type": "bar",
         "x": [
          "Cameron Green ",
          "Rohit Sharma ",
          "Ishan Kishan ",
          "Jasprit Bumrah ",
          "Tim David ",
          "Jofra Archer ",
          "Suryakumar Yadav ",
          "Dewald Brevis ",
          "Tilak Varma ",
          "Jhye Richardson ",
          "Jason Behrendorff ",
          "Piyush Chawla ",
          "Arjun Tendulkar ",
          "Kumar Kartikeya ",
          "Duan Jansen ",
          "Arshad Khan ",
          "Hrithik Shokeen ",
          "Akash Madhwal ",
          "Raghav Goyal ",
          "Tristan Stubbs ",
          "Nehal Wadhera ",
          "Shams Mulani ",
          "Ramandeep Singh ",
          "Vishnu Vinod "
         ],
         "xaxis": "x",
         "y": [
          17.5,
          16,
          15.25,
          12,
          8.25,
          8,
          8,
          3,
          1.7,
          1.5,
          0.75,
          0.5,
          0.3,
          0.2,
          0.2,
          0.2,
          0.2,
          0.2,
          0.2,
          0.2,
          0.2,
          0.2,
          0.2,
          0.2
         ],
         "yaxis": "y"
        },
        {
         "alignmentgroup": "True",
         "hovertemplate": "<b>%{hovertext}</b><br><br>color=Punjab Kings<br>x=%{x}<br>y=%{y}<extra></extra>",
         "hovertext": [
          18.5,
          11.5,
          9.25,
          9,
          8.25,
          6.75,
          5.25,
          4,
          3.8,
          2,
          0.75,
          0.6,
          0.55,
          0.5,
          0.5,
          0.4,
          0.2,
          0.2,
          0.2,
          0.2,
          0.2,
          0.2
         ],
         "legendgroup": "Punjab Kings",
         "marker": {
          "color": "#19d3f3",
          "pattern": {
           "shape": ""
          }
         },
         "name": "Punjab Kings",
         "offsetgroup": "Punjab Kings",
         "orientation": "v",
         "showlegend": true,
         "textposition": "auto",
         "type": "bar",
         "x": [
          "Sam Curran ",
          "Liam Livingstone ",
          "Kagiso Rabada ",
          "Shahrukh Khan ",
          "Shikhar Dhawan ",
          "Jonny Bairstow ",
          "Rahul Chahar ",
          "Arshdeep Singh ",
          "Harpreet Brar ",
          "Raj Bawa ",
          "Nathan Ellis ",
          "Prabhsimran Singh ",
          "Rishi Dhawan ",
          "Sikandar Raza ",
          "Bhanuka Rajapaksa ",
          "Harpreet Singh Bhatia ",
          "Atharva Taide ",
          "Mohit Rathee ",
          "Shivam Singh ",
          "Vidhwath Kaverappa ",
          "Jitesh Sharma ",
          "Baltej Singh "
         ],
         "xaxis": "x",
         "y": [
          18.5,
          11.5,
          9.25,
          9,
          8.25,
          6.75,
          5.25,
          4,
          3.8,
          2,
          0.75,
          0.6,
          0.55,
          0.5,
          0.5,
          0.4,
          0.2,
          0.2,
          0.2,
          0.2,
          0.2,
          0.2
         ],
         "yaxis": "y"
        },
        {
         "alignmentgroup": "True",
         "hovertemplate": "<b>%{hovertext}</b><br><br>color=Royal Challengers Bangalore<br>x=%{x}<br>y=%{y}<extra></extra>",
         "hovertext": [
          15,
          11,
          10.75,
          10.75,
          7.75,
          7,
          7,
          5.5,
          3.4,
          3.2,
          2.4,
          2,
          1.9,
          0.95,
          0.8,
          0.75,
          0.7,
          0.6,
          0.5,
          0.3,
          0.2,
          0.2,
          0.2,
          0.2,
          0.2
         ],
         "legendgroup": "Royal Challengers Bangalore",
         "marker": {
          "color": "#FF6692",
          "pattern": {
           "shape": ""
          }
         },
         "name": "Royal Challengers Bangalore",
         "offsetgroup": "Royal Challengers Bangalore",
         "orientation": "v",
         "showlegend": true,
         "textposition": "auto",
         "type": "bar",
         "x": [
          "Virat Kohli ",
          "Glenn Maxwell ",
          "Harshal Patel ",
          "Wanindu Hasaranga ",
          "Josh Hazlewood ",
          "Faf du Plessis ",
          "Mohammed Siraj ",
          "Dinesh Karthik ",
          "Anuj Rawat ",
          "Will Jacks ",
          "Shahbaz Ahmed ",
          "David Willey ",
          "Reece Topley ",
          "Mahipal Lomror ",
          "Finn Allen ",
          "Siddarth Kaul ",
          "Rajan Kumar ",
          "Avinash Singh ",
          "Karn Sharma ",
          "Suyash Prabhudessai ",
          "Sonu Yadav ",
          "Manoj Bhandage ",
          "Akash Deep ",
          "Himanshu Sharma ",
          "Rajat Patidar "
         ],
         "xaxis": "x",
         "y": [
          15,
          11,
          10.75,
          10.75,
          7.75,
          7,
          7,
          5.5,
          3.4,
          3.2,
          2.4,
          2,
          1.9,
          0.95,
          0.8,
          0.75,
          0.7,
          0.6,
          0.5,
          0.3,
          0.2,
          0.2,
          0.2,
          0.2,
          0.2
         ],
         "yaxis": "y"
        },
        {
         "alignmentgroup": "True",
         "hovertemplate": "<b>%{hovertext}</b><br><br>color=Rajasthan Royals<br>x=%{x}<br>y=%{y}<extra></extra>",
         "hovertext": [
          14,
          10,
          10,
          8.5,
          8,
          7.75,
          6.5,
          5.75,
          5,
          4,
          3.8,
          2.6,
          1.5,
          1,
          0.75,
          0.5,
          0.3,
          0.3,
          0.2,
          0.2,
          0.2,
          0.2,
          0.2,
          0.2,
          0.2
         ],
         "legendgroup": "Rajasthan Royals",
         "marker": {
          "color": "#B6E880",
          "pattern": {
           "shape": ""
          }
         },
         "name": "Rajasthan Royals",
         "offsetgroup": "Rajasthan Royals",
         "orientation": "v",
         "showlegend": true,
         "textposition": "auto",
         "type": "bar",
         "x": [
          "Sanju Samson ",
          "Prasidh Krishna ",
          "Jos Buttler ",
          "Shimron Hetmyer ",
          "Trent Boult ",
          "Devdutt Padikkal ",
          "Yuzvendra Chahal ",
          "Jason Holder ",
          "Ravichandran Ashwin ",
          "Yashasvi Jaiswal ",
          "Riyan Parag ",
          "Navdeep Saini ",
          "Adam Zampa ",
          "Joe Root ",
          "Obed McCoy ",
          "D Ferreira ",
          "KM Asif ",
          "KC Cariappa ",
          "Kuldeep Sen ",
          "Dhruv Jurel ",
          "Kunal Singh Rathore ",
          "Abdul Basith ",
          "Akash Vasisht ",
          "Murugan Ashwin ",
          "Kuldip Yadav "
         ],
         "xaxis": "x",
         "y": [
          14,
          10,
          10,
          8.5,
          8,
          7.75,
          6.5,
          5.75,
          5,
          4,
          3.8,
          2.6,
          1.5,
          1,
          0.75,
          0.5,
          0.3,
          0.3,
          0.2,
          0.2,
          0.2,
          0.2,
          0.2,
          0.2,
          0.2
         ],
         "yaxis": "y"
        },
        {
         "alignmentgroup": "True",
         "hovertemplate": "<b>%{hovertext}</b><br><br>color=Sunrisers Hyderabad<br>x=%{x}<br>y=%{y}<extra></extra>",
         "hovertext": [
          13.25,
          8.75,
          8.5,
          8.25,
          6.5,
          5.25,
          4.2,
          4.2,
          4,
          4,
          4,
          4,
          2.6,
          2.6,
          2,
          1.8,
          1.5,
          1,
          0.5,
          0.5,
          0.25,
          0.2,
          0.2,
          0.2,
          0.2
         ],
         "legendgroup": "Sunrisers Hyderabad",
         "marker": {
          "color": "#FF97FF",
          "pattern": {
           "shape": ""
          }
         },
         "name": "Sunrisers Hyderabad",
         "offsetgroup": "Sunrisers Hyderabad",
         "orientation": "v",
         "showlegend": true,
         "textposition": "auto",
         "type": "bar",
         "x": [
          "Harry Brook ",
          "Washington Sundar ",
          "Rahul Tripathi ",
          "Mayank Agarwal ",
          "Abhishek Sharma ",
          "Heinrich Klaasen ",
          "Bhuvneshwar Kumar ",
          "Marco Jansen ",
          "Abdul Samad ",
          "Umran Malik ",
          "T Natarajan ",
          "Kartik Tyagi ",
          "Aiden Markram ",
          "Vivrant Sharma ",
          "Adil Rashid ",
          "Mayank Dagar ",
          "Glenn Phillips ",
          "Akeal Hosein ",
          "Mayank Markande ",
          "Fazalhaq Farooqi ",
          "Upendra Yadav ",
          "Sanvir Singh ",
          "Samarth Vyas ",
          "Nitish Kumar Reddy ",
          "Anmolpreet Singh "
         ],
         "xaxis": "x",
         "y": [
          13.25,
          8.75,
          8.5,
          8.25,
          6.5,
          5.25,
          4.2,
          4.2,
          4,
          4,
          4,
          4,
          2.6,
          2.6,
          2,
          1.8,
          1.5,
          1,
          0.5,
          0.5,
          0.25,
          0.2,
          0.2,
          0.2,
          0.2
         ],
         "yaxis": "y"
        }
       ],
       "layout": {
        "barmode": "relative",
        "height": 1000,
        "legend": {
         "title": {
          "text": "color"
         },
         "tracegroupgap": 0
        },
        "margin": {
         "t": 60
        },
        "template": {
         "data": {
          "bar": [
           {
            "error_x": {
             "color": "#2a3f5f"
            },
            "error_y": {
             "color": "#2a3f5f"
            },
            "marker": {
             "line": {
              "color": "#E5ECF6",
              "width": 0.5
             },
             "pattern": {
              "fillmode": "overlay",
              "size": 10,
              "solidity": 0.2
             }
            },
            "type": "bar"
           }
          ],
          "barpolar": [
           {
            "marker": {
             "line": {
              "color": "#E5ECF6",
              "width": 0.5
             },
             "pattern": {
              "fillmode": "overlay",
              "size": 10,
              "solidity": 0.2
             }
            },
            "type": "barpolar"
           }
          ],
          "carpet": [
           {
            "aaxis": {
             "endlinecolor": "#2a3f5f",
             "gridcolor": "white",
             "linecolor": "white",
             "minorgridcolor": "white",
             "startlinecolor": "#2a3f5f"
            },
            "baxis": {
             "endlinecolor": "#2a3f5f",
             "gridcolor": "white",
             "linecolor": "white",
             "minorgridcolor": "white",
             "startlinecolor": "#2a3f5f"
            },
            "type": "carpet"
           }
          ],
          "choropleth": [
           {
            "colorbar": {
             "outlinewidth": 0,
             "ticks": ""
            },
            "type": "choropleth"
           }
          ],
          "contour": [
           {
            "colorbar": {
             "outlinewidth": 0,
             "ticks": ""
            },
            "colorscale": [
             [
              0,
              "#0d0887"
             ],
             [
              0.1111111111111111,
              "#46039f"
             ],
             [
              0.2222222222222222,
              "#7201a8"
             ],
             [
              0.3333333333333333,
              "#9c179e"
             ],
             [
              0.4444444444444444,
              "#bd3786"
             ],
             [
              0.5555555555555556,
              "#d8576b"
             ],
             [
              0.6666666666666666,
              "#ed7953"
             ],
             [
              0.7777777777777778,
              "#fb9f3a"
             ],
             [
              0.8888888888888888,
              "#fdca26"
             ],
             [
              1,
              "#f0f921"
             ]
            ],
            "type": "contour"
           }
          ],
          "contourcarpet": [
           {
            "colorbar": {
             "outlinewidth": 0,
             "ticks": ""
            },
            "type": "contourcarpet"
           }
          ],
          "heatmap": [
           {
            "colorbar": {
             "outlinewidth": 0,
             "ticks": ""
            },
            "colorscale": [
             [
              0,
              "#0d0887"
             ],
             [
              0.1111111111111111,
              "#46039f"
             ],
             [
              0.2222222222222222,
              "#7201a8"
             ],
             [
              0.3333333333333333,
              "#9c179e"
             ],
             [
              0.4444444444444444,
              "#bd3786"
             ],
             [
              0.5555555555555556,
              "#d8576b"
             ],
             [
              0.6666666666666666,
              "#ed7953"
             ],
             [
              0.7777777777777778,
              "#fb9f3a"
             ],
             [
              0.8888888888888888,
              "#fdca26"
             ],
             [
              1,
              "#f0f921"
             ]
            ],
            "type": "heatmap"
           }
          ],
          "heatmapgl": [
           {
            "colorbar": {
             "outlinewidth": 0,
             "ticks": ""
            },
            "colorscale": [
             [
              0,
              "#0d0887"
             ],
             [
              0.1111111111111111,
              "#46039f"
             ],
             [
              0.2222222222222222,
              "#7201a8"
             ],
             [
              0.3333333333333333,
              "#9c179e"
             ],
             [
              0.4444444444444444,
              "#bd3786"
             ],
             [
              0.5555555555555556,
              "#d8576b"
             ],
             [
              0.6666666666666666,
              "#ed7953"
             ],
             [
              0.7777777777777778,
              "#fb9f3a"
             ],
             [
              0.8888888888888888,
              "#fdca26"
             ],
             [
              1,
              "#f0f921"
             ]
            ],
            "type": "heatmapgl"
           }
          ],
          "histogram": [
           {
            "marker": {
             "pattern": {
              "fillmode": "overlay",
              "size": 10,
              "solidity": 0.2
             }
            },
            "type": "histogram"
           }
          ],
          "histogram2d": [
           {
            "colorbar": {
             "outlinewidth": 0,
             "ticks": ""
            },
            "colorscale": [
             [
              0,
              "#0d0887"
             ],
             [
              0.1111111111111111,
              "#46039f"
             ],
             [
              0.2222222222222222,
              "#7201a8"
             ],
             [
              0.3333333333333333,
              "#9c179e"
             ],
             [
              0.4444444444444444,
              "#bd3786"
             ],
             [
              0.5555555555555556,
              "#d8576b"
             ],
             [
              0.6666666666666666,
              "#ed7953"
             ],
             [
              0.7777777777777778,
              "#fb9f3a"
             ],
             [
              0.8888888888888888,
              "#fdca26"
             ],
             [
              1,
              "#f0f921"
             ]
            ],
            "type": "histogram2d"
           }
          ],
          "histogram2dcontour": [
           {
            "colorbar": {
             "outlinewidth": 0,
             "ticks": ""
            },
            "colorscale": [
             [
              0,
              "#0d0887"
             ],
             [
              0.1111111111111111,
              "#46039f"
             ],
             [
              0.2222222222222222,
              "#7201a8"
             ],
             [
              0.3333333333333333,
              "#9c179e"
             ],
             [
              0.4444444444444444,
              "#bd3786"
             ],
             [
              0.5555555555555556,
              "#d8576b"
             ],
             [
              0.6666666666666666,
              "#ed7953"
             ],
             [
              0.7777777777777778,
              "#fb9f3a"
             ],
             [
              0.8888888888888888,
              "#fdca26"
             ],
             [
              1,
              "#f0f921"
             ]
            ],
            "type": "histogram2dcontour"
           }
          ],
          "mesh3d": [
           {
            "colorbar": {
             "outlinewidth": 0,
             "ticks": ""
            },
            "type": "mesh3d"
           }
          ],
          "parcoords": [
           {
            "line": {
             "colorbar": {
              "outlinewidth": 0,
              "ticks": ""
             }
            },
            "type": "parcoords"
           }
          ],
          "pie": [
           {
            "automargin": true,
            "type": "pie"
           }
          ],
          "scatter": [
           {
            "fillpattern": {
             "fillmode": "overlay",
             "size": 10,
             "solidity": 0.2
            },
            "type": "scatter"
           }
          ],
          "scatter3d": [
           {
            "line": {
             "colorbar": {
              "outlinewidth": 0,
              "ticks": ""
             }
            },
            "marker": {
             "colorbar": {
              "outlinewidth": 0,
              "ticks": ""
             }
            },
            "type": "scatter3d"
           }
          ],
          "scattercarpet": [
           {
            "marker": {
             "colorbar": {
              "outlinewidth": 0,
              "ticks": ""
             }
            },
            "type": "scattercarpet"
           }
          ],
          "scattergeo": [
           {
            "marker": {
             "colorbar": {
              "outlinewidth": 0,
              "ticks": ""
             }
            },
            "type": "scattergeo"
           }
          ],
          "scattergl": [
           {
            "marker": {
             "colorbar": {
              "outlinewidth": 0,
              "ticks": ""
             }
            },
            "type": "scattergl"
           }
          ],
          "scattermapbox": [
           {
            "marker": {
             "colorbar": {
              "outlinewidth": 0,
              "ticks": ""
             }
            },
            "type": "scattermapbox"
           }
          ],
          "scatterpolar": [
           {
            "marker": {
             "colorbar": {
              "outlinewidth": 0,
              "ticks": ""
             }
            },
            "type": "scatterpolar"
           }
          ],
          "scatterpolargl": [
           {
            "marker": {
             "colorbar": {
              "outlinewidth": 0,
              "ticks": ""
             }
            },
            "type": "scatterpolargl"
           }
          ],
          "scatterternary": [
           {
            "marker": {
             "colorbar": {
              "outlinewidth": 0,
              "ticks": ""
             }
            },
            "type": "scatterternary"
           }
          ],
          "surface": [
           {
            "colorbar": {
             "outlinewidth": 0,
             "ticks": ""
            },
            "colorscale": [
             [
              0,
              "#0d0887"
             ],
             [
              0.1111111111111111,
              "#46039f"
             ],
             [
              0.2222222222222222,
              "#7201a8"
             ],
             [
              0.3333333333333333,
              "#9c179e"
             ],
             [
              0.4444444444444444,
              "#bd3786"
             ],
             [
              0.5555555555555556,
              "#d8576b"
             ],
             [
              0.6666666666666666,
              "#ed7953"
             ],
             [
              0.7777777777777778,
              "#fb9f3a"
             ],
             [
              0.8888888888888888,
              "#fdca26"
             ],
             [
              1,
              "#f0f921"
             ]
            ],
            "type": "surface"
           }
          ],
          "table": [
           {
            "cells": {
             "fill": {
              "color": "#EBF0F8"
             },
             "line": {
              "color": "white"
             }
            },
            "header": {
             "fill": {
              "color": "#C8D4E3"
             },
             "line": {
              "color": "white"
             }
            },
            "type": "table"
           }
          ]
         },
         "layout": {
          "annotationdefaults": {
           "arrowcolor": "#2a3f5f",
           "arrowhead": 0,
           "arrowwidth": 1
          },
          "autotypenumbers": "strict",
          "coloraxis": {
           "colorbar": {
            "outlinewidth": 0,
            "ticks": ""
           }
          },
          "colorscale": {
           "diverging": [
            [
             0,
             "#8e0152"
            ],
            [
             0.1,
             "#c51b7d"
            ],
            [
             0.2,
             "#de77ae"
            ],
            [
             0.3,
             "#f1b6da"
            ],
            [
             0.4,
             "#fde0ef"
            ],
            [
             0.5,
             "#f7f7f7"
            ],
            [
             0.6,
             "#e6f5d0"
            ],
            [
             0.7,
             "#b8e186"
            ],
            [
             0.8,
             "#7fbc41"
            ],
            [
             0.9,
             "#4d9221"
            ],
            [
             1,
             "#276419"
            ]
           ],
           "sequential": [
            [
             0,
             "#0d0887"
            ],
            [
             0.1111111111111111,
             "#46039f"
            ],
            [
             0.2222222222222222,
             "#7201a8"
            ],
            [
             0.3333333333333333,
             "#9c179e"
            ],
            [
             0.4444444444444444,
             "#bd3786"
            ],
            [
             0.5555555555555556,
             "#d8576b"
            ],
            [
             0.6666666666666666,
             "#ed7953"
            ],
            [
             0.7777777777777778,
             "#fb9f3a"
            ],
            [
             0.8888888888888888,
             "#fdca26"
            ],
            [
             1,
             "#f0f921"
            ]
           ],
           "sequentialminus": [
            [
             0,
             "#0d0887"
            ],
            [
             0.1111111111111111,
             "#46039f"
            ],
            [
             0.2222222222222222,
             "#7201a8"
            ],
            [
             0.3333333333333333,
             "#9c179e"
            ],
            [
             0.4444444444444444,
             "#bd3786"
            ],
            [
             0.5555555555555556,
             "#d8576b"
            ],
            [
             0.6666666666666666,
             "#ed7953"
            ],
            [
             0.7777777777777778,
             "#fb9f3a"
            ],
            [
             0.8888888888888888,
             "#fdca26"
            ],
            [
             1,
             "#f0f921"
            ]
           ]
          },
          "colorway": [
           "#636efa",
           "#EF553B",
           "#00cc96",
           "#ab63fa",
           "#FFA15A",
           "#19d3f3",
           "#FF6692",
           "#B6E880",
           "#FF97FF",
           "#FECB52"
          ],
          "font": {
           "color": "#2a3f5f"
          },
          "geo": {
           "bgcolor": "white",
           "lakecolor": "white",
           "landcolor": "#E5ECF6",
           "showlakes": true,
           "showland": true,
           "subunitcolor": "white"
          },
          "hoverlabel": {
           "align": "left"
          },
          "hovermode": "closest",
          "mapbox": {
           "style": "light"
          },
          "paper_bgcolor": "white",
          "plot_bgcolor": "#E5ECF6",
          "polar": {
           "angularaxis": {
            "gridcolor": "white",
            "linecolor": "white",
            "ticks": ""
           },
           "bgcolor": "#E5ECF6",
           "radialaxis": {
            "gridcolor": "white",
            "linecolor": "white",
            "ticks": ""
           }
          },
          "scene": {
           "xaxis": {
            "backgroundcolor": "#E5ECF6",
            "gridcolor": "white",
            "gridwidth": 2,
            "linecolor": "white",
            "showbackground": true,
            "ticks": "",
            "zerolinecolor": "white"
           },
           "yaxis": {
            "backgroundcolor": "#E5ECF6",
            "gridcolor": "white",
            "gridwidth": 2,
            "linecolor": "white",
            "showbackground": true,
            "ticks": "",
            "zerolinecolor": "white"
           },
           "zaxis": {
            "backgroundcolor": "#E5ECF6",
            "gridcolor": "white",
            "gridwidth": 2,
            "linecolor": "white",
            "showbackground": true,
            "ticks": "",
            "zerolinecolor": "white"
           }
          },
          "shapedefaults": {
           "line": {
            "color": "#2a3f5f"
           }
          },
          "ternary": {
           "aaxis": {
            "gridcolor": "white",
            "linecolor": "white",
            "ticks": ""
           },
           "baxis": {
            "gridcolor": "white",
            "linecolor": "white",
            "ticks": ""
           },
           "bgcolor": "#E5ECF6",
           "caxis": {
            "gridcolor": "white",
            "linecolor": "white",
            "ticks": ""
           }
          },
          "title": {
           "x": 0.05
          },
          "xaxis": {
           "automargin": true,
           "gridcolor": "white",
           "linecolor": "white",
           "ticks": "",
           "title": {
            "standoff": 15
           },
           "zerolinecolor": "white",
           "zerolinewidth": 2
          },
          "yaxis": {
           "automargin": true,
           "gridcolor": "white",
           "linecolor": "white",
           "ticks": "",
           "title": {
            "standoff": 15
           },
           "zerolinecolor": "white",
           "zerolinewidth": 2
          }
         }
        },
        "xaxis": {
         "anchor": "y",
         "domain": [
          0,
          1
         ],
         "title": {
          "text": "x"
         }
        },
        "yaxis": {
         "anchor": "x",
         "domain": [
          0,
          1
         ],
         "title": {
          "text": "y"
         }
        }
       }
      }
     },
     "metadata": {},
     "output_type": "display_data"
    }
   ],
   "source": [
    "px.bar(x=data['Player Name'],y=data['Price Cr'],height=1000,color=data['Team'],hover_name=data['Price Cr'])"
   ]
  },
  {
   "cell_type": "code",
   "execution_count": 266,
   "metadata": {},
   "outputs": [
    {
     "data": {
      "application/vnd.plotly.v1+json": {
       "config": {
        "plotlyServerURL": "https://plot.ly"
       },
       "data": [
        {
         "hovertemplate": "<b>%{hovertext}</b><br><br>x=%{x}<br>y=%{y}<br>size=%{marker.size}<br>color=%{marker.color}<extra></extra>",
         "hovertext": [
          "Chennai Super Kings",
          "Chennai Super Kings",
          "Chennai Super Kings",
          "Chennai Super Kings",
          "Chennai Super Kings",
          "Chennai Super Kings",
          "Chennai Super Kings",
          "Chennai Super Kings",
          "Chennai Super Kings",
          "Chennai Super Kings",
          "Chennai Super Kings",
          "Chennai Super Kings",
          "Chennai Super Kings",
          "Chennai Super Kings",
          "Chennai Super Kings",
          "Chennai Super Kings",
          "Chennai Super Kings",
          "Chennai Super Kings",
          "Chennai Super Kings",
          "Chennai Super Kings",
          "Chennai Super Kings",
          "Chennai Super Kings",
          "Chennai Super Kings",
          "Chennai Super Kings",
          "Chennai Super Kings",
          "Delhi Capitals",
          "Delhi Capitals",
          "Delhi Capitals",
          "Delhi Capitals",
          "Delhi Capitals",
          "Delhi Capitals",
          "Delhi Capitals",
          "Delhi Capitals",
          "Delhi Capitals",
          "Delhi Capitals",
          "Delhi Capitals",
          "Delhi Capitals",
          "Delhi Capitals",
          "Delhi Capitals",
          "Delhi Capitals",
          "Delhi Capitals",
          "Delhi Capitals",
          "Delhi Capitals",
          "Delhi Capitals",
          "Delhi Capitals",
          "Delhi Capitals",
          "Delhi Capitals",
          "Delhi Capitals",
          "Delhi Capitals",
          "Delhi Capitals",
          "Gujarat Titans",
          "Gujarat Titans",
          "Gujarat Titans",
          "Gujarat Titans",
          "Gujarat Titans",
          "Gujarat Titans",
          "Gujarat Titans",
          "Gujarat Titans",
          "Gujarat Titans",
          "Gujarat Titans",
          "Gujarat Titans",
          "Gujarat Titans",
          "Gujarat Titans",
          "Gujarat Titans",
          "Gujarat Titans",
          "Gujarat Titans",
          "Gujarat Titans",
          "Gujarat Titans",
          "Gujarat Titans",
          "Gujarat Titans",
          "Gujarat Titans",
          "Gujarat Titans",
          "Gujarat Titans",
          "Gujarat Titans",
          "Gujarat Titans",
          "Gujarat Titans",
          "Gujarat Titans",
          "Gujarat Titans",
          "Gujarat Titans",
          "Gujarat Titans",
          "Gujarat Titans",
          "Gujarat Titans",
          "Gujarat Titans",
          "Gujarat Titans",
          "Gujarat Titans",
          "Gujarat Titans",
          "Gujarat Titans",
          "Gujarat Titans",
          "Gujarat Titans",
          "Gujarat Titans",
          "Gujarat Titans",
          "Gujarat Titans",
          "Gujarat Titans",
          "Gujarat Titans",
          "Gujarat Titans",
          "Gujarat Titans",
          "Gujarat Titans",
          "Lucknow Super Giants",
          "Lucknow Super Giants",
          "Lucknow Super Giants",
          "Lucknow Super Giants",
          "Lucknow Super Giants",
          "Lucknow Super Giants",
          "Lucknow Super Giants",
          "Lucknow Super Giants",
          "Lucknow Super Giants",
          "Lucknow Super Giants",
          "Lucknow Super Giants",
          "Lucknow Super Giants",
          "Lucknow Super Giants",
          "Lucknow Super Giants",
          "Lucknow Super Giants",
          "Lucknow Super Giants",
          "Lucknow Super Giants",
          "Lucknow Super Giants",
          "Lucknow Super Giants",
          "Lucknow Super Giants",
          "Lucknow Super Giants",
          "Lucknow Super Giants",
          "Lucknow Super Giants",
          "Lucknow Super Giants",
          "Lucknow Super Giants",
          "Mumbai Indians",
          "Mumbai Indians",
          "Mumbai Indians",
          "Mumbai Indians",
          "Mumbai Indians",
          "Mumbai Indians",
          "Mumbai Indians",
          "Mumbai Indians",
          "Mumbai Indians",
          "Mumbai Indians",
          "Mumbai Indians",
          "Mumbai Indians",
          "Mumbai Indians",
          "Mumbai Indians",
          "Mumbai Indians",
          "Mumbai Indians",
          "Mumbai Indians",
          "Mumbai Indians",
          "Mumbai Indians",
          "Mumbai Indians",
          "Mumbai Indians",
          "Mumbai Indians",
          "Mumbai Indians",
          "Mumbai Indians",
          "Punjab Kings",
          "Punjab Kings",
          "Punjab Kings",
          "Punjab Kings",
          "Punjab Kings",
          "Punjab Kings",
          "Punjab Kings",
          "Punjab Kings",
          "Punjab Kings",
          "Punjab Kings",
          "Punjab Kings",
          "Punjab Kings",
          "Punjab Kings",
          "Punjab Kings",
          "Punjab Kings",
          "Punjab Kings",
          "Punjab Kings",
          "Punjab Kings",
          "Punjab Kings",
          "Punjab Kings",
          "Punjab Kings",
          "Punjab Kings",
          "Royal Challengers Bangalore",
          "Royal Challengers Bangalore",
          "Royal Challengers Bangalore",
          "Royal Challengers Bangalore",
          "Royal Challengers Bangalore",
          "Royal Challengers Bangalore",
          "Royal Challengers Bangalore",
          "Royal Challengers Bangalore",
          "Royal Challengers Bangalore",
          "Royal Challengers Bangalore",
          "Royal Challengers Bangalore",
          "Royal Challengers Bangalore",
          "Royal Challengers Bangalore",
          "Royal Challengers Bangalore",
          "Royal Challengers Bangalore",
          "Royal Challengers Bangalore",
          "Royal Challengers Bangalore",
          "Royal Challengers Bangalore",
          "Royal Challengers Bangalore",
          "Royal Challengers Bangalore",
          "Royal Challengers Bangalore",
          "Royal Challengers Bangalore",
          "Royal Challengers Bangalore",
          "Royal Challengers Bangalore",
          "Royal Challengers Bangalore",
          "Rajasthan Royals",
          "Rajasthan Royals",
          "Rajasthan Royals",
          "Rajasthan Royals",
          "Rajasthan Royals",
          "Rajasthan Royals",
          "Rajasthan Royals",
          "Rajasthan Royals",
          "Rajasthan Royals",
          "Rajasthan Royals",
          "Rajasthan Royals",
          "Rajasthan Royals",
          "Rajasthan Royals",
          "Rajasthan Royals",
          "Rajasthan Royals",
          "Rajasthan Royals",
          "Rajasthan Royals",
          "Rajasthan Royals",
          "Rajasthan Royals",
          "Rajasthan Royals",
          "Rajasthan Royals",
          "Rajasthan Royals",
          "Rajasthan Royals",
          "Rajasthan Royals",
          "Rajasthan Royals",
          "Sunrisers Hyderabad",
          "Sunrisers Hyderabad",
          "Sunrisers Hyderabad",
          "Sunrisers Hyderabad",
          "Sunrisers Hyderabad",
          "Sunrisers Hyderabad",
          "Sunrisers Hyderabad",
          "Sunrisers Hyderabad",
          "Sunrisers Hyderabad",
          "Sunrisers Hyderabad",
          "Sunrisers Hyderabad",
          "Sunrisers Hyderabad",
          "Sunrisers Hyderabad",
          "Sunrisers Hyderabad",
          "Sunrisers Hyderabad",
          "Sunrisers Hyderabad",
          "Sunrisers Hyderabad",
          "Sunrisers Hyderabad",
          "Sunrisers Hyderabad",
          "Sunrisers Hyderabad",
          "Sunrisers Hyderabad",
          "Sunrisers Hyderabad",
          "Sunrisers Hyderabad",
          "Sunrisers Hyderabad",
          "Sunrisers Hyderabad"
         ],
         "legendgroup": "",
         "marker": {
          "color": [
           16.25,
           16,
           14,
           12,
           8,
           6.75,
           6,
           4,
           1.9,
           1.5,
           1.2,
           1,
           1,
           0.7,
           0.6,
           0.5,
           0.5,
           0.2,
           0.2,
           0.2,
           0.2,
           0.2,
           0.2,
           0.2,
           0.2,
           16,
           12,
           8,
           6.5,
           6.5,
           6.25,
           5.5,
           5.25,
           4.6,
           4.2,
           2.8,
           2.4,
           2,
           2,
           2,
           1.1,
           0.65,
           0.5,
           0.5,
           0.5,
           0.5,
           0.2,
           0.2,
           0.2,
           0.2,
           15,
           15,
           9,
           8,
           6.25,
           6,
           4.4,
           3.2,
           3,
           3,
           2.6,
           2.4,
           2.4,
           2,
           1.9,
           1.7,
           1.4,
           1.2,
           0.5,
           0.5,
           0.3,
           0.2,
           0.2,
           0.2,
           0.2,
           16,
           12.25,
           12,
           10.75,
           10,
           8,
           8,
           6,
           2,
           1.5,
           1.5,
           1,
           0.9,
           0.6,
           0.55,
           0.5,
           0.5,
           0.5,
           0.2,
           0.2,
           0.2,
           0.2,
           17,
           16,
           10,
           10,
           8.25,
           7.5,
           6.75,
           5.75,
           4,
           0.9,
           0.75,
           0.5,
           0.5,
           0.5,
           0.5,
           0.5,
           0.45,
           0.2,
           0.2,
           0.2,
           0.2,
           0.2,
           0.2,
           0.2,
           0.2,
           17.5,
           16,
           15.25,
           12,
           8.25,
           8,
           8,
           3,
           1.7,
           1.5,
           0.75,
           0.5,
           0.3,
           0.2,
           0.2,
           0.2,
           0.2,
           0.2,
           0.2,
           0.2,
           0.2,
           0.2,
           0.2,
           0.2,
           18.5,
           11.5,
           9.25,
           9,
           8.25,
           6.75,
           5.25,
           4,
           3.8,
           2,
           0.75,
           0.6,
           0.55,
           0.5,
           0.5,
           0.4,
           0.2,
           0.2,
           0.2,
           0.2,
           0.2,
           0.2,
           15,
           11,
           10.75,
           10.75,
           7.75,
           7,
           7,
           5.5,
           3.4,
           3.2,
           2.4,
           2,
           1.9,
           0.95,
           0.8,
           0.75,
           0.7,
           0.6,
           0.5,
           0.3,
           0.2,
           0.2,
           0.2,
           0.2,
           0.2,
           14,
           10,
           10,
           8.5,
           8,
           7.75,
           6.5,
           5.75,
           5,
           4,
           3.8,
           2.6,
           1.5,
           1,
           0.75,
           0.5,
           0.3,
           0.3,
           0.2,
           0.2,
           0.2,
           0.2,
           0.2,
           0.2,
           0.2,
           13.25,
           8.75,
           8.5,
           8.25,
           6.5,
           5.25,
           4.2,
           4.2,
           4,
           4,
           4,
           4,
           2.6,
           2.6,
           2,
           1.8,
           1.5,
           1,
           0.5,
           0.5,
           0.25,
           0.2,
           0.2,
           0.2,
           0.2
          ],
          "coloraxis": "coloraxis",
          "size": [
           16.25,
           16,
           14,
           12,
           8,
           6.75,
           6,
           4,
           1.9,
           1.5,
           1.2,
           1,
           1,
           0.7,
           0.6,
           0.5,
           0.5,
           0.2,
           0.2,
           0.2,
           0.2,
           0.2,
           0.2,
           0.2,
           0.2,
           16,
           12,
           8,
           6.5,
           6.5,
           6.25,
           5.5,
           5.25,
           4.6,
           4.2,
           2.8,
           2.4,
           2,
           2,
           2,
           1.1,
           0.65,
           0.5,
           0.5,
           0.5,
           0.5,
           0.2,
           0.2,
           0.2,
           0.2,
           15,
           15,
           9,
           8,
           6.25,
           6,
           4.4,
           3.2,
           3,
           3,
           2.6,
           2.4,
           2.4,
           2,
           1.9,
           1.7,
           1.4,
           1.2,
           0.5,
           0.5,
           0.3,
           0.2,
           0.2,
           0.2,
           0.2,
           16,
           12.25,
           12,
           10.75,
           10,
           8,
           8,
           6,
           2,
           1.5,
           1.5,
           1,
           0.9,
           0.6,
           0.55,
           0.5,
           0.5,
           0.5,
           0.2,
           0.2,
           0.2,
           0.2,
           17,
           16,
           10,
           10,
           8.25,
           7.5,
           6.75,
           5.75,
           4,
           0.9,
           0.75,
           0.5,
           0.5,
           0.5,
           0.5,
           0.5,
           0.45,
           0.2,
           0.2,
           0.2,
           0.2,
           0.2,
           0.2,
           0.2,
           0.2,
           17.5,
           16,
           15.25,
           12,
           8.25,
           8,
           8,
           3,
           1.7,
           1.5,
           0.75,
           0.5,
           0.3,
           0.2,
           0.2,
           0.2,
           0.2,
           0.2,
           0.2,
           0.2,
           0.2,
           0.2,
           0.2,
           0.2,
           18.5,
           11.5,
           9.25,
           9,
           8.25,
           6.75,
           5.25,
           4,
           3.8,
           2,
           0.75,
           0.6,
           0.55,
           0.5,
           0.5,
           0.4,
           0.2,
           0.2,
           0.2,
           0.2,
           0.2,
           0.2,
           15,
           11,
           10.75,
           10.75,
           7.75,
           7,
           7,
           5.5,
           3.4,
           3.2,
           2.4,
           2,
           1.9,
           0.95,
           0.8,
           0.75,
           0.7,
           0.6,
           0.5,
           0.3,
           0.2,
           0.2,
           0.2,
           0.2,
           0.2,
           14,
           10,
           10,
           8.5,
           8,
           7.75,
           6.5,
           5.75,
           5,
           4,
           3.8,
           2.6,
           1.5,
           1,
           0.75,
           0.5,
           0.3,
           0.3,
           0.2,
           0.2,
           0.2,
           0.2,
           0.2,
           0.2,
           0.2,
           13.25,
           8.75,
           8.5,
           8.25,
           6.5,
           5.25,
           4.2,
           4.2,
           4,
           4,
           4,
           4,
           2.6,
           2.6,
           2,
           1.8,
           1.5,
           1,
           0.5,
           0.5,
           0.25,
           0.2,
           0.2,
           0.2,
           0.2
          ],
          "sizemode": "area",
          "sizeref": 0.04625,
          "symbol": "circle"
         },
         "mode": "markers",
         "name": "",
         "orientation": "v",
         "showlegend": false,
         "type": "scatter",
         "x": [
          "All-Rounder",
          "All-Rounder",
          "Bowler",
          "Wicket-Keeper",
          "All-Rounder",
          "Batter",
          "Batter",
          "All-Rounder",
          "All-Rounder",
          "Bowler",
          "Bowler",
          "Bowler",
          "Batter",
          "Bowler",
          "All-Rounder",
          "Batter",
          "All-Rounder",
          "Bowler",
          "Bowler",
          "Batter",
          "Bowler",
          "Batter",
          "All-Rounder",
          "All-Rounder",
          "Bowler",
          "Wicket-Keeper",
          "All-Rounder",
          "Batter",
          "All-Rounder",
          "Bowler",
          "Batter",
          "Bowler",
          "Bowler",
          "Batter",
          "Bowler",
          "Batter",
          "Batter",
          "Bowler",
          "Bowler",
          "Wicket-Keeper",
          "Bowler",
          "All-Rounder",
          "Bowler",
          "Bowler",
          "Bowler",
          "Batter",
          "Batter",
          "All-Rounder",
          "Bowler",
          "Batter",
          "All-Rounder",
          "Bowler",
          "All-Rounder",
          "Batter",
          "Bowler",
          "Bowler",
          "Bowler",
          "Bowler",
          "All-Rounder",
          "Batter",
          "Batter",
          "Bowler",
          "Wicket-Keeper",
          "Batter",
          "Wicket-Keeper",
          "Bowler",
          "All-Rounder",
          "Wicket-Keeper",
          "Bowler",
          "All-Rounder",
          "Bowler",
          "Bowler",
          "Wicket-Keeper",
          "Batter",
          "Bowler",
          "All-Rounder",
          "Batter",
          "Bowler",
          "Bowler",
          "Bowler",
          "All-Rounder",
          "Batter",
          "All-Rounder",
          "Bowler",
          "All-Rounder",
          "Bowler",
          "All-Rounder",
          "Wicket-Keeper",
          "Bowler",
          "Batter",
          "Batter",
          "Wicket-Keeper",
          "Wicket-Keeper",
          "Bowler",
          "Bowler",
          "All-Rounder",
          "Bowler",
          "Batter",
          "Wicket-Keeper",
          "Bowler",
          "All-Rounder",
          "All-Rounder",
          "Bowler",
          "Wicket-Keeper",
          "All-Rounder",
          "Bowler",
          "All-Rounder",
          "All-Rounder",
          "Bowler",
          "Bowler",
          "Batter",
          "Bowler",
          "All-Rounder",
          "Bowler",
          "Bowler",
          "Batter",
          "All-Rounder",
          "All-Rounder",
          "Bowler",
          "All-Rounder",
          "All-Rounder",
          "Batter",
          "All-Rounder",
          "Batter",
          "Wicket-Keeper",
          "Bowler",
          "Batter",
          "Bowler",
          "Batter",
          "All-Rounder",
          "Batter",
          "Bowler",
          "Bowler",
          "Bowler",
          "Bowler",
          "Bowler",
          "Bowler",
          "Bowler",
          "Bowler",
          "Bowler",
          "Bowler",
          "Batter",
          "All-Rounder",
          "All-Rounder",
          "Batter",
          "Wicket-Keeper",
          "All-Rounder",
          "All-Rounder",
          "Bowler",
          "Batter",
          "Batter",
          "Wicket-Keeper",
          "Bowler",
          "Bowler",
          "Bowler",
          "All-Rounder",
          "Bowler",
          "Wicket-Keeper",
          "All-Rounder",
          "All-Rounder",
          "Batter",
          "Batter",
          "Batter",
          "All-Rounder",
          "All-Rounder",
          "Bowler",
          "Wicket-Keeper",
          "Bowler",
          "Batter",
          "All-Rounder",
          "Bowler",
          "All-Rounder",
          "Bowler",
          "Batter",
          "Bowler",
          "Wicket-Keeper",
          "Wicket-Keeper",
          "Batter",
          "All-Rounder",
          "Bowler",
          "Bowler",
          "All-Rounder",
          "Batter",
          "Bowler",
          "Bowler",
          "Bowler",
          "Bowler",
          "Batter",
          "All-Rounder",
          "All-Rounder",
          "Bowler",
          "Bowler",
          "Batter",
          "Wicket-Keeper",
          "Bowler",
          "Wicket-Keeper",
          "Batter",
          "Bowler",
          "Batter",
          "Bowler",
          "All-Rounder",
          "All-Rounder",
          "Batter",
          "Batter",
          "Bowler",
          "Bowler",
          "Batter",
          "Bowler",
          "Wicket-Keeper",
          "Bowler",
          "Bowler",
          "Bowler",
          "Wicket-Keeper",
          "Wicket-Keeper",
          "All-Rounder",
          "All-Rounder",
          "Bowler",
          "Bowler",
          "Batter",
          "All-Rounder",
          "Batter",
          "Batter",
          "All-Rounder",
          "Wicket-Keeper",
          "Bowler",
          "Bowler",
          "Batter",
          "Bowler",
          "Bowler",
          "Bowler",
          "Batter",
          "All-Rounder",
          "Bowler",
          "All-Rounder",
          "Wicket-Keeper",
          "Bowler",
          "Bowler",
          "Bowler",
          "Wicket-Keeper",
          "All-Rounder",
          "All-Rounder",
          "Wicket-Keeper",
          "Batter"
         ],
         "xaxis": "x",
         "y": [
          16.25,
          16,
          14,
          12,
          8,
          6.75,
          6,
          4,
          1.9,
          1.5,
          1.2,
          1,
          1,
          0.7,
          0.6,
          0.5,
          0.5,
          0.2,
          0.2,
          0.2,
          0.2,
          0.2,
          0.2,
          0.2,
          0.2,
          16,
          12,
          8,
          6.5,
          6.5,
          6.25,
          5.5,
          5.25,
          4.6,
          4.2,
          2.8,
          2.4,
          2,
          2,
          2,
          1.1,
          0.65,
          0.5,
          0.5,
          0.5,
          0.5,
          0.2,
          0.2,
          0.2,
          0.2,
          15,
          15,
          9,
          8,
          6.25,
          6,
          4.4,
          3.2,
          3,
          3,
          2.6,
          2.4,
          2.4,
          2,
          1.9,
          1.7,
          1.4,
          1.2,
          0.5,
          0.5,
          0.3,
          0.2,
          0.2,
          0.2,
          0.2,
          16,
          12.25,
          12,
          10.75,
          10,
          8,
          8,
          6,
          2,
          1.5,
          1.5,
          1,
          0.9,
          0.6,
          0.55,
          0.5,
          0.5,
          0.5,
          0.2,
          0.2,
          0.2,
          0.2,
          17,
          16,
          10,
          10,
          8.25,
          7.5,
          6.75,
          5.75,
          4,
          0.9,
          0.75,
          0.5,
          0.5,
          0.5,
          0.5,
          0.5,
          0.45,
          0.2,
          0.2,
          0.2,
          0.2,
          0.2,
          0.2,
          0.2,
          0.2,
          17.5,
          16,
          15.25,
          12,
          8.25,
          8,
          8,
          3,
          1.7,
          1.5,
          0.75,
          0.5,
          0.3,
          0.2,
          0.2,
          0.2,
          0.2,
          0.2,
          0.2,
          0.2,
          0.2,
          0.2,
          0.2,
          0.2,
          18.5,
          11.5,
          9.25,
          9,
          8.25,
          6.75,
          5.25,
          4,
          3.8,
          2,
          0.75,
          0.6,
          0.55,
          0.5,
          0.5,
          0.4,
          0.2,
          0.2,
          0.2,
          0.2,
          0.2,
          0.2,
          15,
          11,
          10.75,
          10.75,
          7.75,
          7,
          7,
          5.5,
          3.4,
          3.2,
          2.4,
          2,
          1.9,
          0.95,
          0.8,
          0.75,
          0.7,
          0.6,
          0.5,
          0.3,
          0.2,
          0.2,
          0.2,
          0.2,
          0.2,
          14,
          10,
          10,
          8.5,
          8,
          7.75,
          6.5,
          5.75,
          5,
          4,
          3.8,
          2.6,
          1.5,
          1,
          0.75,
          0.5,
          0.3,
          0.3,
          0.2,
          0.2,
          0.2,
          0.2,
          0.2,
          0.2,
          0.2,
          13.25,
          8.75,
          8.5,
          8.25,
          6.5,
          5.25,
          4.2,
          4.2,
          4,
          4,
          4,
          4,
          2.6,
          2.6,
          2,
          1.8,
          1.5,
          1,
          0.5,
          0.5,
          0.25,
          0.2,
          0.2,
          0.2,
          0.2
         ],
         "yaxis": "y"
        }
       ],
       "layout": {
        "coloraxis": {
         "colorbar": {
          "title": {
           "text": "color"
          }
         },
         "colorscale": [
          [
           0,
           "#0d0887"
          ],
          [
           0.1111111111111111,
           "#46039f"
          ],
          [
           0.2222222222222222,
           "#7201a8"
          ],
          [
           0.3333333333333333,
           "#9c179e"
          ],
          [
           0.4444444444444444,
           "#bd3786"
          ],
          [
           0.5555555555555556,
           "#d8576b"
          ],
          [
           0.6666666666666666,
           "#ed7953"
          ],
          [
           0.7777777777777778,
           "#fb9f3a"
          ],
          [
           0.8888888888888888,
           "#fdca26"
          ],
          [
           1,
           "#f0f921"
          ]
         ]
        },
        "legend": {
         "itemsizing": "constant",
         "tracegroupgap": 0
        },
        "margin": {
         "t": 60
        },
        "template": {
         "data": {
          "bar": [
           {
            "error_x": {
             "color": "#2a3f5f"
            },
            "error_y": {
             "color": "#2a3f5f"
            },
            "marker": {
             "line": {
              "color": "#E5ECF6",
              "width": 0.5
             },
             "pattern": {
              "fillmode": "overlay",
              "size": 10,
              "solidity": 0.2
             }
            },
            "type": "bar"
           }
          ],
          "barpolar": [
           {
            "marker": {
             "line": {
              "color": "#E5ECF6",
              "width": 0.5
             },
             "pattern": {
              "fillmode": "overlay",
              "size": 10,
              "solidity": 0.2
             }
            },
            "type": "barpolar"
           }
          ],
          "carpet": [
           {
            "aaxis": {
             "endlinecolor": "#2a3f5f",
             "gridcolor": "white",
             "linecolor": "white",
             "minorgridcolor": "white",
             "startlinecolor": "#2a3f5f"
            },
            "baxis": {
             "endlinecolor": "#2a3f5f",
             "gridcolor": "white",
             "linecolor": "white",
             "minorgridcolor": "white",
             "startlinecolor": "#2a3f5f"
            },
            "type": "carpet"
           }
          ],
          "choropleth": [
           {
            "colorbar": {
             "outlinewidth": 0,
             "ticks": ""
            },
            "type": "choropleth"
           }
          ],
          "contour": [
           {
            "colorbar": {
             "outlinewidth": 0,
             "ticks": ""
            },
            "colorscale": [
             [
              0,
              "#0d0887"
             ],
             [
              0.1111111111111111,
              "#46039f"
             ],
             [
              0.2222222222222222,
              "#7201a8"
             ],
             [
              0.3333333333333333,
              "#9c179e"
             ],
             [
              0.4444444444444444,
              "#bd3786"
             ],
             [
              0.5555555555555556,
              "#d8576b"
             ],
             [
              0.6666666666666666,
              "#ed7953"
             ],
             [
              0.7777777777777778,
              "#fb9f3a"
             ],
             [
              0.8888888888888888,
              "#fdca26"
             ],
             [
              1,
              "#f0f921"
             ]
            ],
            "type": "contour"
           }
          ],
          "contourcarpet": [
           {
            "colorbar": {
             "outlinewidth": 0,
             "ticks": ""
            },
            "type": "contourcarpet"
           }
          ],
          "heatmap": [
           {
            "colorbar": {
             "outlinewidth": 0,
             "ticks": ""
            },
            "colorscale": [
             [
              0,
              "#0d0887"
             ],
             [
              0.1111111111111111,
              "#46039f"
             ],
             [
              0.2222222222222222,
              "#7201a8"
             ],
             [
              0.3333333333333333,
              "#9c179e"
             ],
             [
              0.4444444444444444,
              "#bd3786"
             ],
             [
              0.5555555555555556,
              "#d8576b"
             ],
             [
              0.6666666666666666,
              "#ed7953"
             ],
             [
              0.7777777777777778,
              "#fb9f3a"
             ],
             [
              0.8888888888888888,
              "#fdca26"
             ],
             [
              1,
              "#f0f921"
             ]
            ],
            "type": "heatmap"
           }
          ],
          "heatmapgl": [
           {
            "colorbar": {
             "outlinewidth": 0,
             "ticks": ""
            },
            "colorscale": [
             [
              0,
              "#0d0887"
             ],
             [
              0.1111111111111111,
              "#46039f"
             ],
             [
              0.2222222222222222,
              "#7201a8"
             ],
             [
              0.3333333333333333,
              "#9c179e"
             ],
             [
              0.4444444444444444,
              "#bd3786"
             ],
             [
              0.5555555555555556,
              "#d8576b"
             ],
             [
              0.6666666666666666,
              "#ed7953"
             ],
             [
              0.7777777777777778,
              "#fb9f3a"
             ],
             [
              0.8888888888888888,
              "#fdca26"
             ],
             [
              1,
              "#f0f921"
             ]
            ],
            "type": "heatmapgl"
           }
          ],
          "histogram": [
           {
            "marker": {
             "pattern": {
              "fillmode": "overlay",
              "size": 10,
              "solidity": 0.2
             }
            },
            "type": "histogram"
           }
          ],
          "histogram2d": [
           {
            "colorbar": {
             "outlinewidth": 0,
             "ticks": ""
            },
            "colorscale": [
             [
              0,
              "#0d0887"
             ],
             [
              0.1111111111111111,
              "#46039f"
             ],
             [
              0.2222222222222222,
              "#7201a8"
             ],
             [
              0.3333333333333333,
              "#9c179e"
             ],
             [
              0.4444444444444444,
              "#bd3786"
             ],
             [
              0.5555555555555556,
              "#d8576b"
             ],
             [
              0.6666666666666666,
              "#ed7953"
             ],
             [
              0.7777777777777778,
              "#fb9f3a"
             ],
             [
              0.8888888888888888,
              "#fdca26"
             ],
             [
              1,
              "#f0f921"
             ]
            ],
            "type": "histogram2d"
           }
          ],
          "histogram2dcontour": [
           {
            "colorbar": {
             "outlinewidth": 0,
             "ticks": ""
            },
            "colorscale": [
             [
              0,
              "#0d0887"
             ],
             [
              0.1111111111111111,
              "#46039f"
             ],
             [
              0.2222222222222222,
              "#7201a8"
             ],
             [
              0.3333333333333333,
              "#9c179e"
             ],
             [
              0.4444444444444444,
              "#bd3786"
             ],
             [
              0.5555555555555556,
              "#d8576b"
             ],
             [
              0.6666666666666666,
              "#ed7953"
             ],
             [
              0.7777777777777778,
              "#fb9f3a"
             ],
             [
              0.8888888888888888,
              "#fdca26"
             ],
             [
              1,
              "#f0f921"
             ]
            ],
            "type": "histogram2dcontour"
           }
          ],
          "mesh3d": [
           {
            "colorbar": {
             "outlinewidth": 0,
             "ticks": ""
            },
            "type": "mesh3d"
           }
          ],
          "parcoords": [
           {
            "line": {
             "colorbar": {
              "outlinewidth": 0,
              "ticks": ""
             }
            },
            "type": "parcoords"
           }
          ],
          "pie": [
           {
            "automargin": true,
            "type": "pie"
           }
          ],
          "scatter": [
           {
            "fillpattern": {
             "fillmode": "overlay",
             "size": 10,
             "solidity": 0.2
            },
            "type": "scatter"
           }
          ],
          "scatter3d": [
           {
            "line": {
             "colorbar": {
              "outlinewidth": 0,
              "ticks": ""
             }
            },
            "marker": {
             "colorbar": {
              "outlinewidth": 0,
              "ticks": ""
             }
            },
            "type": "scatter3d"
           }
          ],
          "scattercarpet": [
           {
            "marker": {
             "colorbar": {
              "outlinewidth": 0,
              "ticks": ""
             }
            },
            "type": "scattercarpet"
           }
          ],
          "scattergeo": [
           {
            "marker": {
             "colorbar": {
              "outlinewidth": 0,
              "ticks": ""
             }
            },
            "type": "scattergeo"
           }
          ],
          "scattergl": [
           {
            "marker": {
             "colorbar": {
              "outlinewidth": 0,
              "ticks": ""
             }
            },
            "type": "scattergl"
           }
          ],
          "scattermapbox": [
           {
            "marker": {
             "colorbar": {
              "outlinewidth": 0,
              "ticks": ""
             }
            },
            "type": "scattermapbox"
           }
          ],
          "scatterpolar": [
           {
            "marker": {
             "colorbar": {
              "outlinewidth": 0,
              "ticks": ""
             }
            },
            "type": "scatterpolar"
           }
          ],
          "scatterpolargl": [
           {
            "marker": {
             "colorbar": {
              "outlinewidth": 0,
              "ticks": ""
             }
            },
            "type": "scatterpolargl"
           }
          ],
          "scatterternary": [
           {
            "marker": {
             "colorbar": {
              "outlinewidth": 0,
              "ticks": ""
             }
            },
            "type": "scatterternary"
           }
          ],
          "surface": [
           {
            "colorbar": {
             "outlinewidth": 0,
             "ticks": ""
            },
            "colorscale": [
             [
              0,
              "#0d0887"
             ],
             [
              0.1111111111111111,
              "#46039f"
             ],
             [
              0.2222222222222222,
              "#7201a8"
             ],
             [
              0.3333333333333333,
              "#9c179e"
             ],
             [
              0.4444444444444444,
              "#bd3786"
             ],
             [
              0.5555555555555556,
              "#d8576b"
             ],
             [
              0.6666666666666666,
              "#ed7953"
             ],
             [
              0.7777777777777778,
              "#fb9f3a"
             ],
             [
              0.8888888888888888,
              "#fdca26"
             ],
             [
              1,
              "#f0f921"
             ]
            ],
            "type": "surface"
           }
          ],
          "table": [
           {
            "cells": {
             "fill": {
              "color": "#EBF0F8"
             },
             "line": {
              "color": "white"
             }
            },
            "header": {
             "fill": {
              "color": "#C8D4E3"
             },
             "line": {
              "color": "white"
             }
            },
            "type": "table"
           }
          ]
         },
         "layout": {
          "annotationdefaults": {
           "arrowcolor": "#2a3f5f",
           "arrowhead": 0,
           "arrowwidth": 1
          },
          "autotypenumbers": "strict",
          "coloraxis": {
           "colorbar": {
            "outlinewidth": 0,
            "ticks": ""
           }
          },
          "colorscale": {
           "diverging": [
            [
             0,
             "#8e0152"
            ],
            [
             0.1,
             "#c51b7d"
            ],
            [
             0.2,
             "#de77ae"
            ],
            [
             0.3,
             "#f1b6da"
            ],
            [
             0.4,
             "#fde0ef"
            ],
            [
             0.5,
             "#f7f7f7"
            ],
            [
             0.6,
             "#e6f5d0"
            ],
            [
             0.7,
             "#b8e186"
            ],
            [
             0.8,
             "#7fbc41"
            ],
            [
             0.9,
             "#4d9221"
            ],
            [
             1,
             "#276419"
            ]
           ],
           "sequential": [
            [
             0,
             "#0d0887"
            ],
            [
             0.1111111111111111,
             "#46039f"
            ],
            [
             0.2222222222222222,
             "#7201a8"
            ],
            [
             0.3333333333333333,
             "#9c179e"
            ],
            [
             0.4444444444444444,
             "#bd3786"
            ],
            [
             0.5555555555555556,
             "#d8576b"
            ],
            [
             0.6666666666666666,
             "#ed7953"
            ],
            [
             0.7777777777777778,
             "#fb9f3a"
            ],
            [
             0.8888888888888888,
             "#fdca26"
            ],
            [
             1,
             "#f0f921"
            ]
           ],
           "sequentialminus": [
            [
             0,
             "#0d0887"
            ],
            [
             0.1111111111111111,
             "#46039f"
            ],
            [
             0.2222222222222222,
             "#7201a8"
            ],
            [
             0.3333333333333333,
             "#9c179e"
            ],
            [
             0.4444444444444444,
             "#bd3786"
            ],
            [
             0.5555555555555556,
             "#d8576b"
            ],
            [
             0.6666666666666666,
             "#ed7953"
            ],
            [
             0.7777777777777778,
             "#fb9f3a"
            ],
            [
             0.8888888888888888,
             "#fdca26"
            ],
            [
             1,
             "#f0f921"
            ]
           ]
          },
          "colorway": [
           "#636efa",
           "#EF553B",
           "#00cc96",
           "#ab63fa",
           "#FFA15A",
           "#19d3f3",
           "#FF6692",
           "#B6E880",
           "#FF97FF",
           "#FECB52"
          ],
          "font": {
           "color": "#2a3f5f"
          },
          "geo": {
           "bgcolor": "white",
           "lakecolor": "white",
           "landcolor": "#E5ECF6",
           "showlakes": true,
           "showland": true,
           "subunitcolor": "white"
          },
          "hoverlabel": {
           "align": "left"
          },
          "hovermode": "closest",
          "mapbox": {
           "style": "light"
          },
          "paper_bgcolor": "white",
          "plot_bgcolor": "#E5ECF6",
          "polar": {
           "angularaxis": {
            "gridcolor": "white",
            "linecolor": "white",
            "ticks": ""
           },
           "bgcolor": "#E5ECF6",
           "radialaxis": {
            "gridcolor": "white",
            "linecolor": "white",
            "ticks": ""
           }
          },
          "scene": {
           "xaxis": {
            "backgroundcolor": "#E5ECF6",
            "gridcolor": "white",
            "gridwidth": 2,
            "linecolor": "white",
            "showbackground": true,
            "ticks": "",
            "zerolinecolor": "white"
           },
           "yaxis": {
            "backgroundcolor": "#E5ECF6",
            "gridcolor": "white",
            "gridwidth": 2,
            "linecolor": "white",
            "showbackground": true,
            "ticks": "",
            "zerolinecolor": "white"
           },
           "zaxis": {
            "backgroundcolor": "#E5ECF6",
            "gridcolor": "white",
            "gridwidth": 2,
            "linecolor": "white",
            "showbackground": true,
            "ticks": "",
            "zerolinecolor": "white"
           }
          },
          "shapedefaults": {
           "line": {
            "color": "#2a3f5f"
           }
          },
          "ternary": {
           "aaxis": {
            "gridcolor": "white",
            "linecolor": "white",
            "ticks": ""
           },
           "baxis": {
            "gridcolor": "white",
            "linecolor": "white",
            "ticks": ""
           },
           "bgcolor": "#E5ECF6",
           "caxis": {
            "gridcolor": "white",
            "linecolor": "white",
            "ticks": ""
           }
          },
          "title": {
           "x": 0.05
          },
          "xaxis": {
           "automargin": true,
           "gridcolor": "white",
           "linecolor": "white",
           "ticks": "",
           "title": {
            "standoff": 15
           },
           "zerolinecolor": "white",
           "zerolinewidth": 2
          },
          "yaxis": {
           "automargin": true,
           "gridcolor": "white",
           "linecolor": "white",
           "ticks": "",
           "title": {
            "standoff": 15
           },
           "zerolinecolor": "white",
           "zerolinewidth": 2
          }
         }
        },
        "xaxis": {
         "anchor": "y",
         "domain": [
          0,
          1
         ],
         "title": {
          "text": "x"
         }
        },
        "yaxis": {
         "anchor": "x",
         "domain": [
          0,
          1
         ],
         "title": {
          "text": "y"
         }
        }
       }
      }
     },
     "metadata": {},
     "output_type": "display_data"
    }
   ],
   "source": [
    "px.scatter(team,type,price,color=price,hover_name=data['Team'],size=price)"
   ]
  },
  {
   "cell_type": "code",
   "execution_count": 267,
   "metadata": {},
   "outputs": [
    {
     "data": {
      "application/vnd.plotly.v1+json": {
       "config": {
        "plotlyServerURL": "https://plot.ly"
       },
       "data": [
        {
         "hovertemplate": "<b>%{hovertext}</b><br><br>color=Chennai Super Kings<br>index=%{x}<br>value=%{y}<extra></extra>",
         "hovertext": [
          "Ben Stokes ",
          "Ravindra Jadeja ",
          "Deepak Chahar ",
          "MS Dhoni ",
          "Moeen Ali ",
          "Ambati Rayudu ",
          "Ruturaj Gaikwad ",
          "Shivam Dube ",
          "Mitchell Santner ",
          "Rajvardhan Hangargekar ",
          "Prashant Solanki ",
          "Kyle Jamieson ",
          "Devon Conway ",
          "Maheesh Theekshana ",
          "Nishant Sindhu ",
          "Ajinkya Rahane ",
          "Dwaine Pretorius ",
          "Matheesha Pathirana ",
          "Mukesh Choudhary ",
          "Shaik Rasheed ",
          "Simarjeet Singh ",
          "Subhranshu Senapati ",
          "Bhagath Varma ",
          "Ajay Mandal ",
          "Tushar Deshpande "
         ],
         "legendgroup": "Chennai Super Kings",
         "marker": {
          "color": "#636efa",
          "symbol": "circle"
         },
         "mode": "markers",
         "name": "Chennai Super Kings",
         "orientation": "v",
         "showlegend": true,
         "type": "scatter",
         "x": [
          0,
          1,
          2,
          3,
          4,
          5,
          6,
          7,
          8,
          9,
          10,
          11,
          12,
          13,
          14,
          15,
          16,
          17,
          18,
          19,
          20,
          21,
          22,
          23,
          24
         ],
         "xaxis": "x",
         "y": [
          16.25,
          16,
          14,
          12,
          8,
          6.75,
          6,
          4,
          1.9,
          1.5,
          1.2,
          1,
          1,
          0.7,
          0.6,
          0.5,
          0.5,
          0.2,
          0.2,
          0.2,
          0.2,
          0.2,
          0.2,
          0.2,
          0.2
         ],
         "yaxis": "y"
        },
        {
         "hovertemplate": "<b>%{hovertext}</b><br><br>color=Delhi Capitals<br>index=%{x}<br>value=%{y}<extra></extra>",
         "hovertext": [
          "Rishabh Pant ",
          "Axar Patel ",
          "Prithvi Shaw ",
          "Mitchell Marsh ",
          "Anrich Nortje ",
          "David Warner ",
          "Mukesh Kumar ",
          "Khaleel Ahmed ",
          "Rilee Rossouw ",
          "Chetan Sakariya ",
          "Rovman Powell ",
          "Manish Pandey ",
          "Mustafizur Rahman ",
          "Kuldeep Yadav ",
          "Philip Salt ",
          "Kamlesh Nagarkoti ",
          "Lalit Yadav ",
          "Ishant Sharma ",
          "Lungi Ngidi ",
          "Pravin Dubey ",
          "Yash Dhull ",
          "Ripal Patel ",
          "Aman Khan ",
          "Vicky Ostwal ",
          "Sarfaraz Khan "
         ],
         "legendgroup": "Delhi Capitals",
         "marker": {
          "color": "#EF553B",
          "symbol": "circle"
         },
         "mode": "markers",
         "name": "Delhi Capitals",
         "orientation": "v",
         "showlegend": true,
         "type": "scatter",
         "x": [
          25,
          26,
          27,
          28,
          29,
          30,
          31,
          32,
          33,
          34,
          35,
          36,
          37,
          38,
          39,
          40,
          41,
          42,
          43,
          44,
          45,
          46,
          47,
          48,
          49
         ],
         "xaxis": "x",
         "y": [
          16,
          12,
          8,
          6.5,
          6.5,
          6.25,
          5.5,
          5.25,
          4.6,
          4.2,
          2.8,
          2.4,
          2,
          2,
          2,
          1.1,
          0.65,
          0.5,
          0.5,
          0.5,
          0.5,
          0.2,
          0.2,
          0.2,
          0.2
         ],
         "yaxis": "y"
        },
        {
         "hovertemplate": "<b>%{hovertext}</b><br><br>color=Gujarat Titans<br>index=%{x}<br>value=%{y}<extra></extra>",
         "hovertext": [
          "Hardik Pandya ",
          "Rashid Khan ",
          "Rahul Tewatia ",
          "Shubman Gill ",
          "Mohammad Shami ",
          "Shivam Mavi ",
          "Josh Little ",
          "Yash Dayal ",
          "Sai Kishore ",
          "David Miller ",
          "Abhinav Manohar ",
          "Alzarri Joseph ",
          "Matthew Wade ",
          "Kane Williamson ",
          "Wriddhiman Saha ",
          "Jayant Yadav ",
          "Vijay Shankar ",
          "Srikar Bharat ",
          "Mohit Sharma ",
          "Odean Smith ",
          "Noor Ahmad ",
          "Darshan Nalkande ",
          "Urvil Patel ",
          "Sai Sudharsan ",
          "Pradeep Sangwan ",
          "Andre Russell ",
          "Shreyas Iyer ",
          "Varun Chakaravarthy ",
          "Shardul Thakur ",
          "Lockie Ferguson ",
          "Venkatesh Iyer ",
          "Nitish Rana ",
          "Sunil Narine ",
          "Umesh Yadav ",
          "Shakib Al Hasan ",
          "Tim Southee ",
          "David Wiese ",
          "Narayan Jagadeesan ",
          "Vaibhav Arora ",
          "Rinku Singh ",
          "Mandeep Singh ",
          "Litton Das ",
          "Rahmanullah Gurbaz ",
          "Suyash Sharma ",
          "Harshit Rana ",
          "Anukul Roy ",
          "Kulwant Khejroliya "
         ],
         "legendgroup": "Gujarat Titans",
         "marker": {
          "color": "#00cc96",
          "symbol": "circle"
         },
         "mode": "markers",
         "name": "Gujarat Titans",
         "orientation": "v",
         "showlegend": true,
         "type": "scatter",
         "x": [
          50,
          51,
          52,
          53,
          54,
          55,
          56,
          57,
          58,
          59,
          60,
          61,
          62,
          63,
          64,
          65,
          66,
          67,
          68,
          69,
          70,
          71,
          72,
          73,
          74,
          75,
          76,
          77,
          78,
          79,
          80,
          81,
          82,
          83,
          84,
          85,
          86,
          87,
          88,
          89,
          90,
          91,
          92,
          93,
          94,
          95,
          96
         ],
         "xaxis": "x",
         "y": [
          15,
          15,
          9,
          8,
          6.25,
          6,
          4.4,
          3.2,
          3,
          3,
          2.6,
          2.4,
          2.4,
          2,
          1.9,
          1.7,
          1.4,
          1.2,
          0.5,
          0.5,
          0.3,
          0.2,
          0.2,
          0.2,
          0.2,
          16,
          12.25,
          12,
          10.75,
          10,
          8,
          8,
          6,
          2,
          1.5,
          1.5,
          1,
          0.9,
          0.6,
          0.55,
          0.5,
          0.5,
          0.5,
          0.2,
          0.2,
          0.2,
          0.2
         ],
         "yaxis": "y"
        },
        {
         "hovertemplate": "<b>%{hovertext}</b><br><br>color=Lucknow Super Giants<br>index=%{x}<br>value=%{y}<extra></extra>",
         "hovertext": [
          "KL Rahul ",
          "Nicholas Pooran ",
          "Avesh Khan ",
          "Marcus Stoinis ",
          "Krunal Pandya ",
          "Mark Wood ",
          "Quinton de Kock ",
          "Deepak Hooda ",
          "Ravi Bishnoi ",
          "Krishnappa Gowtham ",
          "Daniel Sams ",
          "Amit Mishra ",
          "Jaydev Unadkat ",
          "Kyle Mayers ",
          "Naveen-ul-Haq ",
          "Romario Shepherd ",
          "Yash Thakur ",
          "Mohsin Khan ",
          "Ayush Badoni ",
          "Karan Sharma ",
          "Yudhvir Singh ",
          "Mayank Yadav ",
          "Prerak Mankad ",
          "Swapnil Singh ",
          "Manan Vohra "
         ],
         "legendgroup": "Lucknow Super Giants",
         "marker": {
          "color": "#ab63fa",
          "symbol": "circle"
         },
         "mode": "markers",
         "name": "Lucknow Super Giants",
         "orientation": "v",
         "showlegend": true,
         "type": "scatter",
         "x": [
          97,
          98,
          99,
          100,
          101,
          102,
          103,
          104,
          105,
          106,
          107,
          108,
          109,
          110,
          111,
          112,
          113,
          114,
          115,
          116,
          117,
          118,
          119,
          120,
          121
         ],
         "xaxis": "x",
         "y": [
          17,
          16,
          10,
          10,
          8.25,
          7.5,
          6.75,
          5.75,
          4,
          0.9,
          0.75,
          0.5,
          0.5,
          0.5,
          0.5,
          0.5,
          0.45,
          0.2,
          0.2,
          0.2,
          0.2,
          0.2,
          0.2,
          0.2,
          0.2
         ],
         "yaxis": "y"
        },
        {
         "hovertemplate": "<b>%{hovertext}</b><br><br>color=Mumbai Indians<br>index=%{x}<br>value=%{y}<extra></extra>",
         "hovertext": [
          "Cameron Green ",
          "Rohit Sharma ",
          "Ishan Kishan ",
          "Jasprit Bumrah ",
          "Tim David ",
          "Jofra Archer ",
          "Suryakumar Yadav ",
          "Dewald Brevis ",
          "Tilak Varma ",
          "Jhye Richardson ",
          "Jason Behrendorff ",
          "Piyush Chawla ",
          "Arjun Tendulkar ",
          "Kumar Kartikeya ",
          "Duan Jansen ",
          "Arshad Khan ",
          "Hrithik Shokeen ",
          "Akash Madhwal ",
          "Raghav Goyal ",
          "Tristan Stubbs ",
          "Nehal Wadhera ",
          "Shams Mulani ",
          "Ramandeep Singh ",
          "Vishnu Vinod "
         ],
         "legendgroup": "Mumbai Indians",
         "marker": {
          "color": "#FFA15A",
          "symbol": "circle"
         },
         "mode": "markers",
         "name": "Mumbai Indians",
         "orientation": "v",
         "showlegend": true,
         "type": "scatter",
         "x": [
          122,
          123,
          124,
          125,
          126,
          127,
          128,
          129,
          130,
          131,
          132,
          133,
          134,
          135,
          136,
          137,
          138,
          139,
          140,
          141,
          142,
          143,
          144,
          145
         ],
         "xaxis": "x",
         "y": [
          17.5,
          16,
          15.25,
          12,
          8.25,
          8,
          8,
          3,
          1.7,
          1.5,
          0.75,
          0.5,
          0.3,
          0.2,
          0.2,
          0.2,
          0.2,
          0.2,
          0.2,
          0.2,
          0.2,
          0.2,
          0.2,
          0.2
         ],
         "yaxis": "y"
        },
        {
         "hovertemplate": "<b>%{hovertext}</b><br><br>color=Punjab Kings<br>index=%{x}<br>value=%{y}<extra></extra>",
         "hovertext": [
          "Sam Curran ",
          "Liam Livingstone ",
          "Kagiso Rabada ",
          "Shahrukh Khan ",
          "Shikhar Dhawan ",
          "Jonny Bairstow ",
          "Rahul Chahar ",
          "Arshdeep Singh ",
          "Harpreet Brar ",
          "Raj Bawa ",
          "Nathan Ellis ",
          "Prabhsimran Singh ",
          "Rishi Dhawan ",
          "Sikandar Raza ",
          "Bhanuka Rajapaksa ",
          "Harpreet Singh Bhatia ",
          "Atharva Taide ",
          "Mohit Rathee ",
          "Shivam Singh ",
          "Vidhwath Kaverappa ",
          "Jitesh Sharma ",
          "Baltej Singh "
         ],
         "legendgroup": "Punjab Kings",
         "marker": {
          "color": "#19d3f3",
          "symbol": "circle"
         },
         "mode": "markers",
         "name": "Punjab Kings",
         "orientation": "v",
         "showlegend": true,
         "type": "scatter",
         "x": [
          146,
          147,
          148,
          149,
          150,
          151,
          152,
          153,
          154,
          155,
          156,
          157,
          158,
          159,
          160,
          161,
          162,
          163,
          164,
          165,
          166,
          167
         ],
         "xaxis": "x",
         "y": [
          18.5,
          11.5,
          9.25,
          9,
          8.25,
          6.75,
          5.25,
          4,
          3.8,
          2,
          0.75,
          0.6,
          0.55,
          0.5,
          0.5,
          0.4,
          0.2,
          0.2,
          0.2,
          0.2,
          0.2,
          0.2
         ],
         "yaxis": "y"
        },
        {
         "hovertemplate": "<b>%{hovertext}</b><br><br>color=Royal Challengers Bangalore<br>index=%{x}<br>value=%{y}<extra></extra>",
         "hovertext": [
          "Virat Kohli ",
          "Glenn Maxwell ",
          "Harshal Patel ",
          "Wanindu Hasaranga ",
          "Josh Hazlewood ",
          "Faf du Plessis ",
          "Mohammed Siraj ",
          "Dinesh Karthik ",
          "Anuj Rawat ",
          "Will Jacks ",
          "Shahbaz Ahmed ",
          "David Willey ",
          "Reece Topley ",
          "Mahipal Lomror ",
          "Finn Allen ",
          "Siddarth Kaul ",
          "Rajan Kumar ",
          "Avinash Singh ",
          "Karn Sharma ",
          "Suyash Prabhudessai ",
          "Sonu Yadav ",
          "Manoj Bhandage ",
          "Akash Deep ",
          "Himanshu Sharma ",
          "Rajat Patidar "
         ],
         "legendgroup": "Royal Challengers Bangalore",
         "marker": {
          "color": "#FF6692",
          "symbol": "circle"
         },
         "mode": "markers",
         "name": "Royal Challengers Bangalore",
         "orientation": "v",
         "showlegend": true,
         "type": "scatter",
         "x": [
          168,
          169,
          170,
          171,
          172,
          173,
          174,
          175,
          176,
          177,
          178,
          179,
          180,
          181,
          182,
          183,
          184,
          185,
          186,
          187,
          188,
          189,
          190,
          191,
          192
         ],
         "xaxis": "x",
         "y": [
          15,
          11,
          10.75,
          10.75,
          7.75,
          7,
          7,
          5.5,
          3.4,
          3.2,
          2.4,
          2,
          1.9,
          0.95,
          0.8,
          0.75,
          0.7,
          0.6,
          0.5,
          0.3,
          0.2,
          0.2,
          0.2,
          0.2,
          0.2
         ],
         "yaxis": "y"
        },
        {
         "hovertemplate": "<b>%{hovertext}</b><br><br>color=Rajasthan Royals<br>index=%{x}<br>value=%{y}<extra></extra>",
         "hovertext": [
          "Sanju Samson ",
          "Prasidh Krishna ",
          "Jos Buttler ",
          "Shimron Hetmyer ",
          "Trent Boult ",
          "Devdutt Padikkal ",
          "Yuzvendra Chahal ",
          "Jason Holder ",
          "Ravichandran Ashwin ",
          "Yashasvi Jaiswal ",
          "Riyan Parag ",
          "Navdeep Saini ",
          "Adam Zampa ",
          "Joe Root ",
          "Obed McCoy ",
          "D Ferreira ",
          "KM Asif ",
          "KC Cariappa ",
          "Kuldeep Sen ",
          "Dhruv Jurel ",
          "Kunal Singh Rathore ",
          "Abdul Basith ",
          "Akash Vasisht ",
          "Murugan Ashwin ",
          "Kuldip Yadav "
         ],
         "legendgroup": "Rajasthan Royals",
         "marker": {
          "color": "#B6E880",
          "symbol": "circle"
         },
         "mode": "markers",
         "name": "Rajasthan Royals",
         "orientation": "v",
         "showlegend": true,
         "type": "scatter",
         "x": [
          193,
          194,
          195,
          196,
          197,
          198,
          199,
          200,
          201,
          202,
          203,
          204,
          205,
          206,
          207,
          208,
          209,
          210,
          211,
          212,
          213,
          214,
          215,
          216,
          217
         ],
         "xaxis": "x",
         "y": [
          14,
          10,
          10,
          8.5,
          8,
          7.75,
          6.5,
          5.75,
          5,
          4,
          3.8,
          2.6,
          1.5,
          1,
          0.75,
          0.5,
          0.3,
          0.3,
          0.2,
          0.2,
          0.2,
          0.2,
          0.2,
          0.2,
          0.2
         ],
         "yaxis": "y"
        },
        {
         "hovertemplate": "<b>%{hovertext}</b><br><br>color=Sunrisers Hyderabad<br>index=%{x}<br>value=%{y}<extra></extra>",
         "hovertext": [
          "Harry Brook ",
          "Washington Sundar ",
          "Rahul Tripathi ",
          "Mayank Agarwal ",
          "Abhishek Sharma ",
          "Heinrich Klaasen ",
          "Bhuvneshwar Kumar ",
          "Marco Jansen ",
          "Abdul Samad ",
          "Umran Malik ",
          "T Natarajan ",
          "Kartik Tyagi ",
          "Aiden Markram ",
          "Vivrant Sharma ",
          "Adil Rashid ",
          "Mayank Dagar ",
          "Glenn Phillips ",
          "Akeal Hosein ",
          "Mayank Markande ",
          "Fazalhaq Farooqi ",
          "Upendra Yadav ",
          "Sanvir Singh ",
          "Samarth Vyas ",
          "Nitish Kumar Reddy ",
          "Anmolpreet Singh "
         ],
         "legendgroup": "Sunrisers Hyderabad",
         "marker": {
          "color": "#FF97FF",
          "symbol": "circle"
         },
         "mode": "markers",
         "name": "Sunrisers Hyderabad",
         "orientation": "v",
         "showlegend": true,
         "type": "scatter",
         "x": [
          218,
          219,
          220,
          221,
          222,
          223,
          224,
          225,
          226,
          227,
          228,
          229,
          230,
          231,
          232,
          233,
          234,
          235,
          236,
          237,
          238,
          239,
          240,
          241,
          242
         ],
         "xaxis": "x",
         "y": [
          13.25,
          8.75,
          8.5,
          8.25,
          6.5,
          5.25,
          4.2,
          4.2,
          4,
          4,
          4,
          4,
          2.6,
          2.6,
          2,
          1.8,
          1.5,
          1,
          0.5,
          0.5,
          0.25,
          0.2,
          0.2,
          0.2,
          0.2
         ],
         "yaxis": "y"
        }
       ],
       "layout": {
        "legend": {
         "title": {
          "text": "color"
         },
         "tracegroupgap": 0
        },
        "margin": {
         "t": 60
        },
        "template": {
         "data": {
          "bar": [
           {
            "error_x": {
             "color": "#2a3f5f"
            },
            "error_y": {
             "color": "#2a3f5f"
            },
            "marker": {
             "line": {
              "color": "#E5ECF6",
              "width": 0.5
             },
             "pattern": {
              "fillmode": "overlay",
              "size": 10,
              "solidity": 0.2
             }
            },
            "type": "bar"
           }
          ],
          "barpolar": [
           {
            "marker": {
             "line": {
              "color": "#E5ECF6",
              "width": 0.5
             },
             "pattern": {
              "fillmode": "overlay",
              "size": 10,
              "solidity": 0.2
             }
            },
            "type": "barpolar"
           }
          ],
          "carpet": [
           {
            "aaxis": {
             "endlinecolor": "#2a3f5f",
             "gridcolor": "white",
             "linecolor": "white",
             "minorgridcolor": "white",
             "startlinecolor": "#2a3f5f"
            },
            "baxis": {
             "endlinecolor": "#2a3f5f",
             "gridcolor": "white",
             "linecolor": "white",
             "minorgridcolor": "white",
             "startlinecolor": "#2a3f5f"
            },
            "type": "carpet"
           }
          ],
          "choropleth": [
           {
            "colorbar": {
             "outlinewidth": 0,
             "ticks": ""
            },
            "type": "choropleth"
           }
          ],
          "contour": [
           {
            "colorbar": {
             "outlinewidth": 0,
             "ticks": ""
            },
            "colorscale": [
             [
              0,
              "#0d0887"
             ],
             [
              0.1111111111111111,
              "#46039f"
             ],
             [
              0.2222222222222222,
              "#7201a8"
             ],
             [
              0.3333333333333333,
              "#9c179e"
             ],
             [
              0.4444444444444444,
              "#bd3786"
             ],
             [
              0.5555555555555556,
              "#d8576b"
             ],
             [
              0.6666666666666666,
              "#ed7953"
             ],
             [
              0.7777777777777778,
              "#fb9f3a"
             ],
             [
              0.8888888888888888,
              "#fdca26"
             ],
             [
              1,
              "#f0f921"
             ]
            ],
            "type": "contour"
           }
          ],
          "contourcarpet": [
           {
            "colorbar": {
             "outlinewidth": 0,
             "ticks": ""
            },
            "type": "contourcarpet"
           }
          ],
          "heatmap": [
           {
            "colorbar": {
             "outlinewidth": 0,
             "ticks": ""
            },
            "colorscale": [
             [
              0,
              "#0d0887"
             ],
             [
              0.1111111111111111,
              "#46039f"
             ],
             [
              0.2222222222222222,
              "#7201a8"
             ],
             [
              0.3333333333333333,
              "#9c179e"
             ],
             [
              0.4444444444444444,
              "#bd3786"
             ],
             [
              0.5555555555555556,
              "#d8576b"
             ],
             [
              0.6666666666666666,
              "#ed7953"
             ],
             [
              0.7777777777777778,
              "#fb9f3a"
             ],
             [
              0.8888888888888888,
              "#fdca26"
             ],
             [
              1,
              "#f0f921"
             ]
            ],
            "type": "heatmap"
           }
          ],
          "heatmapgl": [
           {
            "colorbar": {
             "outlinewidth": 0,
             "ticks": ""
            },
            "colorscale": [
             [
              0,
              "#0d0887"
             ],
             [
              0.1111111111111111,
              "#46039f"
             ],
             [
              0.2222222222222222,
              "#7201a8"
             ],
             [
              0.3333333333333333,
              "#9c179e"
             ],
             [
              0.4444444444444444,
              "#bd3786"
             ],
             [
              0.5555555555555556,
              "#d8576b"
             ],
             [
              0.6666666666666666,
              "#ed7953"
             ],
             [
              0.7777777777777778,
              "#fb9f3a"
             ],
             [
              0.8888888888888888,
              "#fdca26"
             ],
             [
              1,
              "#f0f921"
             ]
            ],
            "type": "heatmapgl"
           }
          ],
          "histogram": [
           {
            "marker": {
             "pattern": {
              "fillmode": "overlay",
              "size": 10,
              "solidity": 0.2
             }
            },
            "type": "histogram"
           }
          ],
          "histogram2d": [
           {
            "colorbar": {
             "outlinewidth": 0,
             "ticks": ""
            },
            "colorscale": [
             [
              0,
              "#0d0887"
             ],
             [
              0.1111111111111111,
              "#46039f"
             ],
             [
              0.2222222222222222,
              "#7201a8"
             ],
             [
              0.3333333333333333,
              "#9c179e"
             ],
             [
              0.4444444444444444,
              "#bd3786"
             ],
             [
              0.5555555555555556,
              "#d8576b"
             ],
             [
              0.6666666666666666,
              "#ed7953"
             ],
             [
              0.7777777777777778,
              "#fb9f3a"
             ],
             [
              0.8888888888888888,
              "#fdca26"
             ],
             [
              1,
              "#f0f921"
             ]
            ],
            "type": "histogram2d"
           }
          ],
          "histogram2dcontour": [
           {
            "colorbar": {
             "outlinewidth": 0,
             "ticks": ""
            },
            "colorscale": [
             [
              0,
              "#0d0887"
             ],
             [
              0.1111111111111111,
              "#46039f"
             ],
             [
              0.2222222222222222,
              "#7201a8"
             ],
             [
              0.3333333333333333,
              "#9c179e"
             ],
             [
              0.4444444444444444,
              "#bd3786"
             ],
             [
              0.5555555555555556,
              "#d8576b"
             ],
             [
              0.6666666666666666,
              "#ed7953"
             ],
             [
              0.7777777777777778,
              "#fb9f3a"
             ],
             [
              0.8888888888888888,
              "#fdca26"
             ],
             [
              1,
              "#f0f921"
             ]
            ],
            "type": "histogram2dcontour"
           }
          ],
          "mesh3d": [
           {
            "colorbar": {
             "outlinewidth": 0,
             "ticks": ""
            },
            "type": "mesh3d"
           }
          ],
          "parcoords": [
           {
            "line": {
             "colorbar": {
              "outlinewidth": 0,
              "ticks": ""
             }
            },
            "type": "parcoords"
           }
          ],
          "pie": [
           {
            "automargin": true,
            "type": "pie"
           }
          ],
          "scatter": [
           {
            "fillpattern": {
             "fillmode": "overlay",
             "size": 10,
             "solidity": 0.2
            },
            "type": "scatter"
           }
          ],
          "scatter3d": [
           {
            "line": {
             "colorbar": {
              "outlinewidth": 0,
              "ticks": ""
             }
            },
            "marker": {
             "colorbar": {
              "outlinewidth": 0,
              "ticks": ""
             }
            },
            "type": "scatter3d"
           }
          ],
          "scattercarpet": [
           {
            "marker": {
             "colorbar": {
              "outlinewidth": 0,
              "ticks": ""
             }
            },
            "type": "scattercarpet"
           }
          ],
          "scattergeo": [
           {
            "marker": {
             "colorbar": {
              "outlinewidth": 0,
              "ticks": ""
             }
            },
            "type": "scattergeo"
           }
          ],
          "scattergl": [
           {
            "marker": {
             "colorbar": {
              "outlinewidth": 0,
              "ticks": ""
             }
            },
            "type": "scattergl"
           }
          ],
          "scattermapbox": [
           {
            "marker": {
             "colorbar": {
              "outlinewidth": 0,
              "ticks": ""
             }
            },
            "type": "scattermapbox"
           }
          ],
          "scatterpolar": [
           {
            "marker": {
             "colorbar": {
              "outlinewidth": 0,
              "ticks": ""
             }
            },
            "type": "scatterpolar"
           }
          ],
          "scatterpolargl": [
           {
            "marker": {
             "colorbar": {
              "outlinewidth": 0,
              "ticks": ""
             }
            },
            "type": "scatterpolargl"
           }
          ],
          "scatterternary": [
           {
            "marker": {
             "colorbar": {
              "outlinewidth": 0,
              "ticks": ""
             }
            },
            "type": "scatterternary"
           }
          ],
          "surface": [
           {
            "colorbar": {
             "outlinewidth": 0,
             "ticks": ""
            },
            "colorscale": [
             [
              0,
              "#0d0887"
             ],
             [
              0.1111111111111111,
              "#46039f"
             ],
             [
              0.2222222222222222,
              "#7201a8"
             ],
             [
              0.3333333333333333,
              "#9c179e"
             ],
             [
              0.4444444444444444,
              "#bd3786"
             ],
             [
              0.5555555555555556,
              "#d8576b"
             ],
             [
              0.6666666666666666,
              "#ed7953"
             ],
             [
              0.7777777777777778,
              "#fb9f3a"
             ],
             [
              0.8888888888888888,
              "#fdca26"
             ],
             [
              1,
              "#f0f921"
             ]
            ],
            "type": "surface"
           }
          ],
          "table": [
           {
            "cells": {
             "fill": {
              "color": "#EBF0F8"
             },
             "line": {
              "color": "white"
             }
            },
            "header": {
             "fill": {
              "color": "#C8D4E3"
             },
             "line": {
              "color": "white"
             }
            },
            "type": "table"
           }
          ]
         },
         "layout": {
          "annotationdefaults": {
           "arrowcolor": "#2a3f5f",
           "arrowhead": 0,
           "arrowwidth": 1
          },
          "autotypenumbers": "strict",
          "coloraxis": {
           "colorbar": {
            "outlinewidth": 0,
            "ticks": ""
           }
          },
          "colorscale": {
           "diverging": [
            [
             0,
             "#8e0152"
            ],
            [
             0.1,
             "#c51b7d"
            ],
            [
             0.2,
             "#de77ae"
            ],
            [
             0.3,
             "#f1b6da"
            ],
            [
             0.4,
             "#fde0ef"
            ],
            [
             0.5,
             "#f7f7f7"
            ],
            [
             0.6,
             "#e6f5d0"
            ],
            [
             0.7,
             "#b8e186"
            ],
            [
             0.8,
             "#7fbc41"
            ],
            [
             0.9,
             "#4d9221"
            ],
            [
             1,
             "#276419"
            ]
           ],
           "sequential": [
            [
             0,
             "#0d0887"
            ],
            [
             0.1111111111111111,
             "#46039f"
            ],
            [
             0.2222222222222222,
             "#7201a8"
            ],
            [
             0.3333333333333333,
             "#9c179e"
            ],
            [
             0.4444444444444444,
             "#bd3786"
            ],
            [
             0.5555555555555556,
             "#d8576b"
            ],
            [
             0.6666666666666666,
             "#ed7953"
            ],
            [
             0.7777777777777778,
             "#fb9f3a"
            ],
            [
             0.8888888888888888,
             "#fdca26"
            ],
            [
             1,
             "#f0f921"
            ]
           ],
           "sequentialminus": [
            [
             0,
             "#0d0887"
            ],
            [
             0.1111111111111111,
             "#46039f"
            ],
            [
             0.2222222222222222,
             "#7201a8"
            ],
            [
             0.3333333333333333,
             "#9c179e"
            ],
            [
             0.4444444444444444,
             "#bd3786"
            ],
            [
             0.5555555555555556,
             "#d8576b"
            ],
            [
             0.6666666666666666,
             "#ed7953"
            ],
            [
             0.7777777777777778,
             "#fb9f3a"
            ],
            [
             0.8888888888888888,
             "#fdca26"
            ],
            [
             1,
             "#f0f921"
            ]
           ]
          },
          "colorway": [
           "#636efa",
           "#EF553B",
           "#00cc96",
           "#ab63fa",
           "#FFA15A",
           "#19d3f3",
           "#FF6692",
           "#B6E880",
           "#FF97FF",
           "#FECB52"
          ],
          "font": {
           "color": "#2a3f5f"
          },
          "geo": {
           "bgcolor": "white",
           "lakecolor": "white",
           "landcolor": "#E5ECF6",
           "showlakes": true,
           "showland": true,
           "subunitcolor": "white"
          },
          "hoverlabel": {
           "align": "left"
          },
          "hovermode": "closest",
          "mapbox": {
           "style": "light"
          },
          "paper_bgcolor": "white",
          "plot_bgcolor": "#E5ECF6",
          "polar": {
           "angularaxis": {
            "gridcolor": "white",
            "linecolor": "white",
            "ticks": ""
           },
           "bgcolor": "#E5ECF6",
           "radialaxis": {
            "gridcolor": "white",
            "linecolor": "white",
            "ticks": ""
           }
          },
          "scene": {
           "xaxis": {
            "backgroundcolor": "#E5ECF6",
            "gridcolor": "white",
            "gridwidth": 2,
            "linecolor": "white",
            "showbackground": true,
            "ticks": "",
            "zerolinecolor": "white"
           },
           "yaxis": {
            "backgroundcolor": "#E5ECF6",
            "gridcolor": "white",
            "gridwidth": 2,
            "linecolor": "white",
            "showbackground": true,
            "ticks": "",
            "zerolinecolor": "white"
           },
           "zaxis": {
            "backgroundcolor": "#E5ECF6",
            "gridcolor": "white",
            "gridwidth": 2,
            "linecolor": "white",
            "showbackground": true,
            "ticks": "",
            "zerolinecolor": "white"
           }
          },
          "shapedefaults": {
           "line": {
            "color": "#2a3f5f"
           }
          },
          "ternary": {
           "aaxis": {
            "gridcolor": "white",
            "linecolor": "white",
            "ticks": ""
           },
           "baxis": {
            "gridcolor": "white",
            "linecolor": "white",
            "ticks": ""
           },
           "bgcolor": "#E5ECF6",
           "caxis": {
            "gridcolor": "white",
            "linecolor": "white",
            "ticks": ""
           }
          },
          "title": {
           "x": 0.05
          },
          "xaxis": {
           "automargin": true,
           "gridcolor": "white",
           "linecolor": "white",
           "ticks": "",
           "title": {
            "standoff": 15
           },
           "zerolinecolor": "white",
           "zerolinewidth": 2
          },
          "yaxis": {
           "automargin": true,
           "gridcolor": "white",
           "linecolor": "white",
           "ticks": "",
           "title": {
            "standoff": 15
           },
           "zerolinecolor": "white",
           "zerolinewidth": 2
          }
         }
        },
        "xaxis": {
         "anchor": "y",
         "domain": [
          0,
          1
         ],
         "title": {
          "text": "index"
         }
        },
        "yaxis": {
         "anchor": "x",
         "domain": [
          0,
          1
         ],
         "title": {
          "text": "value"
         }
        }
       }
      }
     },
     "metadata": {},
     "output_type": "display_data"
    }
   ],
   "source": [
    "px.scatter(price,color=team,hover_name=name)"
   ]
  },
  {
   "cell_type": "code",
   "execution_count": 268,
   "metadata": {},
   "outputs": [
    {
     "data": {
      "application/vnd.plotly.v1+json": {
       "config": {
        "plotlyServerURL": "https://plot.ly"
       },
       "data": [
        {
         "branchvalues": "total",
         "domain": {
          "x": [
           0,
           1
          ],
          "y": [
           0,
           1
          ]
         },
         "hovertemplate": "labels=%{label}<br>count=%{value}<br>parent=%{parent}<br>id=%{id}<extra></extra>",
         "ids": [
          "Rajasthan Royals/Abdul Basith /0.2",
          "Chennai Super Kings/Ajay Mandal /0.2",
          "Royal Challengers Bangalore/Akash Deep /0.2",
          "Mumbai Indians/Akash Madhwal /0.2",
          "Rajasthan Royals/Akash Vasisht /0.2",
          "Delhi Capitals/Aman Khan /0.2",
          "Sunrisers Hyderabad/Anmolpreet Singh /0.2",
          "Gujarat Titans/Anukul Roy /0.2",
          "Mumbai Indians/Arshad Khan /0.2",
          "Punjab Kings/Atharva Taide /0.2",
          "Lucknow Super Giants/Ayush Badoni /0.2",
          "Punjab Kings/Baltej Singh /0.2",
          "Chennai Super Kings/Bhagath Varma /0.2",
          "Gujarat Titans/Darshan Nalkande /0.2",
          "Rajasthan Royals/Dhruv Jurel /0.2",
          "Mumbai Indians/Duan Jansen /0.2",
          "Gujarat Titans/Harshit Rana /0.2",
          "Royal Challengers Bangalore/Himanshu Sharma /0.2",
          "Mumbai Indians/Hrithik Shokeen /0.2",
          "Punjab Kings/Jitesh Sharma /0.2",
          "Lucknow Super Giants/Karan Sharma /0.2",
          "Rajasthan Royals/Kuldeep Sen /0.2",
          "Rajasthan Royals/Kuldip Yadav /0.2",
          "Gujarat Titans/Kulwant Khejroliya /0.2",
          "Mumbai Indians/Kumar Kartikeya /0.2",
          "Rajasthan Royals/Kunal Singh Rathore /0.2",
          "Lucknow Super Giants/Manan Vohra /0.2",
          "Royal Challengers Bangalore/Manoj Bhandage /0.2",
          "Chennai Super Kings/Matheesha Pathirana /0.2",
          "Lucknow Super Giants/Mayank Yadav /0.2",
          "Punjab Kings/Mohit Rathee /0.2",
          "Lucknow Super Giants/Mohsin Khan /0.2",
          "Chennai Super Kings/Mukesh Choudhary /0.2",
          "Rajasthan Royals/Murugan Ashwin /0.2",
          "Mumbai Indians/Nehal Wadhera /0.2",
          "Sunrisers Hyderabad/Nitish Kumar Reddy /0.2",
          "Gujarat Titans/Pradeep Sangwan /0.2",
          "Lucknow Super Giants/Prerak Mankad /0.2",
          "Mumbai Indians/Raghav Goyal /0.2",
          "Royal Challengers Bangalore/Rajat Patidar /0.2",
          "Mumbai Indians/Ramandeep Singh /0.2",
          "Delhi Capitals/Ripal Patel /0.2",
          "Gujarat Titans/Sai Sudharsan /0.2",
          "Sunrisers Hyderabad/Samarth Vyas /0.2",
          "Sunrisers Hyderabad/Sanvir Singh /0.2",
          "Delhi Capitals/Sarfaraz Khan /0.2",
          "Chennai Super Kings/Shaik Rasheed /0.2",
          "Mumbai Indians/Shams Mulani /0.2",
          "Punjab Kings/Shivam Singh /0.2",
          "Chennai Super Kings/Simarjeet Singh /0.2",
          "Royal Challengers Bangalore/Sonu Yadav /0.2",
          "Chennai Super Kings/Subhranshu Senapati /0.2",
          "Gujarat Titans/Suyash Sharma /0.2",
          "Lucknow Super Giants/Swapnil Singh /0.2",
          "Mumbai Indians/Tristan Stubbs /0.2",
          "Chennai Super Kings/Tushar Deshpande /0.2",
          "Gujarat Titans/Urvil Patel /0.2",
          "Delhi Capitals/Vicky Ostwal /0.2",
          "Punjab Kings/Vidhwath Kaverappa /0.2",
          "Mumbai Indians/Vishnu Vinod /0.2",
          "Lucknow Super Giants/Yudhvir Singh /0.2",
          "Sunrisers Hyderabad/Upendra Yadav /0.25",
          "Mumbai Indians/Arjun Tendulkar /0.3",
          "Rajasthan Royals/KC Cariappa /0.3",
          "Rajasthan Royals/KM Asif /0.3",
          "Gujarat Titans/Noor Ahmad /0.3",
          "Royal Challengers Bangalore/Suyash Prabhudessai /0.3",
          "Punjab Kings/Harpreet Singh Bhatia /0.4",
          "Lucknow Super Giants/Yash Thakur /0.45",
          "Chennai Super Kings/Ajinkya Rahane /0.5",
          "Lucknow Super Giants/Amit Mishra /0.5",
          "Punjab Kings/Bhanuka Rajapaksa /0.5",
          "Rajasthan Royals/D Ferreira /0.5",
          "Chennai Super Kings/Dwaine Pretorius /0.5",
          "Sunrisers Hyderabad/Fazalhaq Farooqi /0.5",
          "Delhi Capitals/Ishant Sharma /0.5",
          "Lucknow Super Giants/Jaydev Unadkat /0.5",
          "Royal Challengers Bangalore/Karn Sharma /0.5",
          "Lucknow Super Giants/Kyle Mayers /0.5",
          "Gujarat Titans/Litton Das /0.5",
          "Delhi Capitals/Lungi Ngidi /0.5",
          "Gujarat Titans/Mandeep Singh /0.5",
          "Sunrisers Hyderabad/Mayank Markande /0.5",
          "Gujarat Titans/Mohit Sharma /0.5",
          "Lucknow Super Giants/Naveen-ul-Haq /0.5",
          "Gujarat Titans/Odean Smith /0.5",
          "Mumbai Indians/Piyush Chawla /0.5",
          "Delhi Capitals/Pravin Dubey /0.5",
          "Gujarat Titans/Rahmanullah Gurbaz /0.5",
          "Lucknow Super Giants/Romario Shepherd /0.5",
          "Punjab Kings/Sikandar Raza /0.5",
          "Delhi Capitals/Yash Dhull /0.5",
          "Gujarat Titans/Rinku Singh /0.55",
          "Punjab Kings/Rishi Dhawan /0.55",
          "Royal Challengers Bangalore/Avinash Singh /0.6",
          "Chennai Super Kings/Nishant Sindhu /0.6",
          "Punjab Kings/Prabhsimran Singh /0.6",
          "Gujarat Titans/Vaibhav Arora /0.6",
          "Delhi Capitals/Lalit Yadav /0.65",
          "Chennai Super Kings/Maheesh Theekshana /0.7",
          "Royal Challengers Bangalore/Rajan Kumar /0.7",
          "Lucknow Super Giants/Daniel Sams /0.75",
          "Mumbai Indians/Jason Behrendorff /0.75",
          "Punjab Kings/Nathan Ellis /0.75",
          "Rajasthan Royals/Obed McCoy /0.75",
          "Royal Challengers Bangalore/Siddarth Kaul /0.75",
          "Royal Challengers Bangalore/Finn Allen /0.8",
          "Lucknow Super Giants/Krishnappa Gowtham /0.9",
          "Gujarat Titans/Narayan Jagadeesan /0.9",
          "Royal Challengers Bangalore/Mahipal Lomror /0.95",
          "Sunrisers Hyderabad/Akeal Hosein /1.0",
          "Gujarat Titans/David Wiese /1.0",
          "Chennai Super Kings/Devon Conway /1.0",
          "Rajasthan Royals/Joe Root /1.0",
          "Chennai Super Kings/Kyle Jamieson /1.0",
          "Delhi Capitals/Kamlesh Nagarkoti /1.1",
          "Chennai Super Kings/Prashant Solanki /1.2",
          "Gujarat Titans/Srikar Bharat /1.2",
          "Gujarat Titans/Vijay Shankar /1.4",
          "Rajasthan Royals/Adam Zampa /1.5",
          "Sunrisers Hyderabad/Glenn Phillips /1.5",
          "Mumbai Indians/Jhye Richardson /1.5",
          "Chennai Super Kings/Rajvardhan Hangargekar /1.5",
          "Gujarat Titans/Shakib Al Hasan /1.5",
          "Gujarat Titans/Tim Southee /1.5",
          "Gujarat Titans/Jayant Yadav /1.7",
          "Mumbai Indians/Tilak Varma /1.7",
          "Sunrisers Hyderabad/Mayank Dagar /1.8",
          "Chennai Super Kings/Mitchell Santner /1.9",
          "Royal Challengers Bangalore/Reece Topley /1.9",
          "Gujarat Titans/Wriddhiman Saha /1.9",
          "Sunrisers Hyderabad/Adil Rashid /2.0",
          "Royal Challengers Bangalore/David Willey /2.0",
          "Gujarat Titans/Kane Williamson /2.0",
          "Delhi Capitals/Kuldeep Yadav /2.0",
          "Delhi Capitals/Mustafizur Rahman /2.0",
          "Delhi Capitals/Philip Salt /2.0",
          "Punjab Kings/Raj Bawa /2.0",
          "Gujarat Titans/Umesh Yadav /2.0",
          "Gujarat Titans/Alzarri Joseph /2.4",
          "Delhi Capitals/Manish Pandey /2.4",
          "Gujarat Titans/Matthew Wade /2.4",
          "Royal Challengers Bangalore/Shahbaz Ahmed /2.4",
          "Gujarat Titans/Abhinav Manohar /2.6",
          "Sunrisers Hyderabad/Aiden Markram /2.6",
          "Rajasthan Royals/Navdeep Saini /2.6",
          "Sunrisers Hyderabad/Vivrant Sharma /2.6",
          "Delhi Capitals/Rovman Powell /2.8",
          "Gujarat Titans/David Miller /3.0",
          "Mumbai Indians/Dewald Brevis /3.0",
          "Gujarat Titans/Sai Kishore /3.0",
          "Royal Challengers Bangalore/Will Jacks /3.2",
          "Gujarat Titans/Yash Dayal /3.2",
          "Royal Challengers Bangalore/Anuj Rawat /3.4",
          "Punjab Kings/Harpreet Brar /3.8",
          "Rajasthan Royals/Riyan Parag /3.8",
          "Sunrisers Hyderabad/Abdul Samad /4.0",
          "Punjab Kings/Arshdeep Singh /4.0",
          "Sunrisers Hyderabad/Kartik Tyagi /4.0",
          "Lucknow Super Giants/Ravi Bishnoi /4.0",
          "Chennai Super Kings/Shivam Dube /4.0",
          "Sunrisers Hyderabad/T Natarajan /4.0",
          "Sunrisers Hyderabad/Umran Malik /4.0",
          "Rajasthan Royals/Yashasvi Jaiswal /4.0",
          "Sunrisers Hyderabad/Bhuvneshwar Kumar /4.2",
          "Delhi Capitals/Chetan Sakariya /4.2",
          "Sunrisers Hyderabad/Marco Jansen /4.2",
          "Gujarat Titans/Josh Little /4.4",
          "Delhi Capitals/Rilee Rossouw /4.6",
          "Rajasthan Royals/Ravichandran Ashwin /5.0",
          "Sunrisers Hyderabad/Heinrich Klaasen /5.25",
          "Delhi Capitals/Khaleel Ahmed /5.25",
          "Punjab Kings/Rahul Chahar /5.25",
          "Royal Challengers Bangalore/Dinesh Karthik /5.5",
          "Delhi Capitals/Mukesh Kumar /5.5",
          "Lucknow Super Giants/Deepak Hooda /5.75",
          "Rajasthan Royals/Jason Holder /5.75",
          "Chennai Super Kings/Ruturaj Gaikwad /6.0",
          "Gujarat Titans/Shivam Mavi /6.0",
          "Gujarat Titans/Sunil Narine /6.0",
          "Delhi Capitals/David Warner /6.25",
          "Gujarat Titans/Mohammad Shami /6.25",
          "Sunrisers Hyderabad/Abhishek Sharma /6.5",
          "Delhi Capitals/Anrich Nortje /6.5",
          "Delhi Capitals/Mitchell Marsh /6.5",
          "Rajasthan Royals/Yuzvendra Chahal /6.5",
          "Chennai Super Kings/Ambati Rayudu /6.75",
          "Punjab Kings/Jonny Bairstow /6.75",
          "Lucknow Super Giants/Quinton de Kock /6.75",
          "Royal Challengers Bangalore/Faf du Plessis /7.0",
          "Royal Challengers Bangalore/Mohammed Siraj /7.0",
          "Lucknow Super Giants/Mark Wood /7.5",
          "Rajasthan Royals/Devdutt Padikkal /7.75",
          "Royal Challengers Bangalore/Josh Hazlewood /7.75",
          "Mumbai Indians/Jofra Archer /8.0",
          "Chennai Super Kings/Moeen Ali /8.0",
          "Gujarat Titans/Nitish Rana /8.0",
          "Delhi Capitals/Prithvi Shaw /8.0",
          "Gujarat Titans/Shubman Gill /8.0",
          "Mumbai Indians/Suryakumar Yadav /8.0",
          "Rajasthan Royals/Trent Boult /8.0",
          "Gujarat Titans/Venkatesh Iyer /8.0",
          "Lucknow Super Giants/Krunal Pandya /8.25",
          "Sunrisers Hyderabad/Mayank Agarwal /8.25",
          "Punjab Kings/Shikhar Dhawan /8.25",
          "Mumbai Indians/Tim David /8.25",
          "Sunrisers Hyderabad/Rahul Tripathi /8.5",
          "Rajasthan Royals/Shimron Hetmyer /8.5",
          "Sunrisers Hyderabad/Washington Sundar /8.75",
          "Gujarat Titans/Rahul Tewatia /9.0",
          "Punjab Kings/Shahrukh Khan /9.0",
          "Punjab Kings/Kagiso Rabada /9.25",
          "Lucknow Super Giants/Avesh Khan /10.0",
          "Rajasthan Royals/Jos Buttler /10.0",
          "Gujarat Titans/Lockie Ferguson /10.0",
          "Lucknow Super Giants/Marcus Stoinis /10.0",
          "Rajasthan Royals/Prasidh Krishna /10.0",
          "Royal Challengers Bangalore/Harshal Patel /10.75",
          "Gujarat Titans/Shardul Thakur /10.75",
          "Royal Challengers Bangalore/Wanindu Hasaranga /10.75",
          "Royal Challengers Bangalore/Glenn Maxwell /11.0",
          "Punjab Kings/Liam Livingstone /11.5",
          "Delhi Capitals/Axar Patel /12.0",
          "Mumbai Indians/Jasprit Bumrah /12.0",
          "Chennai Super Kings/MS Dhoni /12.0",
          "Gujarat Titans/Varun Chakaravarthy /12.0",
          "Gujarat Titans/Shreyas Iyer /12.25",
          "Sunrisers Hyderabad/Harry Brook /13.25",
          "Chennai Super Kings/Deepak Chahar /14.0",
          "Rajasthan Royals/Sanju Samson /14.0",
          "Gujarat Titans/Hardik Pandya /15.0",
          "Gujarat Titans/Rashid Khan /15.0",
          "Royal Challengers Bangalore/Virat Kohli /15.0",
          "Mumbai Indians/Ishan Kishan /15.25",
          "Gujarat Titans/Andre Russell /16.0",
          "Lucknow Super Giants/Nicholas Pooran /16.0",
          "Chennai Super Kings/Ravindra Jadeja /16.0",
          "Delhi Capitals/Rishabh Pant /16.0",
          "Mumbai Indians/Rohit Sharma /16.0",
          "Chennai Super Kings/Ben Stokes /16.25",
          "Lucknow Super Giants/KL Rahul /17.0",
          "Mumbai Indians/Cameron Green /17.5",
          "Punjab Kings/Sam Curran /18.5",
          "Rajasthan Royals/Abdul Basith ",
          "Sunrisers Hyderabad/Abdul Samad ",
          "Gujarat Titans/Abhinav Manohar ",
          "Sunrisers Hyderabad/Abhishek Sharma ",
          "Rajasthan Royals/Adam Zampa ",
          "Sunrisers Hyderabad/Adil Rashid ",
          "Sunrisers Hyderabad/Aiden Markram ",
          "Chennai Super Kings/Ajay Mandal ",
          "Chennai Super Kings/Ajinkya Rahane ",
          "Royal Challengers Bangalore/Akash Deep ",
          "Mumbai Indians/Akash Madhwal ",
          "Rajasthan Royals/Akash Vasisht ",
          "Sunrisers Hyderabad/Akeal Hosein ",
          "Gujarat Titans/Alzarri Joseph ",
          "Delhi Capitals/Aman Khan ",
          "Chennai Super Kings/Ambati Rayudu ",
          "Lucknow Super Giants/Amit Mishra ",
          "Gujarat Titans/Andre Russell ",
          "Sunrisers Hyderabad/Anmolpreet Singh ",
          "Delhi Capitals/Anrich Nortje ",
          "Royal Challengers Bangalore/Anuj Rawat ",
          "Gujarat Titans/Anukul Roy ",
          "Mumbai Indians/Arjun Tendulkar ",
          "Mumbai Indians/Arshad Khan ",
          "Punjab Kings/Arshdeep Singh ",
          "Punjab Kings/Atharva Taide ",
          "Lucknow Super Giants/Avesh Khan ",
          "Royal Challengers Bangalore/Avinash Singh ",
          "Delhi Capitals/Axar Patel ",
          "Lucknow Super Giants/Ayush Badoni ",
          "Punjab Kings/Baltej Singh ",
          "Chennai Super Kings/Ben Stokes ",
          "Chennai Super Kings/Bhagath Varma ",
          "Punjab Kings/Bhanuka Rajapaksa ",
          "Sunrisers Hyderabad/Bhuvneshwar Kumar ",
          "Mumbai Indians/Cameron Green ",
          "Delhi Capitals/Chetan Sakariya ",
          "Rajasthan Royals/D Ferreira ",
          "Lucknow Super Giants/Daniel Sams ",
          "Gujarat Titans/Darshan Nalkande ",
          "Gujarat Titans/David Miller ",
          "Delhi Capitals/David Warner ",
          "Gujarat Titans/David Wiese ",
          "Royal Challengers Bangalore/David Willey ",
          "Chennai Super Kings/Deepak Chahar ",
          "Lucknow Super Giants/Deepak Hooda ",
          "Rajasthan Royals/Devdutt Padikkal ",
          "Chennai Super Kings/Devon Conway ",
          "Mumbai Indians/Dewald Brevis ",
          "Rajasthan Royals/Dhruv Jurel ",
          "Royal Challengers Bangalore/Dinesh Karthik ",
          "Mumbai Indians/Duan Jansen ",
          "Chennai Super Kings/Dwaine Pretorius ",
          "Royal Challengers Bangalore/Faf du Plessis ",
          "Sunrisers Hyderabad/Fazalhaq Farooqi ",
          "Royal Challengers Bangalore/Finn Allen ",
          "Royal Challengers Bangalore/Glenn Maxwell ",
          "Sunrisers Hyderabad/Glenn Phillips ",
          "Gujarat Titans/Hardik Pandya ",
          "Punjab Kings/Harpreet Brar ",
          "Punjab Kings/Harpreet Singh Bhatia ",
          "Sunrisers Hyderabad/Harry Brook ",
          "Royal Challengers Bangalore/Harshal Patel ",
          "Gujarat Titans/Harshit Rana ",
          "Sunrisers Hyderabad/Heinrich Klaasen ",
          "Royal Challengers Bangalore/Himanshu Sharma ",
          "Mumbai Indians/Hrithik Shokeen ",
          "Mumbai Indians/Ishan Kishan ",
          "Delhi Capitals/Ishant Sharma ",
          "Mumbai Indians/Jason Behrendorff ",
          "Rajasthan Royals/Jason Holder ",
          "Mumbai Indians/Jasprit Bumrah ",
          "Gujarat Titans/Jayant Yadav ",
          "Lucknow Super Giants/Jaydev Unadkat ",
          "Mumbai Indians/Jhye Richardson ",
          "Punjab Kings/Jitesh Sharma ",
          "Rajasthan Royals/Joe Root ",
          "Mumbai Indians/Jofra Archer ",
          "Punjab Kings/Jonny Bairstow ",
          "Rajasthan Royals/Jos Buttler ",
          "Royal Challengers Bangalore/Josh Hazlewood ",
          "Gujarat Titans/Josh Little ",
          "Rajasthan Royals/KC Cariappa ",
          "Lucknow Super Giants/KL Rahul ",
          "Rajasthan Royals/KM Asif ",
          "Punjab Kings/Kagiso Rabada ",
          "Delhi Capitals/Kamlesh Nagarkoti ",
          "Gujarat Titans/Kane Williamson ",
          "Lucknow Super Giants/Karan Sharma ",
          "Royal Challengers Bangalore/Karn Sharma ",
          "Sunrisers Hyderabad/Kartik Tyagi ",
          "Delhi Capitals/Khaleel Ahmed ",
          "Lucknow Super Giants/Krishnappa Gowtham ",
          "Lucknow Super Giants/Krunal Pandya ",
          "Rajasthan Royals/Kuldeep Sen ",
          "Delhi Capitals/Kuldeep Yadav ",
          "Rajasthan Royals/Kuldip Yadav ",
          "Gujarat Titans/Kulwant Khejroliya ",
          "Mumbai Indians/Kumar Kartikeya ",
          "Rajasthan Royals/Kunal Singh Rathore ",
          "Chennai Super Kings/Kyle Jamieson ",
          "Lucknow Super Giants/Kyle Mayers ",
          "Delhi Capitals/Lalit Yadav ",
          "Punjab Kings/Liam Livingstone ",
          "Gujarat Titans/Litton Das ",
          "Gujarat Titans/Lockie Ferguson ",
          "Delhi Capitals/Lungi Ngidi ",
          "Chennai Super Kings/MS Dhoni ",
          "Chennai Super Kings/Maheesh Theekshana ",
          "Royal Challengers Bangalore/Mahipal Lomror ",
          "Lucknow Super Giants/Manan Vohra ",
          "Gujarat Titans/Mandeep Singh ",
          "Delhi Capitals/Manish Pandey ",
          "Royal Challengers Bangalore/Manoj Bhandage ",
          "Sunrisers Hyderabad/Marco Jansen ",
          "Lucknow Super Giants/Marcus Stoinis ",
          "Lucknow Super Giants/Mark Wood ",
          "Chennai Super Kings/Matheesha Pathirana ",
          "Gujarat Titans/Matthew Wade ",
          "Sunrisers Hyderabad/Mayank Agarwal ",
          "Sunrisers Hyderabad/Mayank Dagar ",
          "Sunrisers Hyderabad/Mayank Markande ",
          "Lucknow Super Giants/Mayank Yadav ",
          "Delhi Capitals/Mitchell Marsh ",
          "Chennai Super Kings/Mitchell Santner ",
          "Chennai Super Kings/Moeen Ali ",
          "Gujarat Titans/Mohammad Shami ",
          "Royal Challengers Bangalore/Mohammed Siraj ",
          "Punjab Kings/Mohit Rathee ",
          "Gujarat Titans/Mohit Sharma ",
          "Lucknow Super Giants/Mohsin Khan ",
          "Chennai Super Kings/Mukesh Choudhary ",
          "Delhi Capitals/Mukesh Kumar ",
          "Rajasthan Royals/Murugan Ashwin ",
          "Delhi Capitals/Mustafizur Rahman ",
          "Gujarat Titans/Narayan Jagadeesan ",
          "Punjab Kings/Nathan Ellis ",
          "Rajasthan Royals/Navdeep Saini ",
          "Lucknow Super Giants/Naveen-ul-Haq ",
          "Mumbai Indians/Nehal Wadhera ",
          "Lucknow Super Giants/Nicholas Pooran ",
          "Chennai Super Kings/Nishant Sindhu ",
          "Sunrisers Hyderabad/Nitish Kumar Reddy ",
          "Gujarat Titans/Nitish Rana ",
          "Gujarat Titans/Noor Ahmad ",
          "Rajasthan Royals/Obed McCoy ",
          "Gujarat Titans/Odean Smith ",
          "Delhi Capitals/Philip Salt ",
          "Mumbai Indians/Piyush Chawla ",
          "Punjab Kings/Prabhsimran Singh ",
          "Gujarat Titans/Pradeep Sangwan ",
          "Chennai Super Kings/Prashant Solanki ",
          "Rajasthan Royals/Prasidh Krishna ",
          "Delhi Capitals/Pravin Dubey ",
          "Lucknow Super Giants/Prerak Mankad ",
          "Delhi Capitals/Prithvi Shaw ",
          "Lucknow Super Giants/Quinton de Kock ",
          "Mumbai Indians/Raghav Goyal ",
          "Gujarat Titans/Rahmanullah Gurbaz ",
          "Punjab Kings/Rahul Chahar ",
          "Gujarat Titans/Rahul Tewatia ",
          "Sunrisers Hyderabad/Rahul Tripathi ",
          "Punjab Kings/Raj Bawa ",
          "Royal Challengers Bangalore/Rajan Kumar ",
          "Royal Challengers Bangalore/Rajat Patidar ",
          "Chennai Super Kings/Rajvardhan Hangargekar ",
          "Mumbai Indians/Ramandeep Singh ",
          "Gujarat Titans/Rashid Khan ",
          "Lucknow Super Giants/Ravi Bishnoi ",
          "Rajasthan Royals/Ravichandran Ashwin ",
          "Chennai Super Kings/Ravindra Jadeja ",
          "Royal Challengers Bangalore/Reece Topley ",
          "Delhi Capitals/Rilee Rossouw ",
          "Gujarat Titans/Rinku Singh ",
          "Delhi Capitals/Ripal Patel ",
          "Delhi Capitals/Rishabh Pant ",
          "Punjab Kings/Rishi Dhawan ",
          "Rajasthan Royals/Riyan Parag ",
          "Mumbai Indians/Rohit Sharma ",
          "Lucknow Super Giants/Romario Shepherd ",
          "Delhi Capitals/Rovman Powell ",
          "Chennai Super Kings/Ruturaj Gaikwad ",
          "Gujarat Titans/Sai Kishore ",
          "Gujarat Titans/Sai Sudharsan ",
          "Punjab Kings/Sam Curran ",
          "Sunrisers Hyderabad/Samarth Vyas ",
          "Rajasthan Royals/Sanju Samson ",
          "Sunrisers Hyderabad/Sanvir Singh ",
          "Delhi Capitals/Sarfaraz Khan ",
          "Royal Challengers Bangalore/Shahbaz Ahmed ",
          "Punjab Kings/Shahrukh Khan ",
          "Chennai Super Kings/Shaik Rasheed ",
          "Gujarat Titans/Shakib Al Hasan ",
          "Mumbai Indians/Shams Mulani ",
          "Gujarat Titans/Shardul Thakur ",
          "Punjab Kings/Shikhar Dhawan ",
          "Rajasthan Royals/Shimron Hetmyer ",
          "Chennai Super Kings/Shivam Dube ",
          "Gujarat Titans/Shivam Mavi ",
          "Punjab Kings/Shivam Singh ",
          "Gujarat Titans/Shreyas Iyer ",
          "Gujarat Titans/Shubman Gill ",
          "Royal Challengers Bangalore/Siddarth Kaul ",
          "Punjab Kings/Sikandar Raza ",
          "Chennai Super Kings/Simarjeet Singh ",
          "Royal Challengers Bangalore/Sonu Yadav ",
          "Gujarat Titans/Srikar Bharat ",
          "Chennai Super Kings/Subhranshu Senapati ",
          "Gujarat Titans/Sunil Narine ",
          "Mumbai Indians/Suryakumar Yadav ",
          "Royal Challengers Bangalore/Suyash Prabhudessai ",
          "Gujarat Titans/Suyash Sharma ",
          "Lucknow Super Giants/Swapnil Singh ",
          "Sunrisers Hyderabad/T Natarajan ",
          "Mumbai Indians/Tilak Varma ",
          "Mumbai Indians/Tim David ",
          "Gujarat Titans/Tim Southee ",
          "Rajasthan Royals/Trent Boult ",
          "Mumbai Indians/Tristan Stubbs ",
          "Chennai Super Kings/Tushar Deshpande ",
          "Gujarat Titans/Umesh Yadav ",
          "Sunrisers Hyderabad/Umran Malik ",
          "Sunrisers Hyderabad/Upendra Yadav ",
          "Gujarat Titans/Urvil Patel ",
          "Gujarat Titans/Vaibhav Arora ",
          "Gujarat Titans/Varun Chakaravarthy ",
          "Gujarat Titans/Venkatesh Iyer ",
          "Delhi Capitals/Vicky Ostwal ",
          "Punjab Kings/Vidhwath Kaverappa ",
          "Gujarat Titans/Vijay Shankar ",
          "Royal Challengers Bangalore/Virat Kohli ",
          "Mumbai Indians/Vishnu Vinod ",
          "Sunrisers Hyderabad/Vivrant Sharma ",
          "Royal Challengers Bangalore/Wanindu Hasaranga ",
          "Sunrisers Hyderabad/Washington Sundar ",
          "Royal Challengers Bangalore/Will Jacks ",
          "Gujarat Titans/Wriddhiman Saha ",
          "Gujarat Titans/Yash Dayal ",
          "Delhi Capitals/Yash Dhull ",
          "Lucknow Super Giants/Yash Thakur ",
          "Rajasthan Royals/Yashasvi Jaiswal ",
          "Lucknow Super Giants/Yudhvir Singh ",
          "Rajasthan Royals/Yuzvendra Chahal ",
          "Chennai Super Kings",
          "Delhi Capitals",
          "Gujarat Titans",
          "Lucknow Super Giants",
          "Mumbai Indians",
          "Punjab Kings",
          "Rajasthan Royals",
          "Royal Challengers Bangalore",
          "Sunrisers Hyderabad"
         ],
         "labels": [
          "0.2",
          "0.2",
          "0.2",
          "0.2",
          "0.2",
          "0.2",
          "0.2",
          "0.2",
          "0.2",
          "0.2",
          "0.2",
          "0.2",
          "0.2",
          "0.2",
          "0.2",
          "0.2",
          "0.2",
          "0.2",
          "0.2",
          "0.2",
          "0.2",
          "0.2",
          "0.2",
          "0.2",
          "0.2",
          "0.2",
          "0.2",
          "0.2",
          "0.2",
          "0.2",
          "0.2",
          "0.2",
          "0.2",
          "0.2",
          "0.2",
          "0.2",
          "0.2",
          "0.2",
          "0.2",
          "0.2",
          "0.2",
          "0.2",
          "0.2",
          "0.2",
          "0.2",
          "0.2",
          "0.2",
          "0.2",
          "0.2",
          "0.2",
          "0.2",
          "0.2",
          "0.2",
          "0.2",
          "0.2",
          "0.2",
          "0.2",
          "0.2",
          "0.2",
          "0.2",
          "0.2",
          "0.25",
          "0.3",
          "0.3",
          "0.3",
          "0.3",
          "0.3",
          "0.4",
          "0.45",
          "0.5",
          "0.5",
          "0.5",
          "0.5",
          "0.5",
          "0.5",
          "0.5",
          "0.5",
          "0.5",
          "0.5",
          "0.5",
          "0.5",
          "0.5",
          "0.5",
          "0.5",
          "0.5",
          "0.5",
          "0.5",
          "0.5",
          "0.5",
          "0.5",
          "0.5",
          "0.5",
          "0.55",
          "0.55",
          "0.6",
          "0.6",
          "0.6",
          "0.6",
          "0.65",
          "0.7",
          "0.7",
          "0.75",
          "0.75",
          "0.75",
          "0.75",
          "0.75",
          "0.8",
          "0.9",
          "0.9",
          "0.95",
          "1.0",
          "1.0",
          "1.0",
          "1.0",
          "1.0",
          "1.1",
          "1.2",
          "1.2",
          "1.4",
          "1.5",
          "1.5",
          "1.5",
          "1.5",
          "1.5",
          "1.5",
          "1.7",
          "1.7",
          "1.8",
          "1.9",
          "1.9",
          "1.9",
          "2.0",
          "2.0",
          "2.0",
          "2.0",
          "2.0",
          "2.0",
          "2.0",
          "2.0",
          "2.4",
          "2.4",
          "2.4",
          "2.4",
          "2.6",
          "2.6",
          "2.6",
          "2.6",
          "2.8",
          "3.0",
          "3.0",
          "3.0",
          "3.2",
          "3.2",
          "3.4",
          "3.8",
          "3.8",
          "4.0",
          "4.0",
          "4.0",
          "4.0",
          "4.0",
          "4.0",
          "4.0",
          "4.0",
          "4.2",
          "4.2",
          "4.2",
          "4.4",
          "4.6",
          "5.0",
          "5.25",
          "5.25",
          "5.25",
          "5.5",
          "5.5",
          "5.75",
          "5.75",
          "6.0",
          "6.0",
          "6.0",
          "6.25",
          "6.25",
          "6.5",
          "6.5",
          "6.5",
          "6.5",
          "6.75",
          "6.75",
          "6.75",
          "7.0",
          "7.0",
          "7.5",
          "7.75",
          "7.75",
          "8.0",
          "8.0",
          "8.0",
          "8.0",
          "8.0",
          "8.0",
          "8.0",
          "8.0",
          "8.25",
          "8.25",
          "8.25",
          "8.25",
          "8.5",
          "8.5",
          "8.75",
          "9.0",
          "9.0",
          "9.25",
          "10.0",
          "10.0",
          "10.0",
          "10.0",
          "10.0",
          "10.75",
          "10.75",
          "10.75",
          "11.0",
          "11.5",
          "12.0",
          "12.0",
          "12.0",
          "12.0",
          "12.25",
          "13.25",
          "14.0",
          "14.0",
          "15.0",
          "15.0",
          "15.0",
          "15.25",
          "16.0",
          "16.0",
          "16.0",
          "16.0",
          "16.0",
          "16.25",
          "17.0",
          "17.5",
          "18.5",
          "Abdul Basith ",
          "Abdul Samad ",
          "Abhinav Manohar ",
          "Abhishek Sharma ",
          "Adam Zampa ",
          "Adil Rashid ",
          "Aiden Markram ",
          "Ajay Mandal ",
          "Ajinkya Rahane ",
          "Akash Deep ",
          "Akash Madhwal ",
          "Akash Vasisht ",
          "Akeal Hosein ",
          "Alzarri Joseph ",
          "Aman Khan ",
          "Ambati Rayudu ",
          "Amit Mishra ",
          "Andre Russell ",
          "Anmolpreet Singh ",
          "Anrich Nortje ",
          "Anuj Rawat ",
          "Anukul Roy ",
          "Arjun Tendulkar ",
          "Arshad Khan ",
          "Arshdeep Singh ",
          "Atharva Taide ",
          "Avesh Khan ",
          "Avinash Singh ",
          "Axar Patel ",
          "Ayush Badoni ",
          "Baltej Singh ",
          "Ben Stokes ",
          "Bhagath Varma ",
          "Bhanuka Rajapaksa ",
          "Bhuvneshwar Kumar ",
          "Cameron Green ",
          "Chetan Sakariya ",
          "D Ferreira ",
          "Daniel Sams ",
          "Darshan Nalkande ",
          "David Miller ",
          "David Warner ",
          "David Wiese ",
          "David Willey ",
          "Deepak Chahar ",
          "Deepak Hooda ",
          "Devdutt Padikkal ",
          "Devon Conway ",
          "Dewald Brevis ",
          "Dhruv Jurel ",
          "Dinesh Karthik ",
          "Duan Jansen ",
          "Dwaine Pretorius ",
          "Faf du Plessis ",
          "Fazalhaq Farooqi ",
          "Finn Allen ",
          "Glenn Maxwell ",
          "Glenn Phillips ",
          "Hardik Pandya ",
          "Harpreet Brar ",
          "Harpreet Singh Bhatia ",
          "Harry Brook ",
          "Harshal Patel ",
          "Harshit Rana ",
          "Heinrich Klaasen ",
          "Himanshu Sharma ",
          "Hrithik Shokeen ",
          "Ishan Kishan ",
          "Ishant Sharma ",
          "Jason Behrendorff ",
          "Jason Holder ",
          "Jasprit Bumrah ",
          "Jayant Yadav ",
          "Jaydev Unadkat ",
          "Jhye Richardson ",
          "Jitesh Sharma ",
          "Joe Root ",
          "Jofra Archer ",
          "Jonny Bairstow ",
          "Jos Buttler ",
          "Josh Hazlewood ",
          "Josh Little ",
          "KC Cariappa ",
          "KL Rahul ",
          "KM Asif ",
          "Kagiso Rabada ",
          "Kamlesh Nagarkoti ",
          "Kane Williamson ",
          "Karan Sharma ",
          "Karn Sharma ",
          "Kartik Tyagi ",
          "Khaleel Ahmed ",
          "Krishnappa Gowtham ",
          "Krunal Pandya ",
          "Kuldeep Sen ",
          "Kuldeep Yadav ",
          "Kuldip Yadav ",
          "Kulwant Khejroliya ",
          "Kumar Kartikeya ",
          "Kunal Singh Rathore ",
          "Kyle Jamieson ",
          "Kyle Mayers ",
          "Lalit Yadav ",
          "Liam Livingstone ",
          "Litton Das ",
          "Lockie Ferguson ",
          "Lungi Ngidi ",
          "MS Dhoni ",
          "Maheesh Theekshana ",
          "Mahipal Lomror ",
          "Manan Vohra ",
          "Mandeep Singh ",
          "Manish Pandey ",
          "Manoj Bhandage ",
          "Marco Jansen ",
          "Marcus Stoinis ",
          "Mark Wood ",
          "Matheesha Pathirana ",
          "Matthew Wade ",
          "Mayank Agarwal ",
          "Mayank Dagar ",
          "Mayank Markande ",
          "Mayank Yadav ",
          "Mitchell Marsh ",
          "Mitchell Santner ",
          "Moeen Ali ",
          "Mohammad Shami ",
          "Mohammed Siraj ",
          "Mohit Rathee ",
          "Mohit Sharma ",
          "Mohsin Khan ",
          "Mukesh Choudhary ",
          "Mukesh Kumar ",
          "Murugan Ashwin ",
          "Mustafizur Rahman ",
          "Narayan Jagadeesan ",
          "Nathan Ellis ",
          "Navdeep Saini ",
          "Naveen-ul-Haq ",
          "Nehal Wadhera ",
          "Nicholas Pooran ",
          "Nishant Sindhu ",
          "Nitish Kumar Reddy ",
          "Nitish Rana ",
          "Noor Ahmad ",
          "Obed McCoy ",
          "Odean Smith ",
          "Philip Salt ",
          "Piyush Chawla ",
          "Prabhsimran Singh ",
          "Pradeep Sangwan ",
          "Prashant Solanki ",
          "Prasidh Krishna ",
          "Pravin Dubey ",
          "Prerak Mankad ",
          "Prithvi Shaw ",
          "Quinton de Kock ",
          "Raghav Goyal ",
          "Rahmanullah Gurbaz ",
          "Rahul Chahar ",
          "Rahul Tewatia ",
          "Rahul Tripathi ",
          "Raj Bawa ",
          "Rajan Kumar ",
          "Rajat Patidar ",
          "Rajvardhan Hangargekar ",
          "Ramandeep Singh ",
          "Rashid Khan ",
          "Ravi Bishnoi ",
          "Ravichandran Ashwin ",
          "Ravindra Jadeja ",
          "Reece Topley ",
          "Rilee Rossouw ",
          "Rinku Singh ",
          "Ripal Patel ",
          "Rishabh Pant ",
          "Rishi Dhawan ",
          "Riyan Parag ",
          "Rohit Sharma ",
          "Romario Shepherd ",
          "Rovman Powell ",
          "Ruturaj Gaikwad ",
          "Sai Kishore ",
          "Sai Sudharsan ",
          "Sam Curran ",
          "Samarth Vyas ",
          "Sanju Samson ",
          "Sanvir Singh ",
          "Sarfaraz Khan ",
          "Shahbaz Ahmed ",
          "Shahrukh Khan ",
          "Shaik Rasheed ",
          "Shakib Al Hasan ",
          "Shams Mulani ",
          "Shardul Thakur ",
          "Shikhar Dhawan ",
          "Shimron Hetmyer ",
          "Shivam Dube ",
          "Shivam Mavi ",
          "Shivam Singh ",
          "Shreyas Iyer ",
          "Shubman Gill ",
          "Siddarth Kaul ",
          "Sikandar Raza ",
          "Simarjeet Singh ",
          "Sonu Yadav ",
          "Srikar Bharat ",
          "Subhranshu Senapati ",
          "Sunil Narine ",
          "Suryakumar Yadav ",
          "Suyash Prabhudessai ",
          "Suyash Sharma ",
          "Swapnil Singh ",
          "T Natarajan ",
          "Tilak Varma ",
          "Tim David ",
          "Tim Southee ",
          "Trent Boult ",
          "Tristan Stubbs ",
          "Tushar Deshpande ",
          "Umesh Yadav ",
          "Umran Malik ",
          "Upendra Yadav ",
          "Urvil Patel ",
          "Vaibhav Arora ",
          "Varun Chakaravarthy ",
          "Venkatesh Iyer ",
          "Vicky Ostwal ",
          "Vidhwath Kaverappa ",
          "Vijay Shankar ",
          "Virat Kohli ",
          "Vishnu Vinod ",
          "Vivrant Sharma ",
          "Wanindu Hasaranga ",
          "Washington Sundar ",
          "Will Jacks ",
          "Wriddhiman Saha ",
          "Yash Dayal ",
          "Yash Dhull ",
          "Yash Thakur ",
          "Yashasvi Jaiswal ",
          "Yudhvir Singh ",
          "Yuzvendra Chahal ",
          "Chennai Super Kings",
          "Delhi Capitals",
          "Gujarat Titans",
          "Lucknow Super Giants",
          "Mumbai Indians",
          "Punjab Kings",
          "Rajasthan Royals",
          "Royal Challengers Bangalore",
          "Sunrisers Hyderabad"
         ],
         "name": "",
         "parents": [
          "Rajasthan Royals/Abdul Basith ",
          "Chennai Super Kings/Ajay Mandal ",
          "Royal Challengers Bangalore/Akash Deep ",
          "Mumbai Indians/Akash Madhwal ",
          "Rajasthan Royals/Akash Vasisht ",
          "Delhi Capitals/Aman Khan ",
          "Sunrisers Hyderabad/Anmolpreet Singh ",
          "Gujarat Titans/Anukul Roy ",
          "Mumbai Indians/Arshad Khan ",
          "Punjab Kings/Atharva Taide ",
          "Lucknow Super Giants/Ayush Badoni ",
          "Punjab Kings/Baltej Singh ",
          "Chennai Super Kings/Bhagath Varma ",
          "Gujarat Titans/Darshan Nalkande ",
          "Rajasthan Royals/Dhruv Jurel ",
          "Mumbai Indians/Duan Jansen ",
          "Gujarat Titans/Harshit Rana ",
          "Royal Challengers Bangalore/Himanshu Sharma ",
          "Mumbai Indians/Hrithik Shokeen ",
          "Punjab Kings/Jitesh Sharma ",
          "Lucknow Super Giants/Karan Sharma ",
          "Rajasthan Royals/Kuldeep Sen ",
          "Rajasthan Royals/Kuldip Yadav ",
          "Gujarat Titans/Kulwant Khejroliya ",
          "Mumbai Indians/Kumar Kartikeya ",
          "Rajasthan Royals/Kunal Singh Rathore ",
          "Lucknow Super Giants/Manan Vohra ",
          "Royal Challengers Bangalore/Manoj Bhandage ",
          "Chennai Super Kings/Matheesha Pathirana ",
          "Lucknow Super Giants/Mayank Yadav ",
          "Punjab Kings/Mohit Rathee ",
          "Lucknow Super Giants/Mohsin Khan ",
          "Chennai Super Kings/Mukesh Choudhary ",
          "Rajasthan Royals/Murugan Ashwin ",
          "Mumbai Indians/Nehal Wadhera ",
          "Sunrisers Hyderabad/Nitish Kumar Reddy ",
          "Gujarat Titans/Pradeep Sangwan ",
          "Lucknow Super Giants/Prerak Mankad ",
          "Mumbai Indians/Raghav Goyal ",
          "Royal Challengers Bangalore/Rajat Patidar ",
          "Mumbai Indians/Ramandeep Singh ",
          "Delhi Capitals/Ripal Patel ",
          "Gujarat Titans/Sai Sudharsan ",
          "Sunrisers Hyderabad/Samarth Vyas ",
          "Sunrisers Hyderabad/Sanvir Singh ",
          "Delhi Capitals/Sarfaraz Khan ",
          "Chennai Super Kings/Shaik Rasheed ",
          "Mumbai Indians/Shams Mulani ",
          "Punjab Kings/Shivam Singh ",
          "Chennai Super Kings/Simarjeet Singh ",
          "Royal Challengers Bangalore/Sonu Yadav ",
          "Chennai Super Kings/Subhranshu Senapati ",
          "Gujarat Titans/Suyash Sharma ",
          "Lucknow Super Giants/Swapnil Singh ",
          "Mumbai Indians/Tristan Stubbs ",
          "Chennai Super Kings/Tushar Deshpande ",
          "Gujarat Titans/Urvil Patel ",
          "Delhi Capitals/Vicky Ostwal ",
          "Punjab Kings/Vidhwath Kaverappa ",
          "Mumbai Indians/Vishnu Vinod ",
          "Lucknow Super Giants/Yudhvir Singh ",
          "Sunrisers Hyderabad/Upendra Yadav ",
          "Mumbai Indians/Arjun Tendulkar ",
          "Rajasthan Royals/KC Cariappa ",
          "Rajasthan Royals/KM Asif ",
          "Gujarat Titans/Noor Ahmad ",
          "Royal Challengers Bangalore/Suyash Prabhudessai ",
          "Punjab Kings/Harpreet Singh Bhatia ",
          "Lucknow Super Giants/Yash Thakur ",
          "Chennai Super Kings/Ajinkya Rahane ",
          "Lucknow Super Giants/Amit Mishra ",
          "Punjab Kings/Bhanuka Rajapaksa ",
          "Rajasthan Royals/D Ferreira ",
          "Chennai Super Kings/Dwaine Pretorius ",
          "Sunrisers Hyderabad/Fazalhaq Farooqi ",
          "Delhi Capitals/Ishant Sharma ",
          "Lucknow Super Giants/Jaydev Unadkat ",
          "Royal Challengers Bangalore/Karn Sharma ",
          "Lucknow Super Giants/Kyle Mayers ",
          "Gujarat Titans/Litton Das ",
          "Delhi Capitals/Lungi Ngidi ",
          "Gujarat Titans/Mandeep Singh ",
          "Sunrisers Hyderabad/Mayank Markande ",
          "Gujarat Titans/Mohit Sharma ",
          "Lucknow Super Giants/Naveen-ul-Haq ",
          "Gujarat Titans/Odean Smith ",
          "Mumbai Indians/Piyush Chawla ",
          "Delhi Capitals/Pravin Dubey ",
          "Gujarat Titans/Rahmanullah Gurbaz ",
          "Lucknow Super Giants/Romario Shepherd ",
          "Punjab Kings/Sikandar Raza ",
          "Delhi Capitals/Yash Dhull ",
          "Gujarat Titans/Rinku Singh ",
          "Punjab Kings/Rishi Dhawan ",
          "Royal Challengers Bangalore/Avinash Singh ",
          "Chennai Super Kings/Nishant Sindhu ",
          "Punjab Kings/Prabhsimran Singh ",
          "Gujarat Titans/Vaibhav Arora ",
          "Delhi Capitals/Lalit Yadav ",
          "Chennai Super Kings/Maheesh Theekshana ",
          "Royal Challengers Bangalore/Rajan Kumar ",
          "Lucknow Super Giants/Daniel Sams ",
          "Mumbai Indians/Jason Behrendorff ",
          "Punjab Kings/Nathan Ellis ",
          "Rajasthan Royals/Obed McCoy ",
          "Royal Challengers Bangalore/Siddarth Kaul ",
          "Royal Challengers Bangalore/Finn Allen ",
          "Lucknow Super Giants/Krishnappa Gowtham ",
          "Gujarat Titans/Narayan Jagadeesan ",
          "Royal Challengers Bangalore/Mahipal Lomror ",
          "Sunrisers Hyderabad/Akeal Hosein ",
          "Gujarat Titans/David Wiese ",
          "Chennai Super Kings/Devon Conway ",
          "Rajasthan Royals/Joe Root ",
          "Chennai Super Kings/Kyle Jamieson ",
          "Delhi Capitals/Kamlesh Nagarkoti ",
          "Chennai Super Kings/Prashant Solanki ",
          "Gujarat Titans/Srikar Bharat ",
          "Gujarat Titans/Vijay Shankar ",
          "Rajasthan Royals/Adam Zampa ",
          "Sunrisers Hyderabad/Glenn Phillips ",
          "Mumbai Indians/Jhye Richardson ",
          "Chennai Super Kings/Rajvardhan Hangargekar ",
          "Gujarat Titans/Shakib Al Hasan ",
          "Gujarat Titans/Tim Southee ",
          "Gujarat Titans/Jayant Yadav ",
          "Mumbai Indians/Tilak Varma ",
          "Sunrisers Hyderabad/Mayank Dagar ",
          "Chennai Super Kings/Mitchell Santner ",
          "Royal Challengers Bangalore/Reece Topley ",
          "Gujarat Titans/Wriddhiman Saha ",
          "Sunrisers Hyderabad/Adil Rashid ",
          "Royal Challengers Bangalore/David Willey ",
          "Gujarat Titans/Kane Williamson ",
          "Delhi Capitals/Kuldeep Yadav ",
          "Delhi Capitals/Mustafizur Rahman ",
          "Delhi Capitals/Philip Salt ",
          "Punjab Kings/Raj Bawa ",
          "Gujarat Titans/Umesh Yadav ",
          "Gujarat Titans/Alzarri Joseph ",
          "Delhi Capitals/Manish Pandey ",
          "Gujarat Titans/Matthew Wade ",
          "Royal Challengers Bangalore/Shahbaz Ahmed ",
          "Gujarat Titans/Abhinav Manohar ",
          "Sunrisers Hyderabad/Aiden Markram ",
          "Rajasthan Royals/Navdeep Saini ",
          "Sunrisers Hyderabad/Vivrant Sharma ",
          "Delhi Capitals/Rovman Powell ",
          "Gujarat Titans/David Miller ",
          "Mumbai Indians/Dewald Brevis ",
          "Gujarat Titans/Sai Kishore ",
          "Royal Challengers Bangalore/Will Jacks ",
          "Gujarat Titans/Yash Dayal ",
          "Royal Challengers Bangalore/Anuj Rawat ",
          "Punjab Kings/Harpreet Brar ",
          "Rajasthan Royals/Riyan Parag ",
          "Sunrisers Hyderabad/Abdul Samad ",
          "Punjab Kings/Arshdeep Singh ",
          "Sunrisers Hyderabad/Kartik Tyagi ",
          "Lucknow Super Giants/Ravi Bishnoi ",
          "Chennai Super Kings/Shivam Dube ",
          "Sunrisers Hyderabad/T Natarajan ",
          "Sunrisers Hyderabad/Umran Malik ",
          "Rajasthan Royals/Yashasvi Jaiswal ",
          "Sunrisers Hyderabad/Bhuvneshwar Kumar ",
          "Delhi Capitals/Chetan Sakariya ",
          "Sunrisers Hyderabad/Marco Jansen ",
          "Gujarat Titans/Josh Little ",
          "Delhi Capitals/Rilee Rossouw ",
          "Rajasthan Royals/Ravichandran Ashwin ",
          "Sunrisers Hyderabad/Heinrich Klaasen ",
          "Delhi Capitals/Khaleel Ahmed ",
          "Punjab Kings/Rahul Chahar ",
          "Royal Challengers Bangalore/Dinesh Karthik ",
          "Delhi Capitals/Mukesh Kumar ",
          "Lucknow Super Giants/Deepak Hooda ",
          "Rajasthan Royals/Jason Holder ",
          "Chennai Super Kings/Ruturaj Gaikwad ",
          "Gujarat Titans/Shivam Mavi ",
          "Gujarat Titans/Sunil Narine ",
          "Delhi Capitals/David Warner ",
          "Gujarat Titans/Mohammad Shami ",
          "Sunrisers Hyderabad/Abhishek Sharma ",
          "Delhi Capitals/Anrich Nortje ",
          "Delhi Capitals/Mitchell Marsh ",
          "Rajasthan Royals/Yuzvendra Chahal ",
          "Chennai Super Kings/Ambati Rayudu ",
          "Punjab Kings/Jonny Bairstow ",
          "Lucknow Super Giants/Quinton de Kock ",
          "Royal Challengers Bangalore/Faf du Plessis ",
          "Royal Challengers Bangalore/Mohammed Siraj ",
          "Lucknow Super Giants/Mark Wood ",
          "Rajasthan Royals/Devdutt Padikkal ",
          "Royal Challengers Bangalore/Josh Hazlewood ",
          "Mumbai Indians/Jofra Archer ",
          "Chennai Super Kings/Moeen Ali ",
          "Gujarat Titans/Nitish Rana ",
          "Delhi Capitals/Prithvi Shaw ",
          "Gujarat Titans/Shubman Gill ",
          "Mumbai Indians/Suryakumar Yadav ",
          "Rajasthan Royals/Trent Boult ",
          "Gujarat Titans/Venkatesh Iyer ",
          "Lucknow Super Giants/Krunal Pandya ",
          "Sunrisers Hyderabad/Mayank Agarwal ",
          "Punjab Kings/Shikhar Dhawan ",
          "Mumbai Indians/Tim David ",
          "Sunrisers Hyderabad/Rahul Tripathi ",
          "Rajasthan Royals/Shimron Hetmyer ",
          "Sunrisers Hyderabad/Washington Sundar ",
          "Gujarat Titans/Rahul Tewatia ",
          "Punjab Kings/Shahrukh Khan ",
          "Punjab Kings/Kagiso Rabada ",
          "Lucknow Super Giants/Avesh Khan ",
          "Rajasthan Royals/Jos Buttler ",
          "Gujarat Titans/Lockie Ferguson ",
          "Lucknow Super Giants/Marcus Stoinis ",
          "Rajasthan Royals/Prasidh Krishna ",
          "Royal Challengers Bangalore/Harshal Patel ",
          "Gujarat Titans/Shardul Thakur ",
          "Royal Challengers Bangalore/Wanindu Hasaranga ",
          "Royal Challengers Bangalore/Glenn Maxwell ",
          "Punjab Kings/Liam Livingstone ",
          "Delhi Capitals/Axar Patel ",
          "Mumbai Indians/Jasprit Bumrah ",
          "Chennai Super Kings/MS Dhoni ",
          "Gujarat Titans/Varun Chakaravarthy ",
          "Gujarat Titans/Shreyas Iyer ",
          "Sunrisers Hyderabad/Harry Brook ",
          "Chennai Super Kings/Deepak Chahar ",
          "Rajasthan Royals/Sanju Samson ",
          "Gujarat Titans/Hardik Pandya ",
          "Gujarat Titans/Rashid Khan ",
          "Royal Challengers Bangalore/Virat Kohli ",
          "Mumbai Indians/Ishan Kishan ",
          "Gujarat Titans/Andre Russell ",
          "Lucknow Super Giants/Nicholas Pooran ",
          "Chennai Super Kings/Ravindra Jadeja ",
          "Delhi Capitals/Rishabh Pant ",
          "Mumbai Indians/Rohit Sharma ",
          "Chennai Super Kings/Ben Stokes ",
          "Lucknow Super Giants/KL Rahul ",
          "Mumbai Indians/Cameron Green ",
          "Punjab Kings/Sam Curran ",
          "Rajasthan Royals",
          "Sunrisers Hyderabad",
          "Gujarat Titans",
          "Sunrisers Hyderabad",
          "Rajasthan Royals",
          "Sunrisers Hyderabad",
          "Sunrisers Hyderabad",
          "Chennai Super Kings",
          "Chennai Super Kings",
          "Royal Challengers Bangalore",
          "Mumbai Indians",
          "Rajasthan Royals",
          "Sunrisers Hyderabad",
          "Gujarat Titans",
          "Delhi Capitals",
          "Chennai Super Kings",
          "Lucknow Super Giants",
          "Gujarat Titans",
          "Sunrisers Hyderabad",
          "Delhi Capitals",
          "Royal Challengers Bangalore",
          "Gujarat Titans",
          "Mumbai Indians",
          "Mumbai Indians",
          "Punjab Kings",
          "Punjab Kings",
          "Lucknow Super Giants",
          "Royal Challengers Bangalore",
          "Delhi Capitals",
          "Lucknow Super Giants",
          "Punjab Kings",
          "Chennai Super Kings",
          "Chennai Super Kings",
          "Punjab Kings",
          "Sunrisers Hyderabad",
          "Mumbai Indians",
          "Delhi Capitals",
          "Rajasthan Royals",
          "Lucknow Super Giants",
          "Gujarat Titans",
          "Gujarat Titans",
          "Delhi Capitals",
          "Gujarat Titans",
          "Royal Challengers Bangalore",
          "Chennai Super Kings",
          "Lucknow Super Giants",
          "Rajasthan Royals",
          "Chennai Super Kings",
          "Mumbai Indians",
          "Rajasthan Royals",
          "Royal Challengers Bangalore",
          "Mumbai Indians",
          "Chennai Super Kings",
          "Royal Challengers Bangalore",
          "Sunrisers Hyderabad",
          "Royal Challengers Bangalore",
          "Royal Challengers Bangalore",
          "Sunrisers Hyderabad",
          "Gujarat Titans",
          "Punjab Kings",
          "Punjab Kings",
          "Sunrisers Hyderabad",
          "Royal Challengers Bangalore",
          "Gujarat Titans",
          "Sunrisers Hyderabad",
          "Royal Challengers Bangalore",
          "Mumbai Indians",
          "Mumbai Indians",
          "Delhi Capitals",
          "Mumbai Indians",
          "Rajasthan Royals",
          "Mumbai Indians",
          "Gujarat Titans",
          "Lucknow Super Giants",
          "Mumbai Indians",
          "Punjab Kings",
          "Rajasthan Royals",
          "Mumbai Indians",
          "Punjab Kings",
          "Rajasthan Royals",
          "Royal Challengers Bangalore",
          "Gujarat Titans",
          "Rajasthan Royals",
          "Lucknow Super Giants",
          "Rajasthan Royals",
          "Punjab Kings",
          "Delhi Capitals",
          "Gujarat Titans",
          "Lucknow Super Giants",
          "Royal Challengers Bangalore",
          "Sunrisers Hyderabad",
          "Delhi Capitals",
          "Lucknow Super Giants",
          "Lucknow Super Giants",
          "Rajasthan Royals",
          "Delhi Capitals",
          "Rajasthan Royals",
          "Gujarat Titans",
          "Mumbai Indians",
          "Rajasthan Royals",
          "Chennai Super Kings",
          "Lucknow Super Giants",
          "Delhi Capitals",
          "Punjab Kings",
          "Gujarat Titans",
          "Gujarat Titans",
          "Delhi Capitals",
          "Chennai Super Kings",
          "Chennai Super Kings",
          "Royal Challengers Bangalore",
          "Lucknow Super Giants",
          "Gujarat Titans",
          "Delhi Capitals",
          "Royal Challengers Bangalore",
          "Sunrisers Hyderabad",
          "Lucknow Super Giants",
          "Lucknow Super Giants",
          "Chennai Super Kings",
          "Gujarat Titans",
          "Sunrisers Hyderabad",
          "Sunrisers Hyderabad",
          "Sunrisers Hyderabad",
          "Lucknow Super Giants",
          "Delhi Capitals",
          "Chennai Super Kings",
          "Chennai Super Kings",
          "Gujarat Titans",
          "Royal Challengers Bangalore",
          "Punjab Kings",
          "Gujarat Titans",
          "Lucknow Super Giants",
          "Chennai Super Kings",
          "Delhi Capitals",
          "Rajasthan Royals",
          "Delhi Capitals",
          "Gujarat Titans",
          "Punjab Kings",
          "Rajasthan Royals",
          "Lucknow Super Giants",
          "Mumbai Indians",
          "Lucknow Super Giants",
          "Chennai Super Kings",
          "Sunrisers Hyderabad",
          "Gujarat Titans",
          "Gujarat Titans",
          "Rajasthan Royals",
          "Gujarat Titans",
          "Delhi Capitals",
          "Mumbai Indians",
          "Punjab Kings",
          "Gujarat Titans",
          "Chennai Super Kings",
          "Rajasthan Royals",
          "Delhi Capitals",
          "Lucknow Super Giants",
          "Delhi Capitals",
          "Lucknow Super Giants",
          "Mumbai Indians",
          "Gujarat Titans",
          "Punjab Kings",
          "Gujarat Titans",
          "Sunrisers Hyderabad",
          "Punjab Kings",
          "Royal Challengers Bangalore",
          "Royal Challengers Bangalore",
          "Chennai Super Kings",
          "Mumbai Indians",
          "Gujarat Titans",
          "Lucknow Super Giants",
          "Rajasthan Royals",
          "Chennai Super Kings",
          "Royal Challengers Bangalore",
          "Delhi Capitals",
          "Gujarat Titans",
          "Delhi Capitals",
          "Delhi Capitals",
          "Punjab Kings",
          "Rajasthan Royals",
          "Mumbai Indians",
          "Lucknow Super Giants",
          "Delhi Capitals",
          "Chennai Super Kings",
          "Gujarat Titans",
          "Gujarat Titans",
          "Punjab Kings",
          "Sunrisers Hyderabad",
          "Rajasthan Royals",
          "Sunrisers Hyderabad",
          "Delhi Capitals",
          "Royal Challengers Bangalore",
          "Punjab Kings",
          "Chennai Super Kings",
          "Gujarat Titans",
          "Mumbai Indians",
          "Gujarat Titans",
          "Punjab Kings",
          "Rajasthan Royals",
          "Chennai Super Kings",
          "Gujarat Titans",
          "Punjab Kings",
          "Gujarat Titans",
          "Gujarat Titans",
          "Royal Challengers Bangalore",
          "Punjab Kings",
          "Chennai Super Kings",
          "Royal Challengers Bangalore",
          "Gujarat Titans",
          "Chennai Super Kings",
          "Gujarat Titans",
          "Mumbai Indians",
          "Royal Challengers Bangalore",
          "Gujarat Titans",
          "Lucknow Super Giants",
          "Sunrisers Hyderabad",
          "Mumbai Indians",
          "Mumbai Indians",
          "Gujarat Titans",
          "Rajasthan Royals",
          "Mumbai Indians",
          "Chennai Super Kings",
          "Gujarat Titans",
          "Sunrisers Hyderabad",
          "Sunrisers Hyderabad",
          "Gujarat Titans",
          "Gujarat Titans",
          "Gujarat Titans",
          "Gujarat Titans",
          "Delhi Capitals",
          "Punjab Kings",
          "Gujarat Titans",
          "Royal Challengers Bangalore",
          "Mumbai Indians",
          "Sunrisers Hyderabad",
          "Royal Challengers Bangalore",
          "Sunrisers Hyderabad",
          "Royal Challengers Bangalore",
          "Gujarat Titans",
          "Gujarat Titans",
          "Delhi Capitals",
          "Lucknow Super Giants",
          "Rajasthan Royals",
          "Lucknow Super Giants",
          "Rajasthan Royals",
          "",
          "",
          "",
          "",
          "",
          "",
          "",
          "",
          ""
         ],
         "type": "sunburst",
         "values": [
          1,
          1,
          1,
          1,
          1,
          1,
          1,
          1,
          1,
          1,
          1,
          1,
          1,
          1,
          1,
          1,
          1,
          1,
          1,
          1,
          1,
          1,
          1,
          1,
          1,
          1,
          1,
          1,
          1,
          1,
          1,
          1,
          1,
          1,
          1,
          1,
          1,
          1,
          1,
          1,
          1,
          1,
          1,
          1,
          1,
          1,
          1,
          1,
          1,
          1,
          1,
          1,
          1,
          1,
          1,
          1,
          1,
          1,
          1,
          1,
          1,
          1,
          1,
          1,
          1,
          1,
          1,
          1,
          1,
          1,
          1,
          1,
          1,
          1,
          1,
          1,
          1,
          1,
          1,
          1,
          1,
          1,
          1,
          1,
          1,
          1,
          1,
          1,
          1,
          1,
          1,
          1,
          1,
          1,
          1,
          1,
          1,
          1,
          1,
          1,
          1,
          1,
          1,
          1,
          1,
          1,
          1,
          1,
          1,
          1,
          1,
          1,
          1,
          1,
          1,
          1,
          1,
          1,
          1,
          1,
          1,
          1,
          1,
          1,
          1,
          1,
          1,
          1,
          1,
          1,
          1,
          1,
          1,
          1,
          1,
          1,
          1,
          1,
          1,
          1,
          1,
          1,
          1,
          1,
          1,
          1,
          1,
          1,
          1,
          1,
          1,
          1,
          1,
          1,
          1,
          1,
          1,
          1,
          1,
          1,
          1,
          1,
          1,
          1,
          1,
          1,
          1,
          1,
          1,
          1,
          1,
          1,
          1,
          1,
          1,
          1,
          1,
          1,
          1,
          1,
          1,
          1,
          1,
          1,
          1,
          1,
          1,
          1,
          1,
          1,
          1,
          1,
          1,
          1,
          1,
          1,
          1,
          1,
          1,
          1,
          1,
          1,
          1,
          1,
          1,
          1,
          1,
          1,
          1,
          1,
          1,
          1,
          1,
          1,
          1,
          1,
          1,
          1,
          1,
          1,
          1,
          1,
          1,
          1,
          1,
          1,
          1,
          1,
          1,
          1,
          1,
          1,
          1,
          1,
          1,
          1,
          1,
          1,
          1,
          1,
          1,
          1,
          1,
          1,
          1,
          1,
          1,
          1,
          1,
          1,
          1,
          1,
          1,
          1,
          1,
          1,
          1,
          1,
          1,
          1,
          1,
          1,
          1,
          1,
          1,
          1,
          1,
          1,
          1,
          1,
          1,
          1,
          1,
          1,
          1,
          1,
          1,
          1,
          1,
          1,
          1,
          1,
          1,
          1,
          1,
          1,
          1,
          1,
          1,
          1,
          1,
          1,
          1,
          1,
          1,
          1,
          1,
          1,
          1,
          1,
          1,
          1,
          1,
          1,
          1,
          1,
          1,
          1,
          1,
          1,
          1,
          1,
          1,
          1,
          1,
          1,
          1,
          1,
          1,
          1,
          1,
          1,
          1,
          1,
          1,
          1,
          1,
          1,
          1,
          1,
          1,
          1,
          1,
          1,
          1,
          1,
          1,
          1,
          1,
          1,
          1,
          1,
          1,
          1,
          1,
          1,
          1,
          1,
          1,
          1,
          1,
          1,
          1,
          1,
          1,
          1,
          1,
          1,
          1,
          1,
          1,
          1,
          1,
          1,
          1,
          1,
          1,
          1,
          1,
          1,
          1,
          1,
          1,
          1,
          1,
          1,
          1,
          1,
          1,
          1,
          1,
          1,
          1,
          1,
          1,
          1,
          1,
          1,
          1,
          1,
          1,
          1,
          1,
          1,
          1,
          1,
          1,
          1,
          1,
          1,
          1,
          1,
          1,
          1,
          1,
          1,
          1,
          1,
          1,
          1,
          1,
          1,
          1,
          1,
          1,
          1,
          1,
          1,
          1,
          1,
          1,
          1,
          1,
          1,
          1,
          1,
          1,
          1,
          1,
          1,
          1,
          1,
          1,
          1,
          1,
          1,
          1,
          1,
          1,
          1,
          1,
          1,
          1,
          1,
          1,
          1,
          1,
          1,
          1,
          1,
          1,
          1,
          1,
          1,
          1,
          1,
          1,
          1,
          1,
          1,
          1,
          1,
          1,
          1,
          1,
          1,
          1,
          1,
          1,
          1,
          1,
          1,
          1,
          1,
          1,
          1,
          1,
          1,
          1,
          1,
          1,
          1,
          1,
          1,
          1,
          1,
          25,
          25,
          47,
          25,
          24,
          22,
          25,
          25,
          25
         ]
        }
       ],
       "layout": {
        "height": 1000,
        "legend": {
         "tracegroupgap": 0
        },
        "template": {
         "data": {
          "bar": [
           {
            "error_x": {
             "color": "#2a3f5f"
            },
            "error_y": {
             "color": "#2a3f5f"
            },
            "marker": {
             "line": {
              "color": "#E5ECF6",
              "width": 0.5
             },
             "pattern": {
              "fillmode": "overlay",
              "size": 10,
              "solidity": 0.2
             }
            },
            "type": "bar"
           }
          ],
          "barpolar": [
           {
            "marker": {
             "line": {
              "color": "#E5ECF6",
              "width": 0.5
             },
             "pattern": {
              "fillmode": "overlay",
              "size": 10,
              "solidity": 0.2
             }
            },
            "type": "barpolar"
           }
          ],
          "carpet": [
           {
            "aaxis": {
             "endlinecolor": "#2a3f5f",
             "gridcolor": "white",
             "linecolor": "white",
             "minorgridcolor": "white",
             "startlinecolor": "#2a3f5f"
            },
            "baxis": {
             "endlinecolor": "#2a3f5f",
             "gridcolor": "white",
             "linecolor": "white",
             "minorgridcolor": "white",
             "startlinecolor": "#2a3f5f"
            },
            "type": "carpet"
           }
          ],
          "choropleth": [
           {
            "colorbar": {
             "outlinewidth": 0,
             "ticks": ""
            },
            "type": "choropleth"
           }
          ],
          "contour": [
           {
            "colorbar": {
             "outlinewidth": 0,
             "ticks": ""
            },
            "colorscale": [
             [
              0,
              "#0d0887"
             ],
             [
              0.1111111111111111,
              "#46039f"
             ],
             [
              0.2222222222222222,
              "#7201a8"
             ],
             [
              0.3333333333333333,
              "#9c179e"
             ],
             [
              0.4444444444444444,
              "#bd3786"
             ],
             [
              0.5555555555555556,
              "#d8576b"
             ],
             [
              0.6666666666666666,
              "#ed7953"
             ],
             [
              0.7777777777777778,
              "#fb9f3a"
             ],
             [
              0.8888888888888888,
              "#fdca26"
             ],
             [
              1,
              "#f0f921"
             ]
            ],
            "type": "contour"
           }
          ],
          "contourcarpet": [
           {
            "colorbar": {
             "outlinewidth": 0,
             "ticks": ""
            },
            "type": "contourcarpet"
           }
          ],
          "heatmap": [
           {
            "colorbar": {
             "outlinewidth": 0,
             "ticks": ""
            },
            "colorscale": [
             [
              0,
              "#0d0887"
             ],
             [
              0.1111111111111111,
              "#46039f"
             ],
             [
              0.2222222222222222,
              "#7201a8"
             ],
             [
              0.3333333333333333,
              "#9c179e"
             ],
             [
              0.4444444444444444,
              "#bd3786"
             ],
             [
              0.5555555555555556,
              "#d8576b"
             ],
             [
              0.6666666666666666,
              "#ed7953"
             ],
             [
              0.7777777777777778,
              "#fb9f3a"
             ],
             [
              0.8888888888888888,
              "#fdca26"
             ],
             [
              1,
              "#f0f921"
             ]
            ],
            "type": "heatmap"
           }
          ],
          "heatmapgl": [
           {
            "colorbar": {
             "outlinewidth": 0,
             "ticks": ""
            },
            "colorscale": [
             [
              0,
              "#0d0887"
             ],
             [
              0.1111111111111111,
              "#46039f"
             ],
             [
              0.2222222222222222,
              "#7201a8"
             ],
             [
              0.3333333333333333,
              "#9c179e"
             ],
             [
              0.4444444444444444,
              "#bd3786"
             ],
             [
              0.5555555555555556,
              "#d8576b"
             ],
             [
              0.6666666666666666,
              "#ed7953"
             ],
             [
              0.7777777777777778,
              "#fb9f3a"
             ],
             [
              0.8888888888888888,
              "#fdca26"
             ],
             [
              1,
              "#f0f921"
             ]
            ],
            "type": "heatmapgl"
           }
          ],
          "histogram": [
           {
            "marker": {
             "pattern": {
              "fillmode": "overlay",
              "size": 10,
              "solidity": 0.2
             }
            },
            "type": "histogram"
           }
          ],
          "histogram2d": [
           {
            "colorbar": {
             "outlinewidth": 0,
             "ticks": ""
            },
            "colorscale": [
             [
              0,
              "#0d0887"
             ],
             [
              0.1111111111111111,
              "#46039f"
             ],
             [
              0.2222222222222222,
              "#7201a8"
             ],
             [
              0.3333333333333333,
              "#9c179e"
             ],
             [
              0.4444444444444444,
              "#bd3786"
             ],
             [
              0.5555555555555556,
              "#d8576b"
             ],
             [
              0.6666666666666666,
              "#ed7953"
             ],
             [
              0.7777777777777778,
              "#fb9f3a"
             ],
             [
              0.8888888888888888,
              "#fdca26"
             ],
             [
              1,
              "#f0f921"
             ]
            ],
            "type": "histogram2d"
           }
          ],
          "histogram2dcontour": [
           {
            "colorbar": {
             "outlinewidth": 0,
             "ticks": ""
            },
            "colorscale": [
             [
              0,
              "#0d0887"
             ],
             [
              0.1111111111111111,
              "#46039f"
             ],
             [
              0.2222222222222222,
              "#7201a8"
             ],
             [
              0.3333333333333333,
              "#9c179e"
             ],
             [
              0.4444444444444444,
              "#bd3786"
             ],
             [
              0.5555555555555556,
              "#d8576b"
             ],
             [
              0.6666666666666666,
              "#ed7953"
             ],
             [
              0.7777777777777778,
              "#fb9f3a"
             ],
             [
              0.8888888888888888,
              "#fdca26"
             ],
             [
              1,
              "#f0f921"
             ]
            ],
            "type": "histogram2dcontour"
           }
          ],
          "mesh3d": [
           {
            "colorbar": {
             "outlinewidth": 0,
             "ticks": ""
            },
            "type": "mesh3d"
           }
          ],
          "parcoords": [
           {
            "line": {
             "colorbar": {
              "outlinewidth": 0,
              "ticks": ""
             }
            },
            "type": "parcoords"
           }
          ],
          "pie": [
           {
            "automargin": true,
            "type": "pie"
           }
          ],
          "scatter": [
           {
            "fillpattern": {
             "fillmode": "overlay",
             "size": 10,
             "solidity": 0.2
            },
            "type": "scatter"
           }
          ],
          "scatter3d": [
           {
            "line": {
             "colorbar": {
              "outlinewidth": 0,
              "ticks": ""
             }
            },
            "marker": {
             "colorbar": {
              "outlinewidth": 0,
              "ticks": ""
             }
            },
            "type": "scatter3d"
           }
          ],
          "scattercarpet": [
           {
            "marker": {
             "colorbar": {
              "outlinewidth": 0,
              "ticks": ""
             }
            },
            "type": "scattercarpet"
           }
          ],
          "scattergeo": [
           {
            "marker": {
             "colorbar": {
              "outlinewidth": 0,
              "ticks": ""
             }
            },
            "type": "scattergeo"
           }
          ],
          "scattergl": [
           {
            "marker": {
             "colorbar": {
              "outlinewidth": 0,
              "ticks": ""
             }
            },
            "type": "scattergl"
           }
          ],
          "scattermapbox": [
           {
            "marker": {
             "colorbar": {
              "outlinewidth": 0,
              "ticks": ""
             }
            },
            "type": "scattermapbox"
           }
          ],
          "scatterpolar": [
           {
            "marker": {
             "colorbar": {
              "outlinewidth": 0,
              "ticks": ""
             }
            },
            "type": "scatterpolar"
           }
          ],
          "scatterpolargl": [
           {
            "marker": {
             "colorbar": {
              "outlinewidth": 0,
              "ticks": ""
             }
            },
            "type": "scatterpolargl"
           }
          ],
          "scatterternary": [
           {
            "marker": {
             "colorbar": {
              "outlinewidth": 0,
              "ticks": ""
             }
            },
            "type": "scatterternary"
           }
          ],
          "surface": [
           {
            "colorbar": {
             "outlinewidth": 0,
             "ticks": ""
            },
            "colorscale": [
             [
              0,
              "#0d0887"
             ],
             [
              0.1111111111111111,
              "#46039f"
             ],
             [
              0.2222222222222222,
              "#7201a8"
             ],
             [
              0.3333333333333333,
              "#9c179e"
             ],
             [
              0.4444444444444444,
              "#bd3786"
             ],
             [
              0.5555555555555556,
              "#d8576b"
             ],
             [
              0.6666666666666666,
              "#ed7953"
             ],
             [
              0.7777777777777778,
              "#fb9f3a"
             ],
             [
              0.8888888888888888,
              "#fdca26"
             ],
             [
              1,
              "#f0f921"
             ]
            ],
            "type": "surface"
           }
          ],
          "table": [
           {
            "cells": {
             "fill": {
              "color": "#EBF0F8"
             },
             "line": {
              "color": "white"
             }
            },
            "header": {
             "fill": {
              "color": "#C8D4E3"
             },
             "line": {
              "color": "white"
             }
            },
            "type": "table"
           }
          ]
         },
         "layout": {
          "annotationdefaults": {
           "arrowcolor": "#2a3f5f",
           "arrowhead": 0,
           "arrowwidth": 1
          },
          "autotypenumbers": "strict",
          "coloraxis": {
           "colorbar": {
            "outlinewidth": 0,
            "ticks": ""
           }
          },
          "colorscale": {
           "diverging": [
            [
             0,
             "#8e0152"
            ],
            [
             0.1,
             "#c51b7d"
            ],
            [
             0.2,
             "#de77ae"
            ],
            [
             0.3,
             "#f1b6da"
            ],
            [
             0.4,
             "#fde0ef"
            ],
            [
             0.5,
             "#f7f7f7"
            ],
            [
             0.6,
             "#e6f5d0"
            ],
            [
             0.7,
             "#b8e186"
            ],
            [
             0.8,
             "#7fbc41"
            ],
            [
             0.9,
             "#4d9221"
            ],
            [
             1,
             "#276419"
            ]
           ],
           "sequential": [
            [
             0,
             "#0d0887"
            ],
            [
             0.1111111111111111,
             "#46039f"
            ],
            [
             0.2222222222222222,
             "#7201a8"
            ],
            [
             0.3333333333333333,
             "#9c179e"
            ],
            [
             0.4444444444444444,
             "#bd3786"
            ],
            [
             0.5555555555555556,
             "#d8576b"
            ],
            [
             0.6666666666666666,
             "#ed7953"
            ],
            [
             0.7777777777777778,
             "#fb9f3a"
            ],
            [
             0.8888888888888888,
             "#fdca26"
            ],
            [
             1,
             "#f0f921"
            ]
           ],
           "sequentialminus": [
            [
             0,
             "#0d0887"
            ],
            [
             0.1111111111111111,
             "#46039f"
            ],
            [
             0.2222222222222222,
             "#7201a8"
            ],
            [
             0.3333333333333333,
             "#9c179e"
            ],
            [
             0.4444444444444444,
             "#bd3786"
            ],
            [
             0.5555555555555556,
             "#d8576b"
            ],
            [
             0.6666666666666666,
             "#ed7953"
            ],
            [
             0.7777777777777778,
             "#fb9f3a"
            ],
            [
             0.8888888888888888,
             "#fdca26"
            ],
            [
             1,
             "#f0f921"
            ]
           ]
          },
          "colorway": [
           "#636efa",
           "#EF553B",
           "#00cc96",
           "#ab63fa",
           "#FFA15A",
           "#19d3f3",
           "#FF6692",
           "#B6E880",
           "#FF97FF",
           "#FECB52"
          ],
          "font": {
           "color": "#2a3f5f"
          },
          "geo": {
           "bgcolor": "white",
           "lakecolor": "white",
           "landcolor": "#E5ECF6",
           "showlakes": true,
           "showland": true,
           "subunitcolor": "white"
          },
          "hoverlabel": {
           "align": "left"
          },
          "hovermode": "closest",
          "mapbox": {
           "style": "light"
          },
          "paper_bgcolor": "white",
          "plot_bgcolor": "#E5ECF6",
          "polar": {
           "angularaxis": {
            "gridcolor": "white",
            "linecolor": "white",
            "ticks": ""
           },
           "bgcolor": "#E5ECF6",
           "radialaxis": {
            "gridcolor": "white",
            "linecolor": "white",
            "ticks": ""
           }
          },
          "scene": {
           "xaxis": {
            "backgroundcolor": "#E5ECF6",
            "gridcolor": "white",
            "gridwidth": 2,
            "linecolor": "white",
            "showbackground": true,
            "ticks": "",
            "zerolinecolor": "white"
           },
           "yaxis": {
            "backgroundcolor": "#E5ECF6",
            "gridcolor": "white",
            "gridwidth": 2,
            "linecolor": "white",
            "showbackground": true,
            "ticks": "",
            "zerolinecolor": "white"
           },
           "zaxis": {
            "backgroundcolor": "#E5ECF6",
            "gridcolor": "white",
            "gridwidth": 2,
            "linecolor": "white",
            "showbackground": true,
            "ticks": "",
            "zerolinecolor": "white"
           }
          },
          "shapedefaults": {
           "line": {
            "color": "#2a3f5f"
           }
          },
          "ternary": {
           "aaxis": {
            "gridcolor": "white",
            "linecolor": "white",
            "ticks": ""
           },
           "baxis": {
            "gridcolor": "white",
            "linecolor": "white",
            "ticks": ""
           },
           "bgcolor": "#E5ECF6",
           "caxis": {
            "gridcolor": "white",
            "linecolor": "white",
            "ticks": ""
           }
          },
          "title": {
           "x": 0.05
          },
          "xaxis": {
           "automargin": true,
           "gridcolor": "white",
           "linecolor": "white",
           "ticks": "",
           "title": {
            "standoff": 15
           },
           "zerolinecolor": "white",
           "zerolinewidth": 2
          },
          "yaxis": {
           "automargin": true,
           "gridcolor": "white",
           "linecolor": "white",
           "ticks": "",
           "title": {
            "standoff": 15
           },
           "zerolinecolor": "white",
           "zerolinewidth": 2
          }
         }
        },
        "title": {
         "text": "players and their price"
        },
        "width": 1000
       }
      }
     },
     "metadata": {},
     "output_type": "display_data"
    }
   ],
   "source": [
    "fig=px.sunburst(data,path=['Team','Player Name','Price Cr'],title=\"players and their price\",\n",
    "                width=1000,height=1000)\n",
    "fig.show()"
   ]
  },
  {
   "cell_type": "code",
   "execution_count": 269,
   "metadata": {},
   "outputs": [
    {
     "data": {
      "application/vnd.plotly.v1+json": {
       "config": {
        "plotlyServerURL": "https://plot.ly"
       },
       "data": [
        {
         "branchvalues": "total",
         "domain": {
          "x": [
           0,
           1
          ],
          "y": [
           0,
           1
          ]
         },
         "hovertemplate": "labels=%{label}<br>count=%{value}<br>parent=%{parent}<br>id=%{id}<extra></extra>",
         "ids": [
          "Rajasthan Royals/All-Rounder/Abdul Basith /0.2",
          "Chennai Super Kings/All-Rounder/Ajay Mandal /0.2",
          "Royal Challengers Bangalore/Bowler/Akash Deep /0.2",
          "Mumbai Indians/Bowler/Akash Madhwal /0.2",
          "Rajasthan Royals/All-Rounder/Akash Vasisht /0.2",
          "Delhi Capitals/All-Rounder/Aman Khan /0.2",
          "Sunrisers Hyderabad/Batter/Anmolpreet Singh /0.2",
          "Gujarat Titans/All-Rounder/Anukul Roy /0.2",
          "Mumbai Indians/Bowler/Arshad Khan /0.2",
          "Punjab Kings/Batter/Atharva Taide /0.2",
          "Lucknow Super Giants/Batter/Ayush Badoni /0.2",
          "Punjab Kings/Bowler/Baltej Singh /0.2",
          "Chennai Super Kings/All-Rounder/Bhagath Varma /0.2",
          "Gujarat Titans/Bowler/Darshan Nalkande /0.2",
          "Rajasthan Royals/Wicket-Keeper/Dhruv Jurel /0.2",
          "Mumbai Indians/Bowler/Duan Jansen /0.2",
          "Gujarat Titans/Bowler/Harshit Rana /0.2",
          "Royal Challengers Bangalore/Bowler/Himanshu Sharma /0.2",
          "Mumbai Indians/Bowler/Hrithik Shokeen /0.2",
          "Punjab Kings/Wicket-Keeper/Jitesh Sharma /0.2",
          "Lucknow Super Giants/All-Rounder/Karan Sharma /0.2",
          "Rajasthan Royals/Bowler/Kuldeep Sen /0.2",
          "Rajasthan Royals/Bowler/Kuldip Yadav /0.2",
          "Gujarat Titans/Bowler/Kulwant Khejroliya /0.2",
          "Mumbai Indians/Bowler/Kumar Kartikeya /0.2",
          "Rajasthan Royals/Wicket-Keeper/Kunal Singh Rathore /0.2",
          "Lucknow Super Giants/Batter/Manan Vohra /0.2",
          "Royal Challengers Bangalore/All-Rounder/Manoj Bhandage /0.2",
          "Chennai Super Kings/Bowler/Matheesha Pathirana /0.2",
          "Lucknow Super Giants/Bowler/Mayank Yadav /0.2",
          "Punjab Kings/All-Rounder/Mohit Rathee /0.2",
          "Lucknow Super Giants/Bowler/Mohsin Khan /0.2",
          "Chennai Super Kings/Bowler/Mukesh Choudhary /0.2",
          "Rajasthan Royals/Bowler/Murugan Ashwin /0.2",
          "Mumbai Indians/All-Rounder/Nehal Wadhera /0.2",
          "Sunrisers Hyderabad/Wicket-Keeper/Nitish Kumar Reddy /0.2",
          "Gujarat Titans/Bowler/Pradeep Sangwan /0.2",
          "Lucknow Super Giants/All-Rounder/Prerak Mankad /0.2",
          "Mumbai Indians/Bowler/Raghav Goyal /0.2",
          "Royal Challengers Bangalore/Batter/Rajat Patidar /0.2",
          "Mumbai Indians/Batter/Ramandeep Singh /0.2",
          "Delhi Capitals/Batter/Ripal Patel /0.2",
          "Gujarat Titans/Batter/Sai Sudharsan /0.2",
          "Sunrisers Hyderabad/All-Rounder/Samarth Vyas /0.2",
          "Sunrisers Hyderabad/All-Rounder/Sanvir Singh /0.2",
          "Delhi Capitals/Batter/Sarfaraz Khan /0.2",
          "Chennai Super Kings/Batter/Shaik Rasheed /0.2",
          "Mumbai Indians/All-Rounder/Shams Mulani /0.2",
          "Punjab Kings/All-Rounder/Shivam Singh /0.2",
          "Chennai Super Kings/Bowler/Simarjeet Singh /0.2",
          "Royal Challengers Bangalore/All-Rounder/Sonu Yadav /0.2",
          "Chennai Super Kings/Batter/Subhranshu Senapati /0.2",
          "Gujarat Titans/Bowler/Suyash Sharma /0.2",
          "Lucknow Super Giants/All-Rounder/Swapnil Singh /0.2",
          "Mumbai Indians/Batter/Tristan Stubbs /0.2",
          "Chennai Super Kings/Bowler/Tushar Deshpande /0.2",
          "Gujarat Titans/Wicket-Keeper/Urvil Patel /0.2",
          "Delhi Capitals/Bowler/Vicky Ostwal /0.2",
          "Punjab Kings/Bowler/Vidhwath Kaverappa /0.2",
          "Mumbai Indians/Wicket-Keeper/Vishnu Vinod /0.2",
          "Lucknow Super Giants/All-Rounder/Yudhvir Singh /0.2",
          "Sunrisers Hyderabad/Wicket-Keeper/Upendra Yadav /0.25",
          "Mumbai Indians/Bowler/Arjun Tendulkar /0.3",
          "Rajasthan Royals/Bowler/KC Cariappa /0.3",
          "Rajasthan Royals/Bowler/KM Asif /0.3",
          "Gujarat Titans/Bowler/Noor Ahmad /0.3",
          "Royal Challengers Bangalore/Batter/Suyash Prabhudessai /0.3",
          "Punjab Kings/Batter/Harpreet Singh Bhatia /0.4",
          "Lucknow Super Giants/Bowler/Yash Thakur /0.45",
          "Chennai Super Kings/Batter/Ajinkya Rahane /0.5",
          "Lucknow Super Giants/Bowler/Amit Mishra /0.5",
          "Punjab Kings/Batter/Bhanuka Rajapaksa /0.5",
          "Rajasthan Royals/Wicket-Keeper/D Ferreira /0.5",
          "Chennai Super Kings/All-Rounder/Dwaine Pretorius /0.5",
          "Sunrisers Hyderabad/Bowler/Fazalhaq Farooqi /0.5",
          "Delhi Capitals/Bowler/Ishant Sharma /0.5",
          "Lucknow Super Giants/Bowler/Jaydev Unadkat /0.5",
          "Royal Challengers Bangalore/Bowler/Karn Sharma /0.5",
          "Lucknow Super Giants/Batter/Kyle Mayers /0.5",
          "Gujarat Titans/Wicket-Keeper/Litton Das /0.5",
          "Delhi Capitals/Bowler/Lungi Ngidi /0.5",
          "Gujarat Titans/Batter/Mandeep Singh /0.5",
          "Sunrisers Hyderabad/Bowler/Mayank Markande /0.5",
          "Gujarat Titans/Bowler/Mohit Sharma /0.5",
          "Lucknow Super Giants/Bowler/Naveen-ul-Haq /0.5",
          "Gujarat Titans/All-Rounder/Odean Smith /0.5",
          "Mumbai Indians/Bowler/Piyush Chawla /0.5",
          "Delhi Capitals/Bowler/Pravin Dubey /0.5",
          "Gujarat Titans/Wicket-Keeper/Rahmanullah Gurbaz /0.5",
          "Lucknow Super Giants/All-Rounder/Romario Shepherd /0.5",
          "Punjab Kings/All-Rounder/Sikandar Raza /0.5",
          "Delhi Capitals/Batter/Yash Dhull /0.5",
          "Gujarat Titans/Batter/Rinku Singh /0.55",
          "Punjab Kings/All-Rounder/Rishi Dhawan /0.55",
          "Royal Challengers Bangalore/Bowler/Avinash Singh /0.6",
          "Chennai Super Kings/All-Rounder/Nishant Sindhu /0.6",
          "Punjab Kings/Wicket-Keeper/Prabhsimran Singh /0.6",
          "Gujarat Titans/Bowler/Vaibhav Arora /0.6",
          "Delhi Capitals/All-Rounder/Lalit Yadav /0.65",
          "Chennai Super Kings/Bowler/Maheesh Theekshana /0.7",
          "Royal Challengers Bangalore/Bowler/Rajan Kumar /0.7",
          "Lucknow Super Giants/All-Rounder/Daniel Sams /0.75",
          "Mumbai Indians/Bowler/Jason Behrendorff /0.75",
          "Punjab Kings/Bowler/Nathan Ellis /0.75",
          "Rajasthan Royals/Bowler/Obed McCoy /0.75",
          "Royal Challengers Bangalore/Bowler/Siddarth Kaul /0.75",
          "Royal Challengers Bangalore/Batter/Finn Allen /0.8",
          "Lucknow Super Giants/All-Rounder/Krishnappa Gowtham /0.9",
          "Gujarat Titans/Wicket-Keeper/Narayan Jagadeesan /0.9",
          "Royal Challengers Bangalore/All-Rounder/Mahipal Lomror /0.95",
          "Sunrisers Hyderabad/Bowler/Akeal Hosein /1.0",
          "Gujarat Titans/All-Rounder/David Wiese /1.0",
          "Chennai Super Kings/Batter/Devon Conway /1.0",
          "Rajasthan Royals/Batter/Joe Root /1.0",
          "Chennai Super Kings/Bowler/Kyle Jamieson /1.0",
          "Delhi Capitals/Bowler/Kamlesh Nagarkoti /1.1",
          "Chennai Super Kings/Bowler/Prashant Solanki /1.2",
          "Gujarat Titans/Wicket-Keeper/Srikar Bharat /1.2",
          "Gujarat Titans/All-Rounder/Vijay Shankar /1.4",
          "Rajasthan Royals/Bowler/Adam Zampa /1.5",
          "Sunrisers Hyderabad/Wicket-Keeper/Glenn Phillips /1.5",
          "Mumbai Indians/Bowler/Jhye Richardson /1.5",
          "Chennai Super Kings/Bowler/Rajvardhan Hangargekar /1.5",
          "Gujarat Titans/All-Rounder/Shakib Al Hasan /1.5",
          "Gujarat Titans/Bowler/Tim Southee /1.5",
          "Gujarat Titans/Bowler/Jayant Yadav /1.7",
          "Mumbai Indians/Batter/Tilak Varma /1.7",
          "Sunrisers Hyderabad/All-Rounder/Mayank Dagar /1.8",
          "Chennai Super Kings/All-Rounder/Mitchell Santner /1.9",
          "Royal Challengers Bangalore/Bowler/Reece Topley /1.9",
          "Gujarat Titans/Wicket-Keeper/Wriddhiman Saha /1.9",
          "Sunrisers Hyderabad/Bowler/Adil Rashid /2.0",
          "Royal Challengers Bangalore/Bowler/David Willey /2.0",
          "Gujarat Titans/Batter/Kane Williamson /2.0",
          "Delhi Capitals/Bowler/Kuldeep Yadav /2.0",
          "Delhi Capitals/Bowler/Mustafizur Rahman /2.0",
          "Delhi Capitals/Wicket-Keeper/Philip Salt /2.0",
          "Punjab Kings/All-Rounder/Raj Bawa /2.0",
          "Gujarat Titans/Bowler/Umesh Yadav /2.0",
          "Gujarat Titans/Bowler/Alzarri Joseph /2.4",
          "Delhi Capitals/Batter/Manish Pandey /2.4",
          "Gujarat Titans/Wicket-Keeper/Matthew Wade /2.4",
          "Royal Challengers Bangalore/All-Rounder/Shahbaz Ahmed /2.4",
          "Gujarat Titans/Batter/Abhinav Manohar /2.6",
          "Sunrisers Hyderabad/Batter/Aiden Markram /2.6",
          "Rajasthan Royals/Bowler/Navdeep Saini /2.6",
          "Sunrisers Hyderabad/All-Rounder/Vivrant Sharma /2.6",
          "Delhi Capitals/Batter/Rovman Powell /2.8",
          "Gujarat Titans/Batter/David Miller /3.0",
          "Mumbai Indians/All-Rounder/Dewald Brevis /3.0",
          "Gujarat Titans/All-Rounder/Sai Kishore /3.0",
          "Royal Challengers Bangalore/Batter/Will Jacks /3.2",
          "Gujarat Titans/Bowler/Yash Dayal /3.2",
          "Royal Challengers Bangalore/Wicket-Keeper/Anuj Rawat /3.4",
          "Punjab Kings/Bowler/Harpreet Brar /3.8",
          "Rajasthan Royals/Batter/Riyan Parag /3.8",
          "Sunrisers Hyderabad/Batter/Abdul Samad /4.0",
          "Punjab Kings/Bowler/Arshdeep Singh /4.0",
          "Sunrisers Hyderabad/Bowler/Kartik Tyagi /4.0",
          "Lucknow Super Giants/Bowler/Ravi Bishnoi /4.0",
          "Chennai Super Kings/All-Rounder/Shivam Dube /4.0",
          "Sunrisers Hyderabad/Bowler/T Natarajan /4.0",
          "Sunrisers Hyderabad/Bowler/Umran Malik /4.0",
          "Rajasthan Royals/Batter/Yashasvi Jaiswal /4.0",
          "Sunrisers Hyderabad/Bowler/Bhuvneshwar Kumar /4.2",
          "Delhi Capitals/Bowler/Chetan Sakariya /4.2",
          "Sunrisers Hyderabad/Bowler/Marco Jansen /4.2",
          "Gujarat Titans/Bowler/Josh Little /4.4",
          "Delhi Capitals/Batter/Rilee Rossouw /4.6",
          "Rajasthan Royals/All-Rounder/Ravichandran Ashwin /5.0",
          "Sunrisers Hyderabad/Wicket-Keeper/Heinrich Klaasen /5.25",
          "Delhi Capitals/Bowler/Khaleel Ahmed /5.25",
          "Punjab Kings/Bowler/Rahul Chahar /5.25",
          "Royal Challengers Bangalore/Wicket-Keeper/Dinesh Karthik /5.5",
          "Delhi Capitals/Bowler/Mukesh Kumar /5.5",
          "Lucknow Super Giants/All-Rounder/Deepak Hooda /5.75",
          "Rajasthan Royals/All-Rounder/Jason Holder /5.75",
          "Chennai Super Kings/Batter/Ruturaj Gaikwad /6.0",
          "Gujarat Titans/Bowler/Shivam Mavi /6.0",
          "Gujarat Titans/All-Rounder/Sunil Narine /6.0",
          "Delhi Capitals/Batter/David Warner /6.25",
          "Gujarat Titans/Bowler/Mohammad Shami /6.25",
          "Sunrisers Hyderabad/All-Rounder/Abhishek Sharma /6.5",
          "Delhi Capitals/Bowler/Anrich Nortje /6.5",
          "Delhi Capitals/All-Rounder/Mitchell Marsh /6.5",
          "Rajasthan Royals/Bowler/Yuzvendra Chahal /6.5",
          "Chennai Super Kings/Batter/Ambati Rayudu /6.75",
          "Punjab Kings/Wicket-Keeper/Jonny Bairstow /6.75",
          "Lucknow Super Giants/Wicket-Keeper/Quinton de Kock /6.75",
          "Royal Challengers Bangalore/Batter/Faf du Plessis /7.0",
          "Royal Challengers Bangalore/Bowler/Mohammed Siraj /7.0",
          "Lucknow Super Giants/Bowler/Mark Wood /7.5",
          "Rajasthan Royals/Batter/Devdutt Padikkal /7.75",
          "Royal Challengers Bangalore/Bowler/Josh Hazlewood /7.75",
          "Mumbai Indians/Bowler/Jofra Archer /8.0",
          "Chennai Super Kings/All-Rounder/Moeen Ali /8.0",
          "Gujarat Titans/Batter/Nitish Rana /8.0",
          "Delhi Capitals/Batter/Prithvi Shaw /8.0",
          "Gujarat Titans/Batter/Shubman Gill /8.0",
          "Mumbai Indians/Batter/Suryakumar Yadav /8.0",
          "Rajasthan Royals/Bowler/Trent Boult /8.0",
          "Gujarat Titans/All-Rounder/Venkatesh Iyer /8.0",
          "Lucknow Super Giants/All-Rounder/Krunal Pandya /8.25",
          "Sunrisers Hyderabad/Batter/Mayank Agarwal /8.25",
          "Punjab Kings/Batter/Shikhar Dhawan /8.25",
          "Mumbai Indians/Batter/Tim David /8.25",
          "Sunrisers Hyderabad/Batter/Rahul Tripathi /8.5",
          "Rajasthan Royals/Batter/Shimron Hetmyer /8.5",
          "Sunrisers Hyderabad/All-Rounder/Washington Sundar /8.75",
          "Gujarat Titans/All-Rounder/Rahul Tewatia /9.0",
          "Punjab Kings/Batter/Shahrukh Khan /9.0",
          "Punjab Kings/Bowler/Kagiso Rabada /9.25",
          "Lucknow Super Giants/Bowler/Avesh Khan /10.0",
          "Rajasthan Royals/Wicket-Keeper/Jos Buttler /10.0",
          "Gujarat Titans/Bowler/Lockie Ferguson /10.0",
          "Lucknow Super Giants/All-Rounder/Marcus Stoinis /10.0",
          "Rajasthan Royals/Bowler/Prasidh Krishna /10.0",
          "Royal Challengers Bangalore/Bowler/Harshal Patel /10.75",
          "Gujarat Titans/Bowler/Shardul Thakur /10.75",
          "Royal Challengers Bangalore/All-Rounder/Wanindu Hasaranga /10.75",
          "Royal Challengers Bangalore/All-Rounder/Glenn Maxwell /11.0",
          "Punjab Kings/All-Rounder/Liam Livingstone /11.5",
          "Delhi Capitals/All-Rounder/Axar Patel /12.0",
          "Mumbai Indians/Bowler/Jasprit Bumrah /12.0",
          "Chennai Super Kings/Wicket-Keeper/MS Dhoni /12.0",
          "Gujarat Titans/Bowler/Varun Chakaravarthy /12.0",
          "Gujarat Titans/Batter/Shreyas Iyer /12.25",
          "Sunrisers Hyderabad/Batter/Harry Brook /13.25",
          "Chennai Super Kings/Bowler/Deepak Chahar /14.0",
          "Rajasthan Royals/Wicket-Keeper/Sanju Samson /14.0",
          "Gujarat Titans/All-Rounder/Hardik Pandya /15.0",
          "Gujarat Titans/Bowler/Rashid Khan /15.0",
          "Royal Challengers Bangalore/Batter/Virat Kohli /15.0",
          "Mumbai Indians/Wicket-Keeper/Ishan Kishan /15.25",
          "Gujarat Titans/All-Rounder/Andre Russell /16.0",
          "Lucknow Super Giants/Wicket-Keeper/Nicholas Pooran /16.0",
          "Chennai Super Kings/All-Rounder/Ravindra Jadeja /16.0",
          "Delhi Capitals/Wicket-Keeper/Rishabh Pant /16.0",
          "Mumbai Indians/Batter/Rohit Sharma /16.0",
          "Chennai Super Kings/All-Rounder/Ben Stokes /16.25",
          "Lucknow Super Giants/Batter/KL Rahul /17.0",
          "Mumbai Indians/All-Rounder/Cameron Green /17.5",
          "Punjab Kings/All-Rounder/Sam Curran /18.5",
          "Rajasthan Royals/All-Rounder/Abdul Basith ",
          "Sunrisers Hyderabad/Batter/Abdul Samad ",
          "Gujarat Titans/Batter/Abhinav Manohar ",
          "Sunrisers Hyderabad/All-Rounder/Abhishek Sharma ",
          "Rajasthan Royals/Bowler/Adam Zampa ",
          "Sunrisers Hyderabad/Bowler/Adil Rashid ",
          "Sunrisers Hyderabad/Batter/Aiden Markram ",
          "Chennai Super Kings/All-Rounder/Ajay Mandal ",
          "Chennai Super Kings/Batter/Ajinkya Rahane ",
          "Royal Challengers Bangalore/Bowler/Akash Deep ",
          "Mumbai Indians/Bowler/Akash Madhwal ",
          "Rajasthan Royals/All-Rounder/Akash Vasisht ",
          "Sunrisers Hyderabad/Bowler/Akeal Hosein ",
          "Gujarat Titans/Bowler/Alzarri Joseph ",
          "Delhi Capitals/All-Rounder/Aman Khan ",
          "Chennai Super Kings/Batter/Ambati Rayudu ",
          "Lucknow Super Giants/Bowler/Amit Mishra ",
          "Gujarat Titans/All-Rounder/Andre Russell ",
          "Sunrisers Hyderabad/Batter/Anmolpreet Singh ",
          "Delhi Capitals/Bowler/Anrich Nortje ",
          "Royal Challengers Bangalore/Wicket-Keeper/Anuj Rawat ",
          "Gujarat Titans/All-Rounder/Anukul Roy ",
          "Mumbai Indians/Bowler/Arjun Tendulkar ",
          "Mumbai Indians/Bowler/Arshad Khan ",
          "Punjab Kings/Bowler/Arshdeep Singh ",
          "Punjab Kings/Batter/Atharva Taide ",
          "Lucknow Super Giants/Bowler/Avesh Khan ",
          "Royal Challengers Bangalore/Bowler/Avinash Singh ",
          "Delhi Capitals/All-Rounder/Axar Patel ",
          "Lucknow Super Giants/Batter/Ayush Badoni ",
          "Punjab Kings/Bowler/Baltej Singh ",
          "Chennai Super Kings/All-Rounder/Ben Stokes ",
          "Chennai Super Kings/All-Rounder/Bhagath Varma ",
          "Punjab Kings/Batter/Bhanuka Rajapaksa ",
          "Sunrisers Hyderabad/Bowler/Bhuvneshwar Kumar ",
          "Mumbai Indians/All-Rounder/Cameron Green ",
          "Delhi Capitals/Bowler/Chetan Sakariya ",
          "Rajasthan Royals/Wicket-Keeper/D Ferreira ",
          "Lucknow Super Giants/All-Rounder/Daniel Sams ",
          "Gujarat Titans/Bowler/Darshan Nalkande ",
          "Gujarat Titans/Batter/David Miller ",
          "Delhi Capitals/Batter/David Warner ",
          "Gujarat Titans/All-Rounder/David Wiese ",
          "Royal Challengers Bangalore/Bowler/David Willey ",
          "Chennai Super Kings/Bowler/Deepak Chahar ",
          "Lucknow Super Giants/All-Rounder/Deepak Hooda ",
          "Rajasthan Royals/Batter/Devdutt Padikkal ",
          "Chennai Super Kings/Batter/Devon Conway ",
          "Mumbai Indians/All-Rounder/Dewald Brevis ",
          "Rajasthan Royals/Wicket-Keeper/Dhruv Jurel ",
          "Royal Challengers Bangalore/Wicket-Keeper/Dinesh Karthik ",
          "Mumbai Indians/Bowler/Duan Jansen ",
          "Chennai Super Kings/All-Rounder/Dwaine Pretorius ",
          "Royal Challengers Bangalore/Batter/Faf du Plessis ",
          "Sunrisers Hyderabad/Bowler/Fazalhaq Farooqi ",
          "Royal Challengers Bangalore/Batter/Finn Allen ",
          "Royal Challengers Bangalore/All-Rounder/Glenn Maxwell ",
          "Sunrisers Hyderabad/Wicket-Keeper/Glenn Phillips ",
          "Gujarat Titans/All-Rounder/Hardik Pandya ",
          "Punjab Kings/Bowler/Harpreet Brar ",
          "Punjab Kings/Batter/Harpreet Singh Bhatia ",
          "Sunrisers Hyderabad/Batter/Harry Brook ",
          "Royal Challengers Bangalore/Bowler/Harshal Patel ",
          "Gujarat Titans/Bowler/Harshit Rana ",
          "Sunrisers Hyderabad/Wicket-Keeper/Heinrich Klaasen ",
          "Royal Challengers Bangalore/Bowler/Himanshu Sharma ",
          "Mumbai Indians/Bowler/Hrithik Shokeen ",
          "Mumbai Indians/Wicket-Keeper/Ishan Kishan ",
          "Delhi Capitals/Bowler/Ishant Sharma ",
          "Mumbai Indians/Bowler/Jason Behrendorff ",
          "Rajasthan Royals/All-Rounder/Jason Holder ",
          "Mumbai Indians/Bowler/Jasprit Bumrah ",
          "Gujarat Titans/Bowler/Jayant Yadav ",
          "Lucknow Super Giants/Bowler/Jaydev Unadkat ",
          "Mumbai Indians/Bowler/Jhye Richardson ",
          "Punjab Kings/Wicket-Keeper/Jitesh Sharma ",
          "Rajasthan Royals/Batter/Joe Root ",
          "Mumbai Indians/Bowler/Jofra Archer ",
          "Punjab Kings/Wicket-Keeper/Jonny Bairstow ",
          "Rajasthan Royals/Wicket-Keeper/Jos Buttler ",
          "Royal Challengers Bangalore/Bowler/Josh Hazlewood ",
          "Gujarat Titans/Bowler/Josh Little ",
          "Rajasthan Royals/Bowler/KC Cariappa ",
          "Lucknow Super Giants/Batter/KL Rahul ",
          "Rajasthan Royals/Bowler/KM Asif ",
          "Punjab Kings/Bowler/Kagiso Rabada ",
          "Delhi Capitals/Bowler/Kamlesh Nagarkoti ",
          "Gujarat Titans/Batter/Kane Williamson ",
          "Lucknow Super Giants/All-Rounder/Karan Sharma ",
          "Royal Challengers Bangalore/Bowler/Karn Sharma ",
          "Sunrisers Hyderabad/Bowler/Kartik Tyagi ",
          "Delhi Capitals/Bowler/Khaleel Ahmed ",
          "Lucknow Super Giants/All-Rounder/Krishnappa Gowtham ",
          "Lucknow Super Giants/All-Rounder/Krunal Pandya ",
          "Rajasthan Royals/Bowler/Kuldeep Sen ",
          "Delhi Capitals/Bowler/Kuldeep Yadav ",
          "Rajasthan Royals/Bowler/Kuldip Yadav ",
          "Gujarat Titans/Bowler/Kulwant Khejroliya ",
          "Mumbai Indians/Bowler/Kumar Kartikeya ",
          "Rajasthan Royals/Wicket-Keeper/Kunal Singh Rathore ",
          "Chennai Super Kings/Bowler/Kyle Jamieson ",
          "Lucknow Super Giants/Batter/Kyle Mayers ",
          "Delhi Capitals/All-Rounder/Lalit Yadav ",
          "Punjab Kings/All-Rounder/Liam Livingstone ",
          "Gujarat Titans/Wicket-Keeper/Litton Das ",
          "Gujarat Titans/Bowler/Lockie Ferguson ",
          "Delhi Capitals/Bowler/Lungi Ngidi ",
          "Chennai Super Kings/Wicket-Keeper/MS Dhoni ",
          "Chennai Super Kings/Bowler/Maheesh Theekshana ",
          "Royal Challengers Bangalore/All-Rounder/Mahipal Lomror ",
          "Lucknow Super Giants/Batter/Manan Vohra ",
          "Gujarat Titans/Batter/Mandeep Singh ",
          "Delhi Capitals/Batter/Manish Pandey ",
          "Royal Challengers Bangalore/All-Rounder/Manoj Bhandage ",
          "Sunrisers Hyderabad/Bowler/Marco Jansen ",
          "Lucknow Super Giants/All-Rounder/Marcus Stoinis ",
          "Lucknow Super Giants/Bowler/Mark Wood ",
          "Chennai Super Kings/Bowler/Matheesha Pathirana ",
          "Gujarat Titans/Wicket-Keeper/Matthew Wade ",
          "Sunrisers Hyderabad/Batter/Mayank Agarwal ",
          "Sunrisers Hyderabad/All-Rounder/Mayank Dagar ",
          "Sunrisers Hyderabad/Bowler/Mayank Markande ",
          "Lucknow Super Giants/Bowler/Mayank Yadav ",
          "Delhi Capitals/All-Rounder/Mitchell Marsh ",
          "Chennai Super Kings/All-Rounder/Mitchell Santner ",
          "Chennai Super Kings/All-Rounder/Moeen Ali ",
          "Gujarat Titans/Bowler/Mohammad Shami ",
          "Royal Challengers Bangalore/Bowler/Mohammed Siraj ",
          "Punjab Kings/All-Rounder/Mohit Rathee ",
          "Gujarat Titans/Bowler/Mohit Sharma ",
          "Lucknow Super Giants/Bowler/Mohsin Khan ",
          "Chennai Super Kings/Bowler/Mukesh Choudhary ",
          "Delhi Capitals/Bowler/Mukesh Kumar ",
          "Rajasthan Royals/Bowler/Murugan Ashwin ",
          "Delhi Capitals/Bowler/Mustafizur Rahman ",
          "Gujarat Titans/Wicket-Keeper/Narayan Jagadeesan ",
          "Punjab Kings/Bowler/Nathan Ellis ",
          "Rajasthan Royals/Bowler/Navdeep Saini ",
          "Lucknow Super Giants/Bowler/Naveen-ul-Haq ",
          "Mumbai Indians/All-Rounder/Nehal Wadhera ",
          "Lucknow Super Giants/Wicket-Keeper/Nicholas Pooran ",
          "Chennai Super Kings/All-Rounder/Nishant Sindhu ",
          "Sunrisers Hyderabad/Wicket-Keeper/Nitish Kumar Reddy ",
          "Gujarat Titans/Batter/Nitish Rana ",
          "Gujarat Titans/Bowler/Noor Ahmad ",
          "Rajasthan Royals/Bowler/Obed McCoy ",
          "Gujarat Titans/All-Rounder/Odean Smith ",
          "Delhi Capitals/Wicket-Keeper/Philip Salt ",
          "Mumbai Indians/Bowler/Piyush Chawla ",
          "Punjab Kings/Wicket-Keeper/Prabhsimran Singh ",
          "Gujarat Titans/Bowler/Pradeep Sangwan ",
          "Chennai Super Kings/Bowler/Prashant Solanki ",
          "Rajasthan Royals/Bowler/Prasidh Krishna ",
          "Delhi Capitals/Bowler/Pravin Dubey ",
          "Lucknow Super Giants/All-Rounder/Prerak Mankad ",
          "Delhi Capitals/Batter/Prithvi Shaw ",
          "Lucknow Super Giants/Wicket-Keeper/Quinton de Kock ",
          "Mumbai Indians/Bowler/Raghav Goyal ",
          "Gujarat Titans/Wicket-Keeper/Rahmanullah Gurbaz ",
          "Punjab Kings/Bowler/Rahul Chahar ",
          "Gujarat Titans/All-Rounder/Rahul Tewatia ",
          "Sunrisers Hyderabad/Batter/Rahul Tripathi ",
          "Punjab Kings/All-Rounder/Raj Bawa ",
          "Royal Challengers Bangalore/Bowler/Rajan Kumar ",
          "Royal Challengers Bangalore/Batter/Rajat Patidar ",
          "Chennai Super Kings/Bowler/Rajvardhan Hangargekar ",
          "Mumbai Indians/Batter/Ramandeep Singh ",
          "Gujarat Titans/Bowler/Rashid Khan ",
          "Lucknow Super Giants/Bowler/Ravi Bishnoi ",
          "Rajasthan Royals/All-Rounder/Ravichandran Ashwin ",
          "Chennai Super Kings/All-Rounder/Ravindra Jadeja ",
          "Royal Challengers Bangalore/Bowler/Reece Topley ",
          "Delhi Capitals/Batter/Rilee Rossouw ",
          "Gujarat Titans/Batter/Rinku Singh ",
          "Delhi Capitals/Batter/Ripal Patel ",
          "Delhi Capitals/Wicket-Keeper/Rishabh Pant ",
          "Punjab Kings/All-Rounder/Rishi Dhawan ",
          "Rajasthan Royals/Batter/Riyan Parag ",
          "Mumbai Indians/Batter/Rohit Sharma ",
          "Lucknow Super Giants/All-Rounder/Romario Shepherd ",
          "Delhi Capitals/Batter/Rovman Powell ",
          "Chennai Super Kings/Batter/Ruturaj Gaikwad ",
          "Gujarat Titans/All-Rounder/Sai Kishore ",
          "Gujarat Titans/Batter/Sai Sudharsan ",
          "Punjab Kings/All-Rounder/Sam Curran ",
          "Sunrisers Hyderabad/All-Rounder/Samarth Vyas ",
          "Rajasthan Royals/Wicket-Keeper/Sanju Samson ",
          "Sunrisers Hyderabad/All-Rounder/Sanvir Singh ",
          "Delhi Capitals/Batter/Sarfaraz Khan ",
          "Royal Challengers Bangalore/All-Rounder/Shahbaz Ahmed ",
          "Punjab Kings/Batter/Shahrukh Khan ",
          "Chennai Super Kings/Batter/Shaik Rasheed ",
          "Gujarat Titans/All-Rounder/Shakib Al Hasan ",
          "Mumbai Indians/All-Rounder/Shams Mulani ",
          "Gujarat Titans/Bowler/Shardul Thakur ",
          "Punjab Kings/Batter/Shikhar Dhawan ",
          "Rajasthan Royals/Batter/Shimron Hetmyer ",
          "Chennai Super Kings/All-Rounder/Shivam Dube ",
          "Gujarat Titans/Bowler/Shivam Mavi ",
          "Punjab Kings/All-Rounder/Shivam Singh ",
          "Gujarat Titans/Batter/Shreyas Iyer ",
          "Gujarat Titans/Batter/Shubman Gill ",
          "Royal Challengers Bangalore/Bowler/Siddarth Kaul ",
          "Punjab Kings/All-Rounder/Sikandar Raza ",
          "Chennai Super Kings/Bowler/Simarjeet Singh ",
          "Royal Challengers Bangalore/All-Rounder/Sonu Yadav ",
          "Gujarat Titans/Wicket-Keeper/Srikar Bharat ",
          "Chennai Super Kings/Batter/Subhranshu Senapati ",
          "Gujarat Titans/All-Rounder/Sunil Narine ",
          "Mumbai Indians/Batter/Suryakumar Yadav ",
          "Royal Challengers Bangalore/Batter/Suyash Prabhudessai ",
          "Gujarat Titans/Bowler/Suyash Sharma ",
          "Lucknow Super Giants/All-Rounder/Swapnil Singh ",
          "Sunrisers Hyderabad/Bowler/T Natarajan ",
          "Mumbai Indians/Batter/Tilak Varma ",
          "Mumbai Indians/Batter/Tim David ",
          "Gujarat Titans/Bowler/Tim Southee ",
          "Rajasthan Royals/Bowler/Trent Boult ",
          "Mumbai Indians/Batter/Tristan Stubbs ",
          "Chennai Super Kings/Bowler/Tushar Deshpande ",
          "Gujarat Titans/Bowler/Umesh Yadav ",
          "Sunrisers Hyderabad/Bowler/Umran Malik ",
          "Sunrisers Hyderabad/Wicket-Keeper/Upendra Yadav ",
          "Gujarat Titans/Wicket-Keeper/Urvil Patel ",
          "Gujarat Titans/Bowler/Vaibhav Arora ",
          "Gujarat Titans/Bowler/Varun Chakaravarthy ",
          "Gujarat Titans/All-Rounder/Venkatesh Iyer ",
          "Delhi Capitals/Bowler/Vicky Ostwal ",
          "Punjab Kings/Bowler/Vidhwath Kaverappa ",
          "Gujarat Titans/All-Rounder/Vijay Shankar ",
          "Royal Challengers Bangalore/Batter/Virat Kohli ",
          "Mumbai Indians/Wicket-Keeper/Vishnu Vinod ",
          "Sunrisers Hyderabad/All-Rounder/Vivrant Sharma ",
          "Royal Challengers Bangalore/All-Rounder/Wanindu Hasaranga ",
          "Sunrisers Hyderabad/All-Rounder/Washington Sundar ",
          "Royal Challengers Bangalore/Batter/Will Jacks ",
          "Gujarat Titans/Wicket-Keeper/Wriddhiman Saha ",
          "Gujarat Titans/Bowler/Yash Dayal ",
          "Delhi Capitals/Batter/Yash Dhull ",
          "Lucknow Super Giants/Bowler/Yash Thakur ",
          "Rajasthan Royals/Batter/Yashasvi Jaiswal ",
          "Lucknow Super Giants/All-Rounder/Yudhvir Singh ",
          "Rajasthan Royals/Bowler/Yuzvendra Chahal ",
          "Chennai Super Kings/All-Rounder",
          "Delhi Capitals/All-Rounder",
          "Gujarat Titans/All-Rounder",
          "Lucknow Super Giants/All-Rounder",
          "Mumbai Indians/All-Rounder",
          "Punjab Kings/All-Rounder",
          "Rajasthan Royals/All-Rounder",
          "Royal Challengers Bangalore/All-Rounder",
          "Sunrisers Hyderabad/All-Rounder",
          "Chennai Super Kings/Batter",
          "Delhi Capitals/Batter",
          "Gujarat Titans/Batter",
          "Lucknow Super Giants/Batter",
          "Mumbai Indians/Batter",
          "Punjab Kings/Batter",
          "Rajasthan Royals/Batter",
          "Royal Challengers Bangalore/Batter",
          "Sunrisers Hyderabad/Batter",
          "Chennai Super Kings/Bowler",
          "Delhi Capitals/Bowler",
          "Gujarat Titans/Bowler",
          "Lucknow Super Giants/Bowler",
          "Mumbai Indians/Bowler",
          "Punjab Kings/Bowler",
          "Rajasthan Royals/Bowler",
          "Royal Challengers Bangalore/Bowler",
          "Sunrisers Hyderabad/Bowler",
          "Chennai Super Kings/Wicket-Keeper",
          "Delhi Capitals/Wicket-Keeper",
          "Gujarat Titans/Wicket-Keeper",
          "Lucknow Super Giants/Wicket-Keeper",
          "Mumbai Indians/Wicket-Keeper",
          "Punjab Kings/Wicket-Keeper",
          "Rajasthan Royals/Wicket-Keeper",
          "Royal Challengers Bangalore/Wicket-Keeper",
          "Sunrisers Hyderabad/Wicket-Keeper",
          "Chennai Super Kings",
          "Delhi Capitals",
          "Gujarat Titans",
          "Lucknow Super Giants",
          "Mumbai Indians",
          "Punjab Kings",
          "Rajasthan Royals",
          "Royal Challengers Bangalore",
          "Sunrisers Hyderabad"
         ],
         "labels": [
          "0.2",
          "0.2",
          "0.2",
          "0.2",
          "0.2",
          "0.2",
          "0.2",
          "0.2",
          "0.2",
          "0.2",
          "0.2",
          "0.2",
          "0.2",
          "0.2",
          "0.2",
          "0.2",
          "0.2",
          "0.2",
          "0.2",
          "0.2",
          "0.2",
          "0.2",
          "0.2",
          "0.2",
          "0.2",
          "0.2",
          "0.2",
          "0.2",
          "0.2",
          "0.2",
          "0.2",
          "0.2",
          "0.2",
          "0.2",
          "0.2",
          "0.2",
          "0.2",
          "0.2",
          "0.2",
          "0.2",
          "0.2",
          "0.2",
          "0.2",
          "0.2",
          "0.2",
          "0.2",
          "0.2",
          "0.2",
          "0.2",
          "0.2",
          "0.2",
          "0.2",
          "0.2",
          "0.2",
          "0.2",
          "0.2",
          "0.2",
          "0.2",
          "0.2",
          "0.2",
          "0.2",
          "0.25",
          "0.3",
          "0.3",
          "0.3",
          "0.3",
          "0.3",
          "0.4",
          "0.45",
          "0.5",
          "0.5",
          "0.5",
          "0.5",
          "0.5",
          "0.5",
          "0.5",
          "0.5",
          "0.5",
          "0.5",
          "0.5",
          "0.5",
          "0.5",
          "0.5",
          "0.5",
          "0.5",
          "0.5",
          "0.5",
          "0.5",
          "0.5",
          "0.5",
          "0.5",
          "0.5",
          "0.55",
          "0.55",
          "0.6",
          "0.6",
          "0.6",
          "0.6",
          "0.65",
          "0.7",
          "0.7",
          "0.75",
          "0.75",
          "0.75",
          "0.75",
          "0.75",
          "0.8",
          "0.9",
          "0.9",
          "0.95",
          "1.0",
          "1.0",
          "1.0",
          "1.0",
          "1.0",
          "1.1",
          "1.2",
          "1.2",
          "1.4",
          "1.5",
          "1.5",
          "1.5",
          "1.5",
          "1.5",
          "1.5",
          "1.7",
          "1.7",
          "1.8",
          "1.9",
          "1.9",
          "1.9",
          "2.0",
          "2.0",
          "2.0",
          "2.0",
          "2.0",
          "2.0",
          "2.0",
          "2.0",
          "2.4",
          "2.4",
          "2.4",
          "2.4",
          "2.6",
          "2.6",
          "2.6",
          "2.6",
          "2.8",
          "3.0",
          "3.0",
          "3.0",
          "3.2",
          "3.2",
          "3.4",
          "3.8",
          "3.8",
          "4.0",
          "4.0",
          "4.0",
          "4.0",
          "4.0",
          "4.0",
          "4.0",
          "4.0",
          "4.2",
          "4.2",
          "4.2",
          "4.4",
          "4.6",
          "5.0",
          "5.25",
          "5.25",
          "5.25",
          "5.5",
          "5.5",
          "5.75",
          "5.75",
          "6.0",
          "6.0",
          "6.0",
          "6.25",
          "6.25",
          "6.5",
          "6.5",
          "6.5",
          "6.5",
          "6.75",
          "6.75",
          "6.75",
          "7.0",
          "7.0",
          "7.5",
          "7.75",
          "7.75",
          "8.0",
          "8.0",
          "8.0",
          "8.0",
          "8.0",
          "8.0",
          "8.0",
          "8.0",
          "8.25",
          "8.25",
          "8.25",
          "8.25",
          "8.5",
          "8.5",
          "8.75",
          "9.0",
          "9.0",
          "9.25",
          "10.0",
          "10.0",
          "10.0",
          "10.0",
          "10.0",
          "10.75",
          "10.75",
          "10.75",
          "11.0",
          "11.5",
          "12.0",
          "12.0",
          "12.0",
          "12.0",
          "12.25",
          "13.25",
          "14.0",
          "14.0",
          "15.0",
          "15.0",
          "15.0",
          "15.25",
          "16.0",
          "16.0",
          "16.0",
          "16.0",
          "16.0",
          "16.25",
          "17.0",
          "17.5",
          "18.5",
          "Abdul Basith ",
          "Abdul Samad ",
          "Abhinav Manohar ",
          "Abhishek Sharma ",
          "Adam Zampa ",
          "Adil Rashid ",
          "Aiden Markram ",
          "Ajay Mandal ",
          "Ajinkya Rahane ",
          "Akash Deep ",
          "Akash Madhwal ",
          "Akash Vasisht ",
          "Akeal Hosein ",
          "Alzarri Joseph ",
          "Aman Khan ",
          "Ambati Rayudu ",
          "Amit Mishra ",
          "Andre Russell ",
          "Anmolpreet Singh ",
          "Anrich Nortje ",
          "Anuj Rawat ",
          "Anukul Roy ",
          "Arjun Tendulkar ",
          "Arshad Khan ",
          "Arshdeep Singh ",
          "Atharva Taide ",
          "Avesh Khan ",
          "Avinash Singh ",
          "Axar Patel ",
          "Ayush Badoni ",
          "Baltej Singh ",
          "Ben Stokes ",
          "Bhagath Varma ",
          "Bhanuka Rajapaksa ",
          "Bhuvneshwar Kumar ",
          "Cameron Green ",
          "Chetan Sakariya ",
          "D Ferreira ",
          "Daniel Sams ",
          "Darshan Nalkande ",
          "David Miller ",
          "David Warner ",
          "David Wiese ",
          "David Willey ",
          "Deepak Chahar ",
          "Deepak Hooda ",
          "Devdutt Padikkal ",
          "Devon Conway ",
          "Dewald Brevis ",
          "Dhruv Jurel ",
          "Dinesh Karthik ",
          "Duan Jansen ",
          "Dwaine Pretorius ",
          "Faf du Plessis ",
          "Fazalhaq Farooqi ",
          "Finn Allen ",
          "Glenn Maxwell ",
          "Glenn Phillips ",
          "Hardik Pandya ",
          "Harpreet Brar ",
          "Harpreet Singh Bhatia ",
          "Harry Brook ",
          "Harshal Patel ",
          "Harshit Rana ",
          "Heinrich Klaasen ",
          "Himanshu Sharma ",
          "Hrithik Shokeen ",
          "Ishan Kishan ",
          "Ishant Sharma ",
          "Jason Behrendorff ",
          "Jason Holder ",
          "Jasprit Bumrah ",
          "Jayant Yadav ",
          "Jaydev Unadkat ",
          "Jhye Richardson ",
          "Jitesh Sharma ",
          "Joe Root ",
          "Jofra Archer ",
          "Jonny Bairstow ",
          "Jos Buttler ",
          "Josh Hazlewood ",
          "Josh Little ",
          "KC Cariappa ",
          "KL Rahul ",
          "KM Asif ",
          "Kagiso Rabada ",
          "Kamlesh Nagarkoti ",
          "Kane Williamson ",
          "Karan Sharma ",
          "Karn Sharma ",
          "Kartik Tyagi ",
          "Khaleel Ahmed ",
          "Krishnappa Gowtham ",
          "Krunal Pandya ",
          "Kuldeep Sen ",
          "Kuldeep Yadav ",
          "Kuldip Yadav ",
          "Kulwant Khejroliya ",
          "Kumar Kartikeya ",
          "Kunal Singh Rathore ",
          "Kyle Jamieson ",
          "Kyle Mayers ",
          "Lalit Yadav ",
          "Liam Livingstone ",
          "Litton Das ",
          "Lockie Ferguson ",
          "Lungi Ngidi ",
          "MS Dhoni ",
          "Maheesh Theekshana ",
          "Mahipal Lomror ",
          "Manan Vohra ",
          "Mandeep Singh ",
          "Manish Pandey ",
          "Manoj Bhandage ",
          "Marco Jansen ",
          "Marcus Stoinis ",
          "Mark Wood ",
          "Matheesha Pathirana ",
          "Matthew Wade ",
          "Mayank Agarwal ",
          "Mayank Dagar ",
          "Mayank Markande ",
          "Mayank Yadav ",
          "Mitchell Marsh ",
          "Mitchell Santner ",
          "Moeen Ali ",
          "Mohammad Shami ",
          "Mohammed Siraj ",
          "Mohit Rathee ",
          "Mohit Sharma ",
          "Mohsin Khan ",
          "Mukesh Choudhary ",
          "Mukesh Kumar ",
          "Murugan Ashwin ",
          "Mustafizur Rahman ",
          "Narayan Jagadeesan ",
          "Nathan Ellis ",
          "Navdeep Saini ",
          "Naveen-ul-Haq ",
          "Nehal Wadhera ",
          "Nicholas Pooran ",
          "Nishant Sindhu ",
          "Nitish Kumar Reddy ",
          "Nitish Rana ",
          "Noor Ahmad ",
          "Obed McCoy ",
          "Odean Smith ",
          "Philip Salt ",
          "Piyush Chawla ",
          "Prabhsimran Singh ",
          "Pradeep Sangwan ",
          "Prashant Solanki ",
          "Prasidh Krishna ",
          "Pravin Dubey ",
          "Prerak Mankad ",
          "Prithvi Shaw ",
          "Quinton de Kock ",
          "Raghav Goyal ",
          "Rahmanullah Gurbaz ",
          "Rahul Chahar ",
          "Rahul Tewatia ",
          "Rahul Tripathi ",
          "Raj Bawa ",
          "Rajan Kumar ",
          "Rajat Patidar ",
          "Rajvardhan Hangargekar ",
          "Ramandeep Singh ",
          "Rashid Khan ",
          "Ravi Bishnoi ",
          "Ravichandran Ashwin ",
          "Ravindra Jadeja ",
          "Reece Topley ",
          "Rilee Rossouw ",
          "Rinku Singh ",
          "Ripal Patel ",
          "Rishabh Pant ",
          "Rishi Dhawan ",
          "Riyan Parag ",
          "Rohit Sharma ",
          "Romario Shepherd ",
          "Rovman Powell ",
          "Ruturaj Gaikwad ",
          "Sai Kishore ",
          "Sai Sudharsan ",
          "Sam Curran ",
          "Samarth Vyas ",
          "Sanju Samson ",
          "Sanvir Singh ",
          "Sarfaraz Khan ",
          "Shahbaz Ahmed ",
          "Shahrukh Khan ",
          "Shaik Rasheed ",
          "Shakib Al Hasan ",
          "Shams Mulani ",
          "Shardul Thakur ",
          "Shikhar Dhawan ",
          "Shimron Hetmyer ",
          "Shivam Dube ",
          "Shivam Mavi ",
          "Shivam Singh ",
          "Shreyas Iyer ",
          "Shubman Gill ",
          "Siddarth Kaul ",
          "Sikandar Raza ",
          "Simarjeet Singh ",
          "Sonu Yadav ",
          "Srikar Bharat ",
          "Subhranshu Senapati ",
          "Sunil Narine ",
          "Suryakumar Yadav ",
          "Suyash Prabhudessai ",
          "Suyash Sharma ",
          "Swapnil Singh ",
          "T Natarajan ",
          "Tilak Varma ",
          "Tim David ",
          "Tim Southee ",
          "Trent Boult ",
          "Tristan Stubbs ",
          "Tushar Deshpande ",
          "Umesh Yadav ",
          "Umran Malik ",
          "Upendra Yadav ",
          "Urvil Patel ",
          "Vaibhav Arora ",
          "Varun Chakaravarthy ",
          "Venkatesh Iyer ",
          "Vicky Ostwal ",
          "Vidhwath Kaverappa ",
          "Vijay Shankar ",
          "Virat Kohli ",
          "Vishnu Vinod ",
          "Vivrant Sharma ",
          "Wanindu Hasaranga ",
          "Washington Sundar ",
          "Will Jacks ",
          "Wriddhiman Saha ",
          "Yash Dayal ",
          "Yash Dhull ",
          "Yash Thakur ",
          "Yashasvi Jaiswal ",
          "Yudhvir Singh ",
          "Yuzvendra Chahal ",
          "All-Rounder",
          "All-Rounder",
          "All-Rounder",
          "All-Rounder",
          "All-Rounder",
          "All-Rounder",
          "All-Rounder",
          "All-Rounder",
          "All-Rounder",
          "Batter",
          "Batter",
          "Batter",
          "Batter",
          "Batter",
          "Batter",
          "Batter",
          "Batter",
          "Batter",
          "Bowler",
          "Bowler",
          "Bowler",
          "Bowler",
          "Bowler",
          "Bowler",
          "Bowler",
          "Bowler",
          "Bowler",
          "Wicket-Keeper",
          "Wicket-Keeper",
          "Wicket-Keeper",
          "Wicket-Keeper",
          "Wicket-Keeper",
          "Wicket-Keeper",
          "Wicket-Keeper",
          "Wicket-Keeper",
          "Wicket-Keeper",
          "Chennai Super Kings",
          "Delhi Capitals",
          "Gujarat Titans",
          "Lucknow Super Giants",
          "Mumbai Indians",
          "Punjab Kings",
          "Rajasthan Royals",
          "Royal Challengers Bangalore",
          "Sunrisers Hyderabad"
         ],
         "name": "",
         "parents": [
          "Rajasthan Royals/All-Rounder/Abdul Basith ",
          "Chennai Super Kings/All-Rounder/Ajay Mandal ",
          "Royal Challengers Bangalore/Bowler/Akash Deep ",
          "Mumbai Indians/Bowler/Akash Madhwal ",
          "Rajasthan Royals/All-Rounder/Akash Vasisht ",
          "Delhi Capitals/All-Rounder/Aman Khan ",
          "Sunrisers Hyderabad/Batter/Anmolpreet Singh ",
          "Gujarat Titans/All-Rounder/Anukul Roy ",
          "Mumbai Indians/Bowler/Arshad Khan ",
          "Punjab Kings/Batter/Atharva Taide ",
          "Lucknow Super Giants/Batter/Ayush Badoni ",
          "Punjab Kings/Bowler/Baltej Singh ",
          "Chennai Super Kings/All-Rounder/Bhagath Varma ",
          "Gujarat Titans/Bowler/Darshan Nalkande ",
          "Rajasthan Royals/Wicket-Keeper/Dhruv Jurel ",
          "Mumbai Indians/Bowler/Duan Jansen ",
          "Gujarat Titans/Bowler/Harshit Rana ",
          "Royal Challengers Bangalore/Bowler/Himanshu Sharma ",
          "Mumbai Indians/Bowler/Hrithik Shokeen ",
          "Punjab Kings/Wicket-Keeper/Jitesh Sharma ",
          "Lucknow Super Giants/All-Rounder/Karan Sharma ",
          "Rajasthan Royals/Bowler/Kuldeep Sen ",
          "Rajasthan Royals/Bowler/Kuldip Yadav ",
          "Gujarat Titans/Bowler/Kulwant Khejroliya ",
          "Mumbai Indians/Bowler/Kumar Kartikeya ",
          "Rajasthan Royals/Wicket-Keeper/Kunal Singh Rathore ",
          "Lucknow Super Giants/Batter/Manan Vohra ",
          "Royal Challengers Bangalore/All-Rounder/Manoj Bhandage ",
          "Chennai Super Kings/Bowler/Matheesha Pathirana ",
          "Lucknow Super Giants/Bowler/Mayank Yadav ",
          "Punjab Kings/All-Rounder/Mohit Rathee ",
          "Lucknow Super Giants/Bowler/Mohsin Khan ",
          "Chennai Super Kings/Bowler/Mukesh Choudhary ",
          "Rajasthan Royals/Bowler/Murugan Ashwin ",
          "Mumbai Indians/All-Rounder/Nehal Wadhera ",
          "Sunrisers Hyderabad/Wicket-Keeper/Nitish Kumar Reddy ",
          "Gujarat Titans/Bowler/Pradeep Sangwan ",
          "Lucknow Super Giants/All-Rounder/Prerak Mankad ",
          "Mumbai Indians/Bowler/Raghav Goyal ",
          "Royal Challengers Bangalore/Batter/Rajat Patidar ",
          "Mumbai Indians/Batter/Ramandeep Singh ",
          "Delhi Capitals/Batter/Ripal Patel ",
          "Gujarat Titans/Batter/Sai Sudharsan ",
          "Sunrisers Hyderabad/All-Rounder/Samarth Vyas ",
          "Sunrisers Hyderabad/All-Rounder/Sanvir Singh ",
          "Delhi Capitals/Batter/Sarfaraz Khan ",
          "Chennai Super Kings/Batter/Shaik Rasheed ",
          "Mumbai Indians/All-Rounder/Shams Mulani ",
          "Punjab Kings/All-Rounder/Shivam Singh ",
          "Chennai Super Kings/Bowler/Simarjeet Singh ",
          "Royal Challengers Bangalore/All-Rounder/Sonu Yadav ",
          "Chennai Super Kings/Batter/Subhranshu Senapati ",
          "Gujarat Titans/Bowler/Suyash Sharma ",
          "Lucknow Super Giants/All-Rounder/Swapnil Singh ",
          "Mumbai Indians/Batter/Tristan Stubbs ",
          "Chennai Super Kings/Bowler/Tushar Deshpande ",
          "Gujarat Titans/Wicket-Keeper/Urvil Patel ",
          "Delhi Capitals/Bowler/Vicky Ostwal ",
          "Punjab Kings/Bowler/Vidhwath Kaverappa ",
          "Mumbai Indians/Wicket-Keeper/Vishnu Vinod ",
          "Lucknow Super Giants/All-Rounder/Yudhvir Singh ",
          "Sunrisers Hyderabad/Wicket-Keeper/Upendra Yadav ",
          "Mumbai Indians/Bowler/Arjun Tendulkar ",
          "Rajasthan Royals/Bowler/KC Cariappa ",
          "Rajasthan Royals/Bowler/KM Asif ",
          "Gujarat Titans/Bowler/Noor Ahmad ",
          "Royal Challengers Bangalore/Batter/Suyash Prabhudessai ",
          "Punjab Kings/Batter/Harpreet Singh Bhatia ",
          "Lucknow Super Giants/Bowler/Yash Thakur ",
          "Chennai Super Kings/Batter/Ajinkya Rahane ",
          "Lucknow Super Giants/Bowler/Amit Mishra ",
          "Punjab Kings/Batter/Bhanuka Rajapaksa ",
          "Rajasthan Royals/Wicket-Keeper/D Ferreira ",
          "Chennai Super Kings/All-Rounder/Dwaine Pretorius ",
          "Sunrisers Hyderabad/Bowler/Fazalhaq Farooqi ",
          "Delhi Capitals/Bowler/Ishant Sharma ",
          "Lucknow Super Giants/Bowler/Jaydev Unadkat ",
          "Royal Challengers Bangalore/Bowler/Karn Sharma ",
          "Lucknow Super Giants/Batter/Kyle Mayers ",
          "Gujarat Titans/Wicket-Keeper/Litton Das ",
          "Delhi Capitals/Bowler/Lungi Ngidi ",
          "Gujarat Titans/Batter/Mandeep Singh ",
          "Sunrisers Hyderabad/Bowler/Mayank Markande ",
          "Gujarat Titans/Bowler/Mohit Sharma ",
          "Lucknow Super Giants/Bowler/Naveen-ul-Haq ",
          "Gujarat Titans/All-Rounder/Odean Smith ",
          "Mumbai Indians/Bowler/Piyush Chawla ",
          "Delhi Capitals/Bowler/Pravin Dubey ",
          "Gujarat Titans/Wicket-Keeper/Rahmanullah Gurbaz ",
          "Lucknow Super Giants/All-Rounder/Romario Shepherd ",
          "Punjab Kings/All-Rounder/Sikandar Raza ",
          "Delhi Capitals/Batter/Yash Dhull ",
          "Gujarat Titans/Batter/Rinku Singh ",
          "Punjab Kings/All-Rounder/Rishi Dhawan ",
          "Royal Challengers Bangalore/Bowler/Avinash Singh ",
          "Chennai Super Kings/All-Rounder/Nishant Sindhu ",
          "Punjab Kings/Wicket-Keeper/Prabhsimran Singh ",
          "Gujarat Titans/Bowler/Vaibhav Arora ",
          "Delhi Capitals/All-Rounder/Lalit Yadav ",
          "Chennai Super Kings/Bowler/Maheesh Theekshana ",
          "Royal Challengers Bangalore/Bowler/Rajan Kumar ",
          "Lucknow Super Giants/All-Rounder/Daniel Sams ",
          "Mumbai Indians/Bowler/Jason Behrendorff ",
          "Punjab Kings/Bowler/Nathan Ellis ",
          "Rajasthan Royals/Bowler/Obed McCoy ",
          "Royal Challengers Bangalore/Bowler/Siddarth Kaul ",
          "Royal Challengers Bangalore/Batter/Finn Allen ",
          "Lucknow Super Giants/All-Rounder/Krishnappa Gowtham ",
          "Gujarat Titans/Wicket-Keeper/Narayan Jagadeesan ",
          "Royal Challengers Bangalore/All-Rounder/Mahipal Lomror ",
          "Sunrisers Hyderabad/Bowler/Akeal Hosein ",
          "Gujarat Titans/All-Rounder/David Wiese ",
          "Chennai Super Kings/Batter/Devon Conway ",
          "Rajasthan Royals/Batter/Joe Root ",
          "Chennai Super Kings/Bowler/Kyle Jamieson ",
          "Delhi Capitals/Bowler/Kamlesh Nagarkoti ",
          "Chennai Super Kings/Bowler/Prashant Solanki ",
          "Gujarat Titans/Wicket-Keeper/Srikar Bharat ",
          "Gujarat Titans/All-Rounder/Vijay Shankar ",
          "Rajasthan Royals/Bowler/Adam Zampa ",
          "Sunrisers Hyderabad/Wicket-Keeper/Glenn Phillips ",
          "Mumbai Indians/Bowler/Jhye Richardson ",
          "Chennai Super Kings/Bowler/Rajvardhan Hangargekar ",
          "Gujarat Titans/All-Rounder/Shakib Al Hasan ",
          "Gujarat Titans/Bowler/Tim Southee ",
          "Gujarat Titans/Bowler/Jayant Yadav ",
          "Mumbai Indians/Batter/Tilak Varma ",
          "Sunrisers Hyderabad/All-Rounder/Mayank Dagar ",
          "Chennai Super Kings/All-Rounder/Mitchell Santner ",
          "Royal Challengers Bangalore/Bowler/Reece Topley ",
          "Gujarat Titans/Wicket-Keeper/Wriddhiman Saha ",
          "Sunrisers Hyderabad/Bowler/Adil Rashid ",
          "Royal Challengers Bangalore/Bowler/David Willey ",
          "Gujarat Titans/Batter/Kane Williamson ",
          "Delhi Capitals/Bowler/Kuldeep Yadav ",
          "Delhi Capitals/Bowler/Mustafizur Rahman ",
          "Delhi Capitals/Wicket-Keeper/Philip Salt ",
          "Punjab Kings/All-Rounder/Raj Bawa ",
          "Gujarat Titans/Bowler/Umesh Yadav ",
          "Gujarat Titans/Bowler/Alzarri Joseph ",
          "Delhi Capitals/Batter/Manish Pandey ",
          "Gujarat Titans/Wicket-Keeper/Matthew Wade ",
          "Royal Challengers Bangalore/All-Rounder/Shahbaz Ahmed ",
          "Gujarat Titans/Batter/Abhinav Manohar ",
          "Sunrisers Hyderabad/Batter/Aiden Markram ",
          "Rajasthan Royals/Bowler/Navdeep Saini ",
          "Sunrisers Hyderabad/All-Rounder/Vivrant Sharma ",
          "Delhi Capitals/Batter/Rovman Powell ",
          "Gujarat Titans/Batter/David Miller ",
          "Mumbai Indians/All-Rounder/Dewald Brevis ",
          "Gujarat Titans/All-Rounder/Sai Kishore ",
          "Royal Challengers Bangalore/Batter/Will Jacks ",
          "Gujarat Titans/Bowler/Yash Dayal ",
          "Royal Challengers Bangalore/Wicket-Keeper/Anuj Rawat ",
          "Punjab Kings/Bowler/Harpreet Brar ",
          "Rajasthan Royals/Batter/Riyan Parag ",
          "Sunrisers Hyderabad/Batter/Abdul Samad ",
          "Punjab Kings/Bowler/Arshdeep Singh ",
          "Sunrisers Hyderabad/Bowler/Kartik Tyagi ",
          "Lucknow Super Giants/Bowler/Ravi Bishnoi ",
          "Chennai Super Kings/All-Rounder/Shivam Dube ",
          "Sunrisers Hyderabad/Bowler/T Natarajan ",
          "Sunrisers Hyderabad/Bowler/Umran Malik ",
          "Rajasthan Royals/Batter/Yashasvi Jaiswal ",
          "Sunrisers Hyderabad/Bowler/Bhuvneshwar Kumar ",
          "Delhi Capitals/Bowler/Chetan Sakariya ",
          "Sunrisers Hyderabad/Bowler/Marco Jansen ",
          "Gujarat Titans/Bowler/Josh Little ",
          "Delhi Capitals/Batter/Rilee Rossouw ",
          "Rajasthan Royals/All-Rounder/Ravichandran Ashwin ",
          "Sunrisers Hyderabad/Wicket-Keeper/Heinrich Klaasen ",
          "Delhi Capitals/Bowler/Khaleel Ahmed ",
          "Punjab Kings/Bowler/Rahul Chahar ",
          "Royal Challengers Bangalore/Wicket-Keeper/Dinesh Karthik ",
          "Delhi Capitals/Bowler/Mukesh Kumar ",
          "Lucknow Super Giants/All-Rounder/Deepak Hooda ",
          "Rajasthan Royals/All-Rounder/Jason Holder ",
          "Chennai Super Kings/Batter/Ruturaj Gaikwad ",
          "Gujarat Titans/Bowler/Shivam Mavi ",
          "Gujarat Titans/All-Rounder/Sunil Narine ",
          "Delhi Capitals/Batter/David Warner ",
          "Gujarat Titans/Bowler/Mohammad Shami ",
          "Sunrisers Hyderabad/All-Rounder/Abhishek Sharma ",
          "Delhi Capitals/Bowler/Anrich Nortje ",
          "Delhi Capitals/All-Rounder/Mitchell Marsh ",
          "Rajasthan Royals/Bowler/Yuzvendra Chahal ",
          "Chennai Super Kings/Batter/Ambati Rayudu ",
          "Punjab Kings/Wicket-Keeper/Jonny Bairstow ",
          "Lucknow Super Giants/Wicket-Keeper/Quinton de Kock ",
          "Royal Challengers Bangalore/Batter/Faf du Plessis ",
          "Royal Challengers Bangalore/Bowler/Mohammed Siraj ",
          "Lucknow Super Giants/Bowler/Mark Wood ",
          "Rajasthan Royals/Batter/Devdutt Padikkal ",
          "Royal Challengers Bangalore/Bowler/Josh Hazlewood ",
          "Mumbai Indians/Bowler/Jofra Archer ",
          "Chennai Super Kings/All-Rounder/Moeen Ali ",
          "Gujarat Titans/Batter/Nitish Rana ",
          "Delhi Capitals/Batter/Prithvi Shaw ",
          "Gujarat Titans/Batter/Shubman Gill ",
          "Mumbai Indians/Batter/Suryakumar Yadav ",
          "Rajasthan Royals/Bowler/Trent Boult ",
          "Gujarat Titans/All-Rounder/Venkatesh Iyer ",
          "Lucknow Super Giants/All-Rounder/Krunal Pandya ",
          "Sunrisers Hyderabad/Batter/Mayank Agarwal ",
          "Punjab Kings/Batter/Shikhar Dhawan ",
          "Mumbai Indians/Batter/Tim David ",
          "Sunrisers Hyderabad/Batter/Rahul Tripathi ",
          "Rajasthan Royals/Batter/Shimron Hetmyer ",
          "Sunrisers Hyderabad/All-Rounder/Washington Sundar ",
          "Gujarat Titans/All-Rounder/Rahul Tewatia ",
          "Punjab Kings/Batter/Shahrukh Khan ",
          "Punjab Kings/Bowler/Kagiso Rabada ",
          "Lucknow Super Giants/Bowler/Avesh Khan ",
          "Rajasthan Royals/Wicket-Keeper/Jos Buttler ",
          "Gujarat Titans/Bowler/Lockie Ferguson ",
          "Lucknow Super Giants/All-Rounder/Marcus Stoinis ",
          "Rajasthan Royals/Bowler/Prasidh Krishna ",
          "Royal Challengers Bangalore/Bowler/Harshal Patel ",
          "Gujarat Titans/Bowler/Shardul Thakur ",
          "Royal Challengers Bangalore/All-Rounder/Wanindu Hasaranga ",
          "Royal Challengers Bangalore/All-Rounder/Glenn Maxwell ",
          "Punjab Kings/All-Rounder/Liam Livingstone ",
          "Delhi Capitals/All-Rounder/Axar Patel ",
          "Mumbai Indians/Bowler/Jasprit Bumrah ",
          "Chennai Super Kings/Wicket-Keeper/MS Dhoni ",
          "Gujarat Titans/Bowler/Varun Chakaravarthy ",
          "Gujarat Titans/Batter/Shreyas Iyer ",
          "Sunrisers Hyderabad/Batter/Harry Brook ",
          "Chennai Super Kings/Bowler/Deepak Chahar ",
          "Rajasthan Royals/Wicket-Keeper/Sanju Samson ",
          "Gujarat Titans/All-Rounder/Hardik Pandya ",
          "Gujarat Titans/Bowler/Rashid Khan ",
          "Royal Challengers Bangalore/Batter/Virat Kohli ",
          "Mumbai Indians/Wicket-Keeper/Ishan Kishan ",
          "Gujarat Titans/All-Rounder/Andre Russell ",
          "Lucknow Super Giants/Wicket-Keeper/Nicholas Pooran ",
          "Chennai Super Kings/All-Rounder/Ravindra Jadeja ",
          "Delhi Capitals/Wicket-Keeper/Rishabh Pant ",
          "Mumbai Indians/Batter/Rohit Sharma ",
          "Chennai Super Kings/All-Rounder/Ben Stokes ",
          "Lucknow Super Giants/Batter/KL Rahul ",
          "Mumbai Indians/All-Rounder/Cameron Green ",
          "Punjab Kings/All-Rounder/Sam Curran ",
          "Rajasthan Royals/All-Rounder",
          "Sunrisers Hyderabad/Batter",
          "Gujarat Titans/Batter",
          "Sunrisers Hyderabad/All-Rounder",
          "Rajasthan Royals/Bowler",
          "Sunrisers Hyderabad/Bowler",
          "Sunrisers Hyderabad/Batter",
          "Chennai Super Kings/All-Rounder",
          "Chennai Super Kings/Batter",
          "Royal Challengers Bangalore/Bowler",
          "Mumbai Indians/Bowler",
          "Rajasthan Royals/All-Rounder",
          "Sunrisers Hyderabad/Bowler",
          "Gujarat Titans/Bowler",
          "Delhi Capitals/All-Rounder",
          "Chennai Super Kings/Batter",
          "Lucknow Super Giants/Bowler",
          "Gujarat Titans/All-Rounder",
          "Sunrisers Hyderabad/Batter",
          "Delhi Capitals/Bowler",
          "Royal Challengers Bangalore/Wicket-Keeper",
          "Gujarat Titans/All-Rounder",
          "Mumbai Indians/Bowler",
          "Mumbai Indians/Bowler",
          "Punjab Kings/Bowler",
          "Punjab Kings/Batter",
          "Lucknow Super Giants/Bowler",
          "Royal Challengers Bangalore/Bowler",
          "Delhi Capitals/All-Rounder",
          "Lucknow Super Giants/Batter",
          "Punjab Kings/Bowler",
          "Chennai Super Kings/All-Rounder",
          "Chennai Super Kings/All-Rounder",
          "Punjab Kings/Batter",
          "Sunrisers Hyderabad/Bowler",
          "Mumbai Indians/All-Rounder",
          "Delhi Capitals/Bowler",
          "Rajasthan Royals/Wicket-Keeper",
          "Lucknow Super Giants/All-Rounder",
          "Gujarat Titans/Bowler",
          "Gujarat Titans/Batter",
          "Delhi Capitals/Batter",
          "Gujarat Titans/All-Rounder",
          "Royal Challengers Bangalore/Bowler",
          "Chennai Super Kings/Bowler",
          "Lucknow Super Giants/All-Rounder",
          "Rajasthan Royals/Batter",
          "Chennai Super Kings/Batter",
          "Mumbai Indians/All-Rounder",
          "Rajasthan Royals/Wicket-Keeper",
          "Royal Challengers Bangalore/Wicket-Keeper",
          "Mumbai Indians/Bowler",
          "Chennai Super Kings/All-Rounder",
          "Royal Challengers Bangalore/Batter",
          "Sunrisers Hyderabad/Bowler",
          "Royal Challengers Bangalore/Batter",
          "Royal Challengers Bangalore/All-Rounder",
          "Sunrisers Hyderabad/Wicket-Keeper",
          "Gujarat Titans/All-Rounder",
          "Punjab Kings/Bowler",
          "Punjab Kings/Batter",
          "Sunrisers Hyderabad/Batter",
          "Royal Challengers Bangalore/Bowler",
          "Gujarat Titans/Bowler",
          "Sunrisers Hyderabad/Wicket-Keeper",
          "Royal Challengers Bangalore/Bowler",
          "Mumbai Indians/Bowler",
          "Mumbai Indians/Wicket-Keeper",
          "Delhi Capitals/Bowler",
          "Mumbai Indians/Bowler",
          "Rajasthan Royals/All-Rounder",
          "Mumbai Indians/Bowler",
          "Gujarat Titans/Bowler",
          "Lucknow Super Giants/Bowler",
          "Mumbai Indians/Bowler",
          "Punjab Kings/Wicket-Keeper",
          "Rajasthan Royals/Batter",
          "Mumbai Indians/Bowler",
          "Punjab Kings/Wicket-Keeper",
          "Rajasthan Royals/Wicket-Keeper",
          "Royal Challengers Bangalore/Bowler",
          "Gujarat Titans/Bowler",
          "Rajasthan Royals/Bowler",
          "Lucknow Super Giants/Batter",
          "Rajasthan Royals/Bowler",
          "Punjab Kings/Bowler",
          "Delhi Capitals/Bowler",
          "Gujarat Titans/Batter",
          "Lucknow Super Giants/All-Rounder",
          "Royal Challengers Bangalore/Bowler",
          "Sunrisers Hyderabad/Bowler",
          "Delhi Capitals/Bowler",
          "Lucknow Super Giants/All-Rounder",
          "Lucknow Super Giants/All-Rounder",
          "Rajasthan Royals/Bowler",
          "Delhi Capitals/Bowler",
          "Rajasthan Royals/Bowler",
          "Gujarat Titans/Bowler",
          "Mumbai Indians/Bowler",
          "Rajasthan Royals/Wicket-Keeper",
          "Chennai Super Kings/Bowler",
          "Lucknow Super Giants/Batter",
          "Delhi Capitals/All-Rounder",
          "Punjab Kings/All-Rounder",
          "Gujarat Titans/Wicket-Keeper",
          "Gujarat Titans/Bowler",
          "Delhi Capitals/Bowler",
          "Chennai Super Kings/Wicket-Keeper",
          "Chennai Super Kings/Bowler",
          "Royal Challengers Bangalore/All-Rounder",
          "Lucknow Super Giants/Batter",
          "Gujarat Titans/Batter",
          "Delhi Capitals/Batter",
          "Royal Challengers Bangalore/All-Rounder",
          "Sunrisers Hyderabad/Bowler",
          "Lucknow Super Giants/All-Rounder",
          "Lucknow Super Giants/Bowler",
          "Chennai Super Kings/Bowler",
          "Gujarat Titans/Wicket-Keeper",
          "Sunrisers Hyderabad/Batter",
          "Sunrisers Hyderabad/All-Rounder",
          "Sunrisers Hyderabad/Bowler",
          "Lucknow Super Giants/Bowler",
          "Delhi Capitals/All-Rounder",
          "Chennai Super Kings/All-Rounder",
          "Chennai Super Kings/All-Rounder",
          "Gujarat Titans/Bowler",
          "Royal Challengers Bangalore/Bowler",
          "Punjab Kings/All-Rounder",
          "Gujarat Titans/Bowler",
          "Lucknow Super Giants/Bowler",
          "Chennai Super Kings/Bowler",
          "Delhi Capitals/Bowler",
          "Rajasthan Royals/Bowler",
          "Delhi Capitals/Bowler",
          "Gujarat Titans/Wicket-Keeper",
          "Punjab Kings/Bowler",
          "Rajasthan Royals/Bowler",
          "Lucknow Super Giants/Bowler",
          "Mumbai Indians/All-Rounder",
          "Lucknow Super Giants/Wicket-Keeper",
          "Chennai Super Kings/All-Rounder",
          "Sunrisers Hyderabad/Wicket-Keeper",
          "Gujarat Titans/Batter",
          "Gujarat Titans/Bowler",
          "Rajasthan Royals/Bowler",
          "Gujarat Titans/All-Rounder",
          "Delhi Capitals/Wicket-Keeper",
          "Mumbai Indians/Bowler",
          "Punjab Kings/Wicket-Keeper",
          "Gujarat Titans/Bowler",
          "Chennai Super Kings/Bowler",
          "Rajasthan Royals/Bowler",
          "Delhi Capitals/Bowler",
          "Lucknow Super Giants/All-Rounder",
          "Delhi Capitals/Batter",
          "Lucknow Super Giants/Wicket-Keeper",
          "Mumbai Indians/Bowler",
          "Gujarat Titans/Wicket-Keeper",
          "Punjab Kings/Bowler",
          "Gujarat Titans/All-Rounder",
          "Sunrisers Hyderabad/Batter",
          "Punjab Kings/All-Rounder",
          "Royal Challengers Bangalore/Bowler",
          "Royal Challengers Bangalore/Batter",
          "Chennai Super Kings/Bowler",
          "Mumbai Indians/Batter",
          "Gujarat Titans/Bowler",
          "Lucknow Super Giants/Bowler",
          "Rajasthan Royals/All-Rounder",
          "Chennai Super Kings/All-Rounder",
          "Royal Challengers Bangalore/Bowler",
          "Delhi Capitals/Batter",
          "Gujarat Titans/Batter",
          "Delhi Capitals/Batter",
          "Delhi Capitals/Wicket-Keeper",
          "Punjab Kings/All-Rounder",
          "Rajasthan Royals/Batter",
          "Mumbai Indians/Batter",
          "Lucknow Super Giants/All-Rounder",
          "Delhi Capitals/Batter",
          "Chennai Super Kings/Batter",
          "Gujarat Titans/All-Rounder",
          "Gujarat Titans/Batter",
          "Punjab Kings/All-Rounder",
          "Sunrisers Hyderabad/All-Rounder",
          "Rajasthan Royals/Wicket-Keeper",
          "Sunrisers Hyderabad/All-Rounder",
          "Delhi Capitals/Batter",
          "Royal Challengers Bangalore/All-Rounder",
          "Punjab Kings/Batter",
          "Chennai Super Kings/Batter",
          "Gujarat Titans/All-Rounder",
          "Mumbai Indians/All-Rounder",
          "Gujarat Titans/Bowler",
          "Punjab Kings/Batter",
          "Rajasthan Royals/Batter",
          "Chennai Super Kings/All-Rounder",
          "Gujarat Titans/Bowler",
          "Punjab Kings/All-Rounder",
          "Gujarat Titans/Batter",
          "Gujarat Titans/Batter",
          "Royal Challengers Bangalore/Bowler",
          "Punjab Kings/All-Rounder",
          "Chennai Super Kings/Bowler",
          "Royal Challengers Bangalore/All-Rounder",
          "Gujarat Titans/Wicket-Keeper",
          "Chennai Super Kings/Batter",
          "Gujarat Titans/All-Rounder",
          "Mumbai Indians/Batter",
          "Royal Challengers Bangalore/Batter",
          "Gujarat Titans/Bowler",
          "Lucknow Super Giants/All-Rounder",
          "Sunrisers Hyderabad/Bowler",
          "Mumbai Indians/Batter",
          "Mumbai Indians/Batter",
          "Gujarat Titans/Bowler",
          "Rajasthan Royals/Bowler",
          "Mumbai Indians/Batter",
          "Chennai Super Kings/Bowler",
          "Gujarat Titans/Bowler",
          "Sunrisers Hyderabad/Bowler",
          "Sunrisers Hyderabad/Wicket-Keeper",
          "Gujarat Titans/Wicket-Keeper",
          "Gujarat Titans/Bowler",
          "Gujarat Titans/Bowler",
          "Gujarat Titans/All-Rounder",
          "Delhi Capitals/Bowler",
          "Punjab Kings/Bowler",
          "Gujarat Titans/All-Rounder",
          "Royal Challengers Bangalore/Batter",
          "Mumbai Indians/Wicket-Keeper",
          "Sunrisers Hyderabad/All-Rounder",
          "Royal Challengers Bangalore/All-Rounder",
          "Sunrisers Hyderabad/All-Rounder",
          "Royal Challengers Bangalore/Batter",
          "Gujarat Titans/Wicket-Keeper",
          "Gujarat Titans/Bowler",
          "Delhi Capitals/Batter",
          "Lucknow Super Giants/Bowler",
          "Rajasthan Royals/Batter",
          "Lucknow Super Giants/All-Rounder",
          "Rajasthan Royals/Bowler",
          "Chennai Super Kings",
          "Delhi Capitals",
          "Gujarat Titans",
          "Lucknow Super Giants",
          "Mumbai Indians",
          "Punjab Kings",
          "Rajasthan Royals",
          "Royal Challengers Bangalore",
          "Sunrisers Hyderabad",
          "Chennai Super Kings",
          "Delhi Capitals",
          "Gujarat Titans",
          "Lucknow Super Giants",
          "Mumbai Indians",
          "Punjab Kings",
          "Rajasthan Royals",
          "Royal Challengers Bangalore",
          "Sunrisers Hyderabad",
          "Chennai Super Kings",
          "Delhi Capitals",
          "Gujarat Titans",
          "Lucknow Super Giants",
          "Mumbai Indians",
          "Punjab Kings",
          "Rajasthan Royals",
          "Royal Challengers Bangalore",
          "Sunrisers Hyderabad",
          "Chennai Super Kings",
          "Delhi Capitals",
          "Gujarat Titans",
          "Lucknow Super Giants",
          "Mumbai Indians",
          "Punjab Kings",
          "Rajasthan Royals",
          "Royal Challengers Bangalore",
          "Sunrisers Hyderabad",
          "",
          "",
          "",
          "",
          "",
          "",
          "",
          "",
          ""
         ],
         "type": "sunburst",
         "values": [
          1,
          1,
          1,
          1,
          1,
          1,
          1,
          1,
          1,
          1,
          1,
          1,
          1,
          1,
          1,
          1,
          1,
          1,
          1,
          1,
          1,
          1,
          1,
          1,
          1,
          1,
          1,
          1,
          1,
          1,
          1,
          1,
          1,
          1,
          1,
          1,
          1,
          1,
          1,
          1,
          1,
          1,
          1,
          1,
          1,
          1,
          1,
          1,
          1,
          1,
          1,
          1,
          1,
          1,
          1,
          1,
          1,
          1,
          1,
          1,
          1,
          1,
          1,
          1,
          1,
          1,
          1,
          1,
          1,
          1,
          1,
          1,
          1,
          1,
          1,
          1,
          1,
          1,
          1,
          1,
          1,
          1,
          1,
          1,
          1,
          1,
          1,
          1,
          1,
          1,
          1,
          1,
          1,
          1,
          1,
          1,
          1,
          1,
          1,
          1,
          1,
          1,
          1,
          1,
          1,
          1,
          1,
          1,
          1,
          1,
          1,
          1,
          1,
          1,
          1,
          1,
          1,
          1,
          1,
          1,
          1,
          1,
          1,
          1,
          1,
          1,
          1,
          1,
          1,
          1,
          1,
          1,
          1,
          1,
          1,
          1,
          1,
          1,
          1,
          1,
          1,
          1,
          1,
          1,
          1,
          1,
          1,
          1,
          1,
          1,
          1,
          1,
          1,
          1,
          1,
          1,
          1,
          1,
          1,
          1,
          1,
          1,
          1,
          1,
          1,
          1,
          1,
          1,
          1,
          1,
          1,
          1,
          1,
          1,
          1,
          1,
          1,
          1,
          1,
          1,
          1,
          1,
          1,
          1,
          1,
          1,
          1,
          1,
          1,
          1,
          1,
          1,
          1,
          1,
          1,
          1,
          1,
          1,
          1,
          1,
          1,
          1,
          1,
          1,
          1,
          1,
          1,
          1,
          1,
          1,
          1,
          1,
          1,
          1,
          1,
          1,
          1,
          1,
          1,
          1,
          1,
          1,
          1,
          1,
          1,
          1,
          1,
          1,
          1,
          1,
          1,
          1,
          1,
          1,
          1,
          1,
          1,
          1,
          1,
          1,
          1,
          1,
          1,
          1,
          1,
          1,
          1,
          1,
          1,
          1,
          1,
          1,
          1,
          1,
          1,
          1,
          1,
          1,
          1,
          1,
          1,
          1,
          1,
          1,
          1,
          1,
          1,
          1,
          1,
          1,
          1,
          1,
          1,
          1,
          1,
          1,
          1,
          1,
          1,
          1,
          1,
          1,
          1,
          1,
          1,
          1,
          1,
          1,
          1,
          1,
          1,
          1,
          1,
          1,
          1,
          1,
          1,
          1,
          1,
          1,
          1,
          1,
          1,
          1,
          1,
          1,
          1,
          1,
          1,
          1,
          1,
          1,
          1,
          1,
          1,
          1,
          1,
          1,
          1,
          1,
          1,
          1,
          1,
          1,
          1,
          1,
          1,
          1,
          1,
          1,
          1,
          1,
          1,
          1,
          1,
          1,
          1,
          1,
          1,
          1,
          1,
          1,
          1,
          1,
          1,
          1,
          1,
          1,
          1,
          1,
          1,
          1,
          1,
          1,
          1,
          1,
          1,
          1,
          1,
          1,
          1,
          1,
          1,
          1,
          1,
          1,
          1,
          1,
          1,
          1,
          1,
          1,
          1,
          1,
          1,
          1,
          1,
          1,
          1,
          1,
          1,
          1,
          1,
          1,
          1,
          1,
          1,
          1,
          1,
          1,
          1,
          1,
          1,
          1,
          1,
          1,
          1,
          1,
          1,
          1,
          1,
          1,
          1,
          1,
          1,
          1,
          1,
          1,
          1,
          1,
          1,
          1,
          1,
          1,
          1,
          1,
          1,
          1,
          1,
          1,
          1,
          1,
          1,
          1,
          1,
          1,
          1,
          1,
          1,
          1,
          1,
          1,
          1,
          1,
          1,
          1,
          1,
          1,
          1,
          1,
          1,
          1,
          1,
          1,
          1,
          1,
          1,
          1,
          1,
          1,
          1,
          1,
          1,
          1,
          1,
          1,
          1,
          1,
          1,
          1,
          1,
          1,
          1,
          1,
          1,
          1,
          1,
          1,
          1,
          1,
          1,
          1,
          1,
          1,
          1,
          1,
          1,
          1,
          1,
          1,
          1,
          1,
          1,
          1,
          1,
          1,
          9,
          4,
          11,
          10,
          4,
          7,
          4,
          6,
          6,
          6,
          8,
          9,
          4,
          6,
          5,
          5,
          6,
          6,
          9,
          11,
          20,
          9,
          12,
          7,
          11,
          11,
          9,
          1,
          2,
          7,
          2,
          2,
          3,
          5,
          2,
          4,
          25,
          25,
          47,
          25,
          24,
          22,
          25,
          25,
          25
         ]
        }
       ],
       "layout": {
        "height": 1000,
        "legend": {
         "tracegroupgap": 0
        },
        "template": {
         "data": {
          "bar": [
           {
            "error_x": {
             "color": "#2a3f5f"
            },
            "error_y": {
             "color": "#2a3f5f"
            },
            "marker": {
             "line": {
              "color": "#E5ECF6",
              "width": 0.5
             },
             "pattern": {
              "fillmode": "overlay",
              "size": 10,
              "solidity": 0.2
             }
            },
            "type": "bar"
           }
          ],
          "barpolar": [
           {
            "marker": {
             "line": {
              "color": "#E5ECF6",
              "width": 0.5
             },
             "pattern": {
              "fillmode": "overlay",
              "size": 10,
              "solidity": 0.2
             }
            },
            "type": "barpolar"
           }
          ],
          "carpet": [
           {
            "aaxis": {
             "endlinecolor": "#2a3f5f",
             "gridcolor": "white",
             "linecolor": "white",
             "minorgridcolor": "white",
             "startlinecolor": "#2a3f5f"
            },
            "baxis": {
             "endlinecolor": "#2a3f5f",
             "gridcolor": "white",
             "linecolor": "white",
             "minorgridcolor": "white",
             "startlinecolor": "#2a3f5f"
            },
            "type": "carpet"
           }
          ],
          "choropleth": [
           {
            "colorbar": {
             "outlinewidth": 0,
             "ticks": ""
            },
            "type": "choropleth"
           }
          ],
          "contour": [
           {
            "colorbar": {
             "outlinewidth": 0,
             "ticks": ""
            },
            "colorscale": [
             [
              0,
              "#0d0887"
             ],
             [
              0.1111111111111111,
              "#46039f"
             ],
             [
              0.2222222222222222,
              "#7201a8"
             ],
             [
              0.3333333333333333,
              "#9c179e"
             ],
             [
              0.4444444444444444,
              "#bd3786"
             ],
             [
              0.5555555555555556,
              "#d8576b"
             ],
             [
              0.6666666666666666,
              "#ed7953"
             ],
             [
              0.7777777777777778,
              "#fb9f3a"
             ],
             [
              0.8888888888888888,
              "#fdca26"
             ],
             [
              1,
              "#f0f921"
             ]
            ],
            "type": "contour"
           }
          ],
          "contourcarpet": [
           {
            "colorbar": {
             "outlinewidth": 0,
             "ticks": ""
            },
            "type": "contourcarpet"
           }
          ],
          "heatmap": [
           {
            "colorbar": {
             "outlinewidth": 0,
             "ticks": ""
            },
            "colorscale": [
             [
              0,
              "#0d0887"
             ],
             [
              0.1111111111111111,
              "#46039f"
             ],
             [
              0.2222222222222222,
              "#7201a8"
             ],
             [
              0.3333333333333333,
              "#9c179e"
             ],
             [
              0.4444444444444444,
              "#bd3786"
             ],
             [
              0.5555555555555556,
              "#d8576b"
             ],
             [
              0.6666666666666666,
              "#ed7953"
             ],
             [
              0.7777777777777778,
              "#fb9f3a"
             ],
             [
              0.8888888888888888,
              "#fdca26"
             ],
             [
              1,
              "#f0f921"
             ]
            ],
            "type": "heatmap"
           }
          ],
          "heatmapgl": [
           {
            "colorbar": {
             "outlinewidth": 0,
             "ticks": ""
            },
            "colorscale": [
             [
              0,
              "#0d0887"
             ],
             [
              0.1111111111111111,
              "#46039f"
             ],
             [
              0.2222222222222222,
              "#7201a8"
             ],
             [
              0.3333333333333333,
              "#9c179e"
             ],
             [
              0.4444444444444444,
              "#bd3786"
             ],
             [
              0.5555555555555556,
              "#d8576b"
             ],
             [
              0.6666666666666666,
              "#ed7953"
             ],
             [
              0.7777777777777778,
              "#fb9f3a"
             ],
             [
              0.8888888888888888,
              "#fdca26"
             ],
             [
              1,
              "#f0f921"
             ]
            ],
            "type": "heatmapgl"
           }
          ],
          "histogram": [
           {
            "marker": {
             "pattern": {
              "fillmode": "overlay",
              "size": 10,
              "solidity": 0.2
             }
            },
            "type": "histogram"
           }
          ],
          "histogram2d": [
           {
            "colorbar": {
             "outlinewidth": 0,
             "ticks": ""
            },
            "colorscale": [
             [
              0,
              "#0d0887"
             ],
             [
              0.1111111111111111,
              "#46039f"
             ],
             [
              0.2222222222222222,
              "#7201a8"
             ],
             [
              0.3333333333333333,
              "#9c179e"
             ],
             [
              0.4444444444444444,
              "#bd3786"
             ],
             [
              0.5555555555555556,
              "#d8576b"
             ],
             [
              0.6666666666666666,
              "#ed7953"
             ],
             [
              0.7777777777777778,
              "#fb9f3a"
             ],
             [
              0.8888888888888888,
              "#fdca26"
             ],
             [
              1,
              "#f0f921"
             ]
            ],
            "type": "histogram2d"
           }
          ],
          "histogram2dcontour": [
           {
            "colorbar": {
             "outlinewidth": 0,
             "ticks": ""
            },
            "colorscale": [
             [
              0,
              "#0d0887"
             ],
             [
              0.1111111111111111,
              "#46039f"
             ],
             [
              0.2222222222222222,
              "#7201a8"
             ],
             [
              0.3333333333333333,
              "#9c179e"
             ],
             [
              0.4444444444444444,
              "#bd3786"
             ],
             [
              0.5555555555555556,
              "#d8576b"
             ],
             [
              0.6666666666666666,
              "#ed7953"
             ],
             [
              0.7777777777777778,
              "#fb9f3a"
             ],
             [
              0.8888888888888888,
              "#fdca26"
             ],
             [
              1,
              "#f0f921"
             ]
            ],
            "type": "histogram2dcontour"
           }
          ],
          "mesh3d": [
           {
            "colorbar": {
             "outlinewidth": 0,
             "ticks": ""
            },
            "type": "mesh3d"
           }
          ],
          "parcoords": [
           {
            "line": {
             "colorbar": {
              "outlinewidth": 0,
              "ticks": ""
             }
            },
            "type": "parcoords"
           }
          ],
          "pie": [
           {
            "automargin": true,
            "type": "pie"
           }
          ],
          "scatter": [
           {
            "fillpattern": {
             "fillmode": "overlay",
             "size": 10,
             "solidity": 0.2
            },
            "type": "scatter"
           }
          ],
          "scatter3d": [
           {
            "line": {
             "colorbar": {
              "outlinewidth": 0,
              "ticks": ""
             }
            },
            "marker": {
             "colorbar": {
              "outlinewidth": 0,
              "ticks": ""
             }
            },
            "type": "scatter3d"
           }
          ],
          "scattercarpet": [
           {
            "marker": {
             "colorbar": {
              "outlinewidth": 0,
              "ticks": ""
             }
            },
            "type": "scattercarpet"
           }
          ],
          "scattergeo": [
           {
            "marker": {
             "colorbar": {
              "outlinewidth": 0,
              "ticks": ""
             }
            },
            "type": "scattergeo"
           }
          ],
          "scattergl": [
           {
            "marker": {
             "colorbar": {
              "outlinewidth": 0,
              "ticks": ""
             }
            },
            "type": "scattergl"
           }
          ],
          "scattermapbox": [
           {
            "marker": {
             "colorbar": {
              "outlinewidth": 0,
              "ticks": ""
             }
            },
            "type": "scattermapbox"
           }
          ],
          "scatterpolar": [
           {
            "marker": {
             "colorbar": {
              "outlinewidth": 0,
              "ticks": ""
             }
            },
            "type": "scatterpolar"
           }
          ],
          "scatterpolargl": [
           {
            "marker": {
             "colorbar": {
              "outlinewidth": 0,
              "ticks": ""
             }
            },
            "type": "scatterpolargl"
           }
          ],
          "scatterternary": [
           {
            "marker": {
             "colorbar": {
              "outlinewidth": 0,
              "ticks": ""
             }
            },
            "type": "scatterternary"
           }
          ],
          "surface": [
           {
            "colorbar": {
             "outlinewidth": 0,
             "ticks": ""
            },
            "colorscale": [
             [
              0,
              "#0d0887"
             ],
             [
              0.1111111111111111,
              "#46039f"
             ],
             [
              0.2222222222222222,
              "#7201a8"
             ],
             [
              0.3333333333333333,
              "#9c179e"
             ],
             [
              0.4444444444444444,
              "#bd3786"
             ],
             [
              0.5555555555555556,
              "#d8576b"
             ],
             [
              0.6666666666666666,
              "#ed7953"
             ],
             [
              0.7777777777777778,
              "#fb9f3a"
             ],
             [
              0.8888888888888888,
              "#fdca26"
             ],
             [
              1,
              "#f0f921"
             ]
            ],
            "type": "surface"
           }
          ],
          "table": [
           {
            "cells": {
             "fill": {
              "color": "#EBF0F8"
             },
             "line": {
              "color": "white"
             }
            },
            "header": {
             "fill": {
              "color": "#C8D4E3"
             },
             "line": {
              "color": "white"
             }
            },
            "type": "table"
           }
          ]
         },
         "layout": {
          "annotationdefaults": {
           "arrowcolor": "#2a3f5f",
           "arrowhead": 0,
           "arrowwidth": 1
          },
          "autotypenumbers": "strict",
          "coloraxis": {
           "colorbar": {
            "outlinewidth": 0,
            "ticks": ""
           }
          },
          "colorscale": {
           "diverging": [
            [
             0,
             "#8e0152"
            ],
            [
             0.1,
             "#c51b7d"
            ],
            [
             0.2,
             "#de77ae"
            ],
            [
             0.3,
             "#f1b6da"
            ],
            [
             0.4,
             "#fde0ef"
            ],
            [
             0.5,
             "#f7f7f7"
            ],
            [
             0.6,
             "#e6f5d0"
            ],
            [
             0.7,
             "#b8e186"
            ],
            [
             0.8,
             "#7fbc41"
            ],
            [
             0.9,
             "#4d9221"
            ],
            [
             1,
             "#276419"
            ]
           ],
           "sequential": [
            [
             0,
             "#0d0887"
            ],
            [
             0.1111111111111111,
             "#46039f"
            ],
            [
             0.2222222222222222,
             "#7201a8"
            ],
            [
             0.3333333333333333,
             "#9c179e"
            ],
            [
             0.4444444444444444,
             "#bd3786"
            ],
            [
             0.5555555555555556,
             "#d8576b"
            ],
            [
             0.6666666666666666,
             "#ed7953"
            ],
            [
             0.7777777777777778,
             "#fb9f3a"
            ],
            [
             0.8888888888888888,
             "#fdca26"
            ],
            [
             1,
             "#f0f921"
            ]
           ],
           "sequentialminus": [
            [
             0,
             "#0d0887"
            ],
            [
             0.1111111111111111,
             "#46039f"
            ],
            [
             0.2222222222222222,
             "#7201a8"
            ],
            [
             0.3333333333333333,
             "#9c179e"
            ],
            [
             0.4444444444444444,
             "#bd3786"
            ],
            [
             0.5555555555555556,
             "#d8576b"
            ],
            [
             0.6666666666666666,
             "#ed7953"
            ],
            [
             0.7777777777777778,
             "#fb9f3a"
            ],
            [
             0.8888888888888888,
             "#fdca26"
            ],
            [
             1,
             "#f0f921"
            ]
           ]
          },
          "colorway": [
           "#636efa",
           "#EF553B",
           "#00cc96",
           "#ab63fa",
           "#FFA15A",
           "#19d3f3",
           "#FF6692",
           "#B6E880",
           "#FF97FF",
           "#FECB52"
          ],
          "font": {
           "color": "#2a3f5f"
          },
          "geo": {
           "bgcolor": "white",
           "lakecolor": "white",
           "landcolor": "#E5ECF6",
           "showlakes": true,
           "showland": true,
           "subunitcolor": "white"
          },
          "hoverlabel": {
           "align": "left"
          },
          "hovermode": "closest",
          "mapbox": {
           "style": "light"
          },
          "paper_bgcolor": "white",
          "plot_bgcolor": "#E5ECF6",
          "polar": {
           "angularaxis": {
            "gridcolor": "white",
            "linecolor": "white",
            "ticks": ""
           },
           "bgcolor": "#E5ECF6",
           "radialaxis": {
            "gridcolor": "white",
            "linecolor": "white",
            "ticks": ""
           }
          },
          "scene": {
           "xaxis": {
            "backgroundcolor": "#E5ECF6",
            "gridcolor": "white",
            "gridwidth": 2,
            "linecolor": "white",
            "showbackground": true,
            "ticks": "",
            "zerolinecolor": "white"
           },
           "yaxis": {
            "backgroundcolor": "#E5ECF6",
            "gridcolor": "white",
            "gridwidth": 2,
            "linecolor": "white",
            "showbackground": true,
            "ticks": "",
            "zerolinecolor": "white"
           },
           "zaxis": {
            "backgroundcolor": "#E5ECF6",
            "gridcolor": "white",
            "gridwidth": 2,
            "linecolor": "white",
            "showbackground": true,
            "ticks": "",
            "zerolinecolor": "white"
           }
          },
          "shapedefaults": {
           "line": {
            "color": "#2a3f5f"
           }
          },
          "ternary": {
           "aaxis": {
            "gridcolor": "white",
            "linecolor": "white",
            "ticks": ""
           },
           "baxis": {
            "gridcolor": "white",
            "linecolor": "white",
            "ticks": ""
           },
           "bgcolor": "#E5ECF6",
           "caxis": {
            "gridcolor": "white",
            "linecolor": "white",
            "ticks": ""
           }
          },
          "title": {
           "x": 0.05
          },
          "xaxis": {
           "automargin": true,
           "gridcolor": "white",
           "linecolor": "white",
           "ticks": "",
           "title": {
            "standoff": 15
           },
           "zerolinecolor": "white",
           "zerolinewidth": 2
          },
          "yaxis": {
           "automargin": true,
           "gridcolor": "white",
           "linecolor": "white",
           "ticks": "",
           "title": {
            "standoff": 15
           },
           "zerolinecolor": "white",
           "zerolinewidth": 2
          }
         }
        },
        "title": {
         "text": "Team,type of player and prices"
        },
        "width": 1000
       }
      }
     },
     "metadata": {},
     "output_type": "display_data"
    }
   ],
   "source": [
    "fig=px.sunburst(data,path=['Team','Type','Player Name','Price Cr'],title=\"Team,type of player and prices\",\n",
    "                width=1000,height=1000)\n",
    "fig.show()"
   ]
  },
  {
   "cell_type": "code",
   "execution_count": null,
   "metadata": {},
   "outputs": [],
   "source": []
  }
 ],
 "metadata": {
  "kernelspec": {
   "display_name": "Python 3",
   "language": "python",
   "name": "python3"
  },
  "language_info": {
   "codemirror_mode": {
    "name": "ipython",
    "version": 3
   },
   "file_extension": ".py",
   "mimetype": "text/x-python",
   "name": "python",
   "nbconvert_exporter": "python",
   "pygments_lexer": "ipython3",
   "version": "3.11.2"
  },
  "orig_nbformat": 4,
  "vscode": {
   "interpreter": {
    "hash": "108095e740c160118120ad5e22811b4aca9f414a6f3c55c969835bc2c10848d1"
   }
  }
 },
 "nbformat": 4,
 "nbformat_minor": 2
}
